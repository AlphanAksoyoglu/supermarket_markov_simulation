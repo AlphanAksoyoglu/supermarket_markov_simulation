{
 "cells": [
  {
   "cell_type": "code",
   "execution_count": 8,
   "metadata": {},
   "outputs": [],
   "source": [
    "import pandas as pd\n",
    "import os\n",
    "import sys\n",
    "from calculation_library import construct_freq_df, generate_markov_matrix"
   ]
  },
  {
   "cell_type": "markdown",
   "metadata": {},
   "source": [
    "### Get the Raw Data"
   ]
  },
  {
   "cell_type": "code",
   "execution_count": null,
   "metadata": {},
   "outputs": [],
   "source": [
    "# Inserting the root folder to current path so that we can access data folder and the calculation_library\n",
    "# sys.path.insert(0, '../')\n",
    "\n",
    "days = ['monday','tuesday','wednesday','thursday','friday']\n",
    "\n",
    "DATA_PATH = '../data/market_data/'\n",
    "OUT_PATH = '../data/generated_matrices/'\n",
    "\n",
    "#collect raw data to a dictionary of dataframes, e.g. df_monday <== monday.csv \n",
    "frames = {}\n",
    "for day in days:\n",
    "    frames[f'df_{day}'] = pd.read_csv(f'{DATA_PATH}{day}.csv',dtype={'timestamp':str}, sep=';')\n",
    "    #locals()[f'df_{day}'] = pd.read_csv(f'{DATA_PATH}{day}.csv',dtype={'timestamp':str}, sep=';')\n",
    "\n"
   ]
  },
  {
   "cell_type": "markdown",
   "metadata": {},
   "source": [
    "### Construct Frequency Frames\n",
    "\n",
    "This one takes a bit of time to run ~seconds, this is due to pd.concat(), it will be taken out of the loop\n",
    "\n"
   ]
  },
  {
   "cell_type": "code",
   "execution_count": null,
   "metadata": {},
   "outputs": [],
   "source": [
    "#construct frequency frames and store in a dictionary with the similar naming convention ff_monday <== monday_freqs, ff_week <== whole week\n",
    "freq_frames = {}\n",
    "ff_week = pd.DataFrame()\n",
    "\n",
    "for day in days:\n",
    "    \n",
    "    freq_frames[f'ff_{day}'] = construct_freq_df(frames[f'df_{day}'])\n",
    "    \n",
    "    #also create a complete table for the whole week\n",
    "    #POTENTIAL BUG: concat should be mathematically sound for  matrix calculation, but might need a retest \n",
    "    ff_week = pd.concat([ff_week,freq_frames[f'ff_{day}']])\n",
    "\n",
    "\n",
    "freq_frames;"
   ]
  },
  {
   "cell_type": "markdown",
   "metadata": {},
   "source": [
    "### Construct Markov Matrices\n",
    "\n",
    "Transition Probabilities are from Column -> Row, column sum should add to 1"
   ]
  },
  {
   "cell_type": "code",
   "execution_count": null,
   "metadata": {},
   "outputs": [],
   "source": [
    "# Calculate the Markov Transition matrices for each day and store in a dictionary, similar naming convention mm_monday <== monday_markov_matrix, mm_week <== whole week\n",
    "markov_frames = {}\n",
    "for day in days:\n",
    "    markov_frames[f'mm_{day}'] = generate_markov_matrix(freq_frames[f'ff_{day}']) \n",
    "# Generate and add the weekly markov matrix here \n",
    "mm_week = generate_markov_matrix(ff_week)   \n",
    "markov_frames['mm_week'] = mm_week\n",
    "\n",
    "markov_frames;\n",
    "\n"
   ]
  },
  {
   "cell_type": "markdown",
   "metadata": {},
   "source": [
    "### Write out the Markov Matrices as csv for re-use"
   ]
  },
  {
   "cell_type": "code",
   "execution_count": null,
   "metadata": {},
   "outputs": [],
   "source": [
    "#Finally write the matrices out to data folder\n",
    "for key, value in markov_frames.items():\n",
    "    value.to_csv(f'{OUT_PATH}{key}.csv')b"
   ]
  }
 ],
 "metadata": {
  "interpreter": {
   "hash": "4524b0037f9ecdaee829ebd198f7ed2421c4a6bc5b28397f919fcb352226d384"
  },
  "kernelspec": {
   "display_name": "Python 3",
   "language": "python",
   "name": "python3"
  },
  "language_info": {
   "codemirror_mode": {
    "name": "ipython",
    "version": 3
   },
   "file_extension": ".py",
   "mimetype": "text/x-python",
   "name": "python",
   "nbconvert_exporter": "python",
   "pygments_lexer": "ipython3",
   "version": "3.8.5"
  }
 },
 "nbformat": 4,
 "nbformat_minor": 4
}
