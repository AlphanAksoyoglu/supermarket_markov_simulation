{
 "metadata": {
  "language_info": {
   "codemirror_mode": {
    "name": "ipython",
    "version": 3
   },
   "file_extension": ".py",
   "mimetype": "text/x-python",
   "name": "python",
   "nbconvert_exporter": "python",
   "pygments_lexer": "ipython3",
   "version": "3.8.5-final"
  },
  "orig_nbformat": 2,
  "kernelspec": {
   "name": "python3",
   "display_name": "Python 3.8.5 64-bit ('base': conda)",
   "metadata": {
    "interpreter": {
     "hash": "eb19016addec7903612eb7f2c8027c2e302a8a3eca1f00b606d91e59d3361fa6"
    }
   }
  }
 },
 "nbformat": 4,
 "nbformat_minor": 2,
 "cells": [
  {
   "cell_type": "code",
   "execution_count": 38,
   "metadata": {},
   "outputs": [],
   "source": [
    "import pandas as pd\n",
    "import numpy as np\n",
    "from numpy import genfromtxt\n",
    "import csv"
   ]
  },
  {
   "source": [
    "---\n",
    "### 🟩 Monte-Carlo-Markov-Chain\n",
    "\n",
    "Write a Customer class that represents a single customer in the supermarket.\n",
    "\n",
    "Uses a transition probability matrix to simulate the journey of a single customer through the market. Use a Markov model to represent the state of a customer. Use one-minute time intervals for the transitions.\n",
    "\n",
    "Once a customer reaches the checkout, consider them churned – do not simulate them any longer.\n",
    "\n",
    "As attributes, the class should take in an id, a transition probability matrix (which you extracted earlier from the Data Analysis section) and an initial state.\n",
    "\n",
    "---"
   ],
   "cell_type": "markdown",
   "metadata": {}
  },
  {
   "cell_type": "code",
   "execution_count": 7,
   "metadata": {},
   "outputs": [
    {
     "output_type": "execute_result",
     "data": {
      "text/plain": [
       "after   checkout     dairy    drinks     fruit    spices\n",
       "dairy   0.088800  0.744772  0.062446  0.051561  0.052421\n",
       "drinks  0.208109  0.011236  0.610650  0.090865  0.079140\n",
       "entry   0.000000  0.284727  0.160332  0.359364  0.195577\n",
       "fruit   0.205168  0.088097  0.050901  0.608066  0.047768\n",
       "spices  0.144372  0.191680  0.176998  0.097064  0.389886"
      ],
      "text/html": "<div>\n<style scoped>\n    .dataframe tbody tr th:only-of-type {\n        vertical-align: middle;\n    }\n\n    .dataframe tbody tr th {\n        vertical-align: top;\n    }\n\n    .dataframe thead th {\n        text-align: right;\n    }\n</style>\n<table border=\"1\" class=\"dataframe\">\n  <thead>\n    <tr style=\"text-align: right;\">\n      <th>after</th>\n      <th>checkout</th>\n      <th>dairy</th>\n      <th>drinks</th>\n      <th>fruit</th>\n      <th>spices</th>\n    </tr>\n  </thead>\n  <tbody>\n    <tr>\n      <th>dairy</th>\n      <td>0.088800</td>\n      <td>0.744772</td>\n      <td>0.062446</td>\n      <td>0.051561</td>\n      <td>0.052421</td>\n    </tr>\n    <tr>\n      <th>drinks</th>\n      <td>0.208109</td>\n      <td>0.011236</td>\n      <td>0.610650</td>\n      <td>0.090865</td>\n      <td>0.079140</td>\n    </tr>\n    <tr>\n      <th>entry</th>\n      <td>0.000000</td>\n      <td>0.284727</td>\n      <td>0.160332</td>\n      <td>0.359364</td>\n      <td>0.195577</td>\n    </tr>\n    <tr>\n      <th>fruit</th>\n      <td>0.205168</td>\n      <td>0.088097</td>\n      <td>0.050901</td>\n      <td>0.608066</td>\n      <td>0.047768</td>\n    </tr>\n    <tr>\n      <th>spices</th>\n      <td>0.144372</td>\n      <td>0.191680</td>\n      <td>0.176998</td>\n      <td>0.097064</td>\n      <td>0.389886</td>\n    </tr>\n  </tbody>\n</table>\n</div>"
     },
     "metadata": {},
     "execution_count": 7
    }
   ],
   "source": [
    "matrix_monday = pd.read_csv('../data/mm_monday.csv', index_col = 0).T\n",
    "matrix_monday"
   ]
  },
  {
   "cell_type": "code",
   "execution_count": 34,
   "metadata": {},
   "outputs": [
    {
     "output_type": "execute_result",
     "data": {
      "text/plain": [
       "array([[0.08879977, 0.74477227, 0.06244629, 0.05156116, 0.05242051],\n",
       "       [0.20810943, 0.01123596, 0.61064973, 0.09086468, 0.07914021],\n",
       "       [0.        , 0.28472702, 0.16033172, 0.3593642 , 0.19557706],\n",
       "       [0.20516836, 0.0880971 , 0.05090055, 0.60806578, 0.04776821],\n",
       "       [0.14437194, 0.19168026, 0.17699837, 0.09706362, 0.38988581]])"
      ]
     },
     "metadata": {},
     "execution_count": 34
    }
   ],
   "source": [
    "matrix_monday = np.array(matrix_monday)\n",
    "matrix_monday"
   ]
  },
  {
   "source": [
    "class Customer:\n",
    "\n",
    "   def __init__(self, id, state, transition_mat):\n",
    "      self.id = id\n",
    "      self.state = state\n",
    "      self.transition_mat = transition_mat\n",
    "\n",
    "   def __repr__(self):\n",
    "      \"\"\"\n",
    "      Returns a csv string for that customer.\n",
    "      \"\"\"\n",
    "      return f'{self.id};{self.state}'\n",
    "\n",
    "   def is_active(self):\n",
    "      \"\"\"\n",
    "      Returns True if the customer has not reached the checkout\n",
    "      for the second time yet, False otherwise.\n",
    "      \"\"\"\n",
    "      if self.state == 'checkout':\n",
    "         return True \n",
    "      if self.state != 'checkout':\n",
    "         return False \n",
    "\n",
    "   def next_state(self):\n",
    "      \"\"\"\n",
    "      Propagates the customer to the next state\n",
    "      using a weighted random choice from the transition probabilities\n",
    "      conditional on the current state.\n",
    "      Returns nothing.\n",
    "      \"\"\"\n",
    "      # Below are just dummy probas for testing purposes\n",
    "      #self.state = np.random.choice(['Spices', 'Drinks', 'Fruits', 'Dairy', 'Checkout'], p=[0.2, 0.2, 0.1, 0.2, 0.3])\n",
    "\n",
    "      dairy_array = self.transition_mat[0,:]\n",
    "      drinks_array = self.transition_mat[1,:]\n",
    "      entry_array = self.transition_mat[2,:]\n",
    "      fruit_array = self.transition_mat[3,:]\n",
    "      spices_array = self.transition_mat[4,:]\n",
    "\n",
    "      if self.state == 'dairy':\n",
    "         self.state = np.random.choice(['checkout', 'dairy', 'drinks', 'fruit', 'spices'], p=dairy_array)\n",
    "      if self.state == 'drinks':\n",
    "         self.state = np.random.choice(['checkout', 'dairy', 'drinks', 'fruit', 'spices'], p=drinks_array)\n",
    "      if self.state == 'entry':\n",
    "         self.state = np.random.choice(['checkout', 'dairy', 'drinks', 'fruit', 'spices'], p=entry_array)\n",
    "      if self.state == 'fruit':\n",
    "         self.state = np.random.choice(['checkout', 'dairy', 'drinks', 'fruit', 'spices'], p=fruit_array)\n",
    "      if self.state == 'spices':\n",
    "         self.state = np.random.choice(['checkout', 'dairy', 'drinks', 'fruit', 'spices'], p=spices_array)"
   ],
   "cell_type": "code",
   "metadata": {},
   "execution_count": 35,
   "outputs": []
  },
  {
   "cell_type": "code",
   "execution_count": 26,
   "metadata": {},
   "outputs": [
    {
     "output_type": "execute_result",
     "data": {
      "text/plain": [
       "array([[0.08879977, 0.74477227, 0.06244629, 0.05156116, 0.05242051],\n",
       "       [0.20810943, 0.01123596, 0.61064973, 0.09086468, 0.07914021],\n",
       "       [0.        , 0.28472702, 0.16033172, 0.3593642 , 0.19557706],\n",
       "       [0.20516836, 0.0880971 , 0.05090055, 0.60806578, 0.04776821],\n",
       "       [0.14437194, 0.19168026, 0.17699837, 0.09706362, 0.38988581]])"
      ]
     },
     "metadata": {},
     "execution_count": 26
    }
   ],
   "source": [
    "matrix_monday"
   ]
  },
  {
   "cell_type": "code",
   "execution_count": 27,
   "metadata": {},
   "outputs": [
    {
     "output_type": "execute_result",
     "data": {
      "text/plain": [
       "(5, 5)"
      ]
     },
     "metadata": {},
     "execution_count": 27
    }
   ],
   "source": [
    "matrix_monday.shape"
   ]
  },
  {
   "cell_type": "code",
   "execution_count": 28,
   "metadata": {},
   "outputs": [
    {
     "output_type": "execute_result",
     "data": {
      "text/plain": [
       "array([0.20810943, 0.01123596, 0.61064973, 0.09086468, 0.07914021])"
      ]
     },
     "metadata": {},
     "execution_count": 28
    }
   ],
   "source": [
    "matrix_monday[1,:]"
   ]
  },
  {
   "cell_type": "code",
   "execution_count": 29,
   "metadata": {},
   "outputs": [
    {
     "output_type": "execute_result",
     "data": {
      "text/plain": [
       "9999;spices"
      ]
     },
     "metadata": {},
     "execution_count": 29
    }
   ],
   "source": [
    "c9999 = Customer(9999, 'spices', matrix_monday)\n",
    "c9999.next_state()\n",
    "c9999"
   ]
  },
  {
   "cell_type": "code",
   "execution_count": 33,
   "metadata": {},
   "outputs": [
    {
     "output_type": "stream",
     "name": "stdout",
     "text": [
      "1;spices\n2;spices\n3;dairy\n4;fruit\n5;drinks\n6;dairy\n7;checkout\n8;drinks\n9;spices\n10;spices\n11;spices\n12;drinks\n13;drinks\n14;checkout\n15;spices\n16;spices\n17;drinks\n18;checkout\n19;spices\n20;fruit\n"
     ]
    }
   ],
   "source": [
    "for c in range (1,21):\n",
    "    customer = Customer(c, 'spices', matrix_monday)\n",
    "    customer.next_state()\n",
    "    print(customer)"
   ]
  },
  {
   "cell_type": "code",
   "execution_count": null,
   "metadata": {},
   "outputs": [],
   "source": []
  }
 ]
}