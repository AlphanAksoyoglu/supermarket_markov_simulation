{
 "cells": [
  {
   "cell_type": "markdown",
   "metadata": {},
   "source": [
    "## 3. Monte-Carlo-Markov-Chain (MCMC)"
   ]
  },
  {
   "cell_type": "code",
   "execution_count": 1,
   "metadata": {},
   "outputs": [],
   "source": [
    "import numpy as np\n",
    "import pandas as pd"
   ]
  },
  {
   "cell_type": "raw",
   "metadata": {},
   "source": [
    "# Reading the data as a function\n",
    "\n",
    "def get_transition_probability_matrix():\n",
    "    \"\"\"Reading the transition probability matrix\"\"\"\n",
    "    trasition_matrix = pd.read_csv('../data/mm_monday.csv', index_col = 0).to_numpy()\n",
    "    return trasition_matrix"
   ]
  },
  {
   "cell_type": "code",
   "execution_count": 2,
   "metadata": {},
   "outputs": [
    {
     "data": {
      "text/html": [
       "<div>\n",
       "<style scoped>\n",
       "    .dataframe tbody tr th:only-of-type {\n",
       "        vertical-align: middle;\n",
       "    }\n",
       "\n",
       "    .dataframe tbody tr th {\n",
       "        vertical-align: top;\n",
       "    }\n",
       "\n",
       "    .dataframe thead th {\n",
       "        text-align: right;\n",
       "    }\n",
       "</style>\n",
       "<table border=\"1\" class=\"dataframe\">\n",
       "  <thead>\n",
       "    <tr style=\"text-align: right;\">\n",
       "      <th>after</th>\n",
       "      <th>checkout</th>\n",
       "      <th>dairy</th>\n",
       "      <th>drinks</th>\n",
       "      <th>fruit</th>\n",
       "      <th>spices</th>\n",
       "    </tr>\n",
       "  </thead>\n",
       "  <tbody>\n",
       "    <tr>\n",
       "      <th>dairy</th>\n",
       "      <td>0.088800</td>\n",
       "      <td>0.744772</td>\n",
       "      <td>0.062446</td>\n",
       "      <td>0.051561</td>\n",
       "      <td>0.052421</td>\n",
       "    </tr>\n",
       "    <tr>\n",
       "      <th>drinks</th>\n",
       "      <td>0.208109</td>\n",
       "      <td>0.011236</td>\n",
       "      <td>0.610650</td>\n",
       "      <td>0.090865</td>\n",
       "      <td>0.079140</td>\n",
       "    </tr>\n",
       "    <tr>\n",
       "      <th>entry</th>\n",
       "      <td>0.000000</td>\n",
       "      <td>0.284727</td>\n",
       "      <td>0.160332</td>\n",
       "      <td>0.359364</td>\n",
       "      <td>0.195577</td>\n",
       "    </tr>\n",
       "    <tr>\n",
       "      <th>fruit</th>\n",
       "      <td>0.205168</td>\n",
       "      <td>0.088097</td>\n",
       "      <td>0.050901</td>\n",
       "      <td>0.608066</td>\n",
       "      <td>0.047768</td>\n",
       "    </tr>\n",
       "    <tr>\n",
       "      <th>spices</th>\n",
       "      <td>0.144372</td>\n",
       "      <td>0.191680</td>\n",
       "      <td>0.176998</td>\n",
       "      <td>0.097064</td>\n",
       "      <td>0.389886</td>\n",
       "    </tr>\n",
       "  </tbody>\n",
       "</table>\n",
       "</div>"
      ],
      "text/plain": [
       "after   checkout     dairy    drinks     fruit    spices\n",
       "dairy   0.088800  0.744772  0.062446  0.051561  0.052421\n",
       "drinks  0.208109  0.011236  0.610650  0.090865  0.079140\n",
       "entry   0.000000  0.284727  0.160332  0.359364  0.195577\n",
       "fruit   0.205168  0.088097  0.050901  0.608066  0.047768\n",
       "spices  0.144372  0.191680  0.176998  0.097064  0.389886"
      ]
     },
     "execution_count": 2,
     "metadata": {},
     "output_type": "execute_result"
    }
   ],
   "source": [
    "# Reading the data\n",
    "matrix_monday = pd.read_csv('../data/mm_monday.csv', index_col = 0).T\n",
    "matrix_monday "
   ]
  },
  {
   "cell_type": "code",
   "execution_count": 3,
   "metadata": {},
   "outputs": [
    {
     "data": {
      "text/plain": [
       "array([[0.08879977, 0.74477227, 0.06244629, 0.05156116, 0.05242051],\n",
       "       [0.20810943, 0.01123596, 0.61064973, 0.09086468, 0.07914021],\n",
       "       [0.        , 0.28472702, 0.16033172, 0.3593642 , 0.19557706],\n",
       "       [0.20516836, 0.0880971 , 0.05090055, 0.60806578, 0.04776821],\n",
       "       [0.14437194, 0.19168026, 0.17699837, 0.09706362, 0.38988581]])"
      ]
     },
     "execution_count": 3,
     "metadata": {},
     "output_type": "execute_result"
    }
   ],
   "source": [
    "matrix_monday = np.array(matrix_monday)\n",
    "matrix_monday"
   ]
  },
  {
   "cell_type": "code",
   "execution_count": 4,
   "metadata": {},
   "outputs": [
    {
     "data": {
      "text/plain": [
       "2"
      ]
     },
     "execution_count": 4,
     "metadata": {},
     "output_type": "execute_result"
    }
   ],
   "source": [
    "matrix_monday.ndim"
   ]
  },
  {
   "cell_type": "code",
   "execution_count": 5,
   "metadata": {},
   "outputs": [],
   "source": [
    "class Customer:\n",
    "\n",
    "   def __init__(self, id, state, transition_mat):\n",
    "     \n",
    "    self.id = id\n",
    "    self.state = state\n",
    "    self.transition_mat = transition_mat\n",
    "\n",
    "   def __repr__(self):\n",
    "      \"\"\"\n",
    "      Returns a csv string for that customer.\n",
    "      \"\"\"\n",
    "    #return f'<Customer({self.name}, {self.location})>'\n",
    "      return f'Customer {self.id} is in the {self.state} section.'\n",
    "\n",
    "   def is_active(self):\n",
    "      \"\"\"\n",
    "      Returns True if the customer has not reached the checkout\n",
    "      for the second time yet, False otherwise.\n",
    "      \"\"\"\n",
    "      for i in self.id:\n",
    "            if i != 'checkout':\n",
    "                True\n",
    "            else:\n",
    "                False\n",
    "\n",
    "   def next_state(self):\n",
    "      \"\"\"\n",
    "      Propagates the customer to the next state\n",
    "      using a weighted random choice from the transition probabilities\n",
    "      conditional on the  current state.\n",
    "      Returns nothing.\n",
    "      \"\"\"\n",
    "\n",
    "      dairy_array = self.transition_mat[0, :]\n",
    "      drinks_array = self.transition_mat[1, :]\n",
    "      entry_array = self.transition_mat[2, :]\n",
    "      fruit_array = self.transition_mat[3, :]\n",
    "      spices_array = self.transition_mat[4, :]\n",
    "    \n",
    "\n",
    "      if self.state == 'dairy':\n",
    "         self.state = np.random.choice(['checkout', 'dairy', 'drinks', 'fruit', 'spices'], p=dairy_array)\n",
    "      if self.state == 'drinks':\n",
    "         self.state = np.random.choice(['checkout', 'dairy', 'drinks', 'fruit', 'spices'], p=drinks_array)\n",
    "      if self.state == 'entry':\n",
    "         self.state = np.random.choice(['checkout', 'dairy', 'drinks', 'fruit', 'spices'], p=entry_array)\n",
    "      if self.state == 'fruit':\n",
    "         self.state = np.random.choice(['checkout', 'dairy', 'drinks', 'fruit', 'spices'], p=fruit_array)\n",
    "      if self.state == 'spices':\n",
    "         self.state = np.random.choice(['checkout', 'dairy', 'drinks', 'fruit', 'spices'], p=spices_array)\n"
   ]
  },
  {
   "cell_type": "code",
   "execution_count": 13,
   "metadata": {},
   "outputs": [
    {
     "data": {
      "text/plain": [
       "Customer 1 is in the checkout section."
      ]
     },
     "execution_count": 13,
     "metadata": {},
     "output_type": "execute_result"
    }
   ],
   "source": [
    "c1 = Customer(1, 'fruit', matrix_monday)\n",
    "c1.next_state()\n",
    "c1"
   ]
  },
  {
   "cell_type": "code",
   "execution_count": 14,
   "metadata": {},
   "outputs": [
    {
     "data": {
      "text/plain": [
       "'checkout'"
      ]
     },
     "execution_count": 14,
     "metadata": {},
     "output_type": "execute_result"
    }
   ],
   "source": [
    "c1.state"
   ]
  },
  {
   "cell_type": "code",
   "execution_count": 15,
   "metadata": {},
   "outputs": [
    {
     "data": {
      "text/plain": [
       "1"
      ]
     },
     "execution_count": 15,
     "metadata": {},
     "output_type": "execute_result"
    }
   ],
   "source": [
    "c1.id"
   ]
  }
 ],
 "metadata": {
  "kernelspec": {
   "display_name": "Python 3",
   "language": "python",
   "name": "python3"
  },
  "language_info": {
   "codemirror_mode": {
    "name": "ipython",
    "version": 3
   },
   "file_extension": ".py",
   "mimetype": "text/x-python",
   "name": "python",
   "nbconvert_exporter": "python",
   "pygments_lexer": "ipython3",
   "version": "3.8.5"
  }
 },
 "nbformat": 4,
 "nbformat_minor": 4
}
