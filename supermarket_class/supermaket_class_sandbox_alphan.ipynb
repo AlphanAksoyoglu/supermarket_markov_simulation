{
 "metadata": {
  "language_info": {
   "codemirror_mode": {
    "name": "ipython",
    "version": 3
   },
   "file_extension": ".py",
   "mimetype": "text/x-python",
   "name": "python",
   "nbconvert_exporter": "python",
   "pygments_lexer": "ipython3",
   "version": "3.8.5-final"
  },
  "orig_nbformat": 2,
  "kernelspec": {
   "name": "python3",
   "display_name": "Python 3.8.5 64-bit ('base': conda)",
   "metadata": {
    "interpreter": {
     "hash": "ccf6bd6ccc18564b41aa2c475b9f9ab0d891c8fb870d48e8f97a3f7d59afa688"
    }
   }
  }
 },
 "nbformat": 4,
 "nbformat_minor": 2,
 "cells": [
  {
   "source": [
    "# Demonstrating the SuperMarket Class\n",
    "\n",
    "### First import libraries"
   ],
   "cell_type": "markdown",
   "metadata": {}
  },
  {
   "cell_type": "code",
   "execution_count": 8,
   "metadata": {},
   "outputs": [],
   "source": [
    "import sys\n",
    "sys.path.insert(0, '../')\n",
    "from libraryof4 import Customer, SuperMarket, CustomerOld\n",
    "import pandas as pd\n",
    "import datetime\n",
    "import numpy as np"
   ]
  },
  {
   "source": [
    "### We get our desired transition matrix"
   ],
   "cell_type": "markdown",
   "metadata": {}
  },
  {
   "cell_type": "code",
   "execution_count": 2,
   "metadata": {},
   "outputs": [],
   "source": [
    "matrix_monday = pd.read_csv('../data/mm_monday.csv', index_col = 0).T\n",
    "matrix_monday = np.array(matrix_monday)"
   ]
  },
  {
   "source": [
    "### We initiate a market object from the class, it takes the transition matrix as a parameter"
   ],
   "cell_type": "markdown",
   "metadata": {}
  },
  {
   "cell_type": "code",
   "execution_count": 3,
   "metadata": {},
   "outputs": [],
   "source": [
    "market = SuperMarket(matrix_monday)"
   ]
  },
  {
   "source": [
    "### The Market has a simulate method which simulates customers\n",
    "\n",
    "We pass the initial (total) number of customers, the open time and the close time of the market"
   ],
   "cell_type": "markdown",
   "metadata": {}
  },
  {
   "cell_type": "code",
   "execution_count": 4,
   "metadata": {},
   "outputs": [],
   "source": [
    "market.simulate(3,'8:00','15:00')"
   ]
  },
  {
   "source": [
    "While the market is running it has a `current_state` and a ``total_state` attribute, `current_state` is the state of the market at the current time and will be useful for an animation if we do that. `total_state` keeps track of the complete market state over time\n",
    "\n",
    "The number of customers in the market is constant if `n` customers leave we insert `n` customers\n",
    "\n",
    "The `current_state` and `total_state` is kept as numpy arrays, this makes it a little tedius but faster. We can also keep these as data frames but there is a risk will be slower"
   ],
   "cell_type": "markdown",
   "metadata": {}
  },
  {
   "source": [
    "### After a simulation finishes, we can access the `total_state` and see what happened over time, there is also a results() method which returns the `total_state` as a dataframe"
   ],
   "cell_type": "markdown",
   "metadata": {}
  },
  {
   "cell_type": "code",
   "execution_count": 5,
   "metadata": {},
   "outputs": [],
   "source": [
    "a = market.total_state"
   ]
  },
  {
   "cell_type": "code",
   "execution_count": 6,
   "metadata": {},
   "outputs": [
    {
     "output_type": "execute_result",
     "data": {
      "text/plain": [
       "                    customer_id customer_location\n",
       "1900-01-01 08:00:00           1             entry\n",
       "1900-01-01 08:00:00           2             entry\n",
       "1900-01-01 08:00:00           3             entry\n",
       "1900-01-01 08:01:00           1             dairy\n",
       "1900-01-01 08:01:00           2             dairy\n",
       "...                         ...               ...\n",
       "1900-01-01 14:59:00         145          checkout\n",
       "1900-01-01 14:59:00         147             entry\n",
       "1900-01-01 15:00:00         142             fruit\n",
       "1900-01-01 15:00:00         147             fruit\n",
       "1900-01-01 15:00:00         148             entry\n",
       "\n",
       "[1263 rows x 2 columns]"
      ],
      "text/html": "<div>\n<style scoped>\n    .dataframe tbody tr th:only-of-type {\n        vertical-align: middle;\n    }\n\n    .dataframe tbody tr th {\n        vertical-align: top;\n    }\n\n    .dataframe thead th {\n        text-align: right;\n    }\n</style>\n<table border=\"1\" class=\"dataframe\">\n  <thead>\n    <tr style=\"text-align: right;\">\n      <th></th>\n      <th>customer_id</th>\n      <th>customer_location</th>\n    </tr>\n  </thead>\n  <tbody>\n    <tr>\n      <th>1900-01-01 08:00:00</th>\n      <td>1</td>\n      <td>entry</td>\n    </tr>\n    <tr>\n      <th>1900-01-01 08:00:00</th>\n      <td>2</td>\n      <td>entry</td>\n    </tr>\n    <tr>\n      <th>1900-01-01 08:00:00</th>\n      <td>3</td>\n      <td>entry</td>\n    </tr>\n    <tr>\n      <th>1900-01-01 08:01:00</th>\n      <td>1</td>\n      <td>dairy</td>\n    </tr>\n    <tr>\n      <th>1900-01-01 08:01:00</th>\n      <td>2</td>\n      <td>dairy</td>\n    </tr>\n    <tr>\n      <th>...</th>\n      <td>...</td>\n      <td>...</td>\n    </tr>\n    <tr>\n      <th>1900-01-01 14:59:00</th>\n      <td>145</td>\n      <td>checkout</td>\n    </tr>\n    <tr>\n      <th>1900-01-01 14:59:00</th>\n      <td>147</td>\n      <td>entry</td>\n    </tr>\n    <tr>\n      <th>1900-01-01 15:00:00</th>\n      <td>142</td>\n      <td>fruit</td>\n    </tr>\n    <tr>\n      <th>1900-01-01 15:00:00</th>\n      <td>147</td>\n      <td>fruit</td>\n    </tr>\n    <tr>\n      <th>1900-01-01 15:00:00</th>\n      <td>148</td>\n      <td>entry</td>\n    </tr>\n  </tbody>\n</table>\n<p>1263 rows × 2 columns</p>\n</div>"
     },
     "metadata": {},
     "execution_count": 6
    }
   ],
   "source": [
    "market.results()"
   ]
  }
 ]
}