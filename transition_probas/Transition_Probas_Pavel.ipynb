{
 "metadata": {
  "language_info": {
   "codemirror_mode": {
    "name": "ipython",
    "version": 3
   },
   "file_extension": ".py",
   "mimetype": "text/x-python",
   "name": "python",
   "nbconvert_exporter": "python",
   "pygments_lexer": "ipython3",
   "version": "3.8.5-final"
  },
  "orig_nbformat": 2,
  "kernelspec": {
   "name": "python3",
   "display_name": "Python 3.8.5 64-bit ('base': conda)",
   "metadata": {
    "interpreter": {
     "hash": "eb19016addec7903612eb7f2c8027c2e302a8a3eca1f00b606d91e59d3361fa6"
    }
   }
  }
 },
 "nbformat": 4,
 "nbformat_minor": 2,
 "cells": [
  {
   "cell_type": "code",
   "execution_count": 1,
   "metadata": {},
   "outputs": [],
   "source": [
    "import pandas as pd"
   ]
  },
  {
   "cell_type": "code",
   "execution_count": 2,
   "metadata": {},
   "outputs": [],
   "source": [
    "df_mon = pd.read_csv('../data/monday.csv', sep=';', parse_dates=True)\n",
    "df_mon['timestamp'] = pd.to_datetime(df_mon['timestamp'])"
   ]
  },
  {
   "cell_type": "code",
   "execution_count": 3,
   "metadata": {},
   "outputs": [
    {
     "output_type": "execute_result",
     "data": {
      "text/plain": [
       "            timestamp  customer_no location\n",
       "0 2019-09-02 07:03:00            1    dairy\n",
       "1 2019-09-02 07:03:00            2    dairy"
      ],
      "text/html": "<div>\n<style scoped>\n    .dataframe tbody tr th:only-of-type {\n        vertical-align: middle;\n    }\n\n    .dataframe tbody tr th {\n        vertical-align: top;\n    }\n\n    .dataframe thead th {\n        text-align: right;\n    }\n</style>\n<table border=\"1\" class=\"dataframe\">\n  <thead>\n    <tr style=\"text-align: right;\">\n      <th></th>\n      <th>timestamp</th>\n      <th>customer_no</th>\n      <th>location</th>\n    </tr>\n  </thead>\n  <tbody>\n    <tr>\n      <th>0</th>\n      <td>2019-09-02 07:03:00</td>\n      <td>1</td>\n      <td>dairy</td>\n    </tr>\n    <tr>\n      <th>1</th>\n      <td>2019-09-02 07:03:00</td>\n      <td>2</td>\n      <td>dairy</td>\n    </tr>\n  </tbody>\n</table>\n</div>"
     },
     "metadata": {},
     "execution_count": 3
    }
   ],
   "source": [
    "df_mon.head(2)"
   ]
  },
  {
   "source": [
    "---\n",
    "### 🟩 Transition Probabilities\n",
    "\n",
    "We would like to analyze how customers switch between sections of the supermarket. Calculate and visualize the probability of transitions from section A to B by counting all observed transitions.\n",
    "\n",
    "---"
   ],
   "cell_type": "markdown",
   "metadata": {}
  },
  {
   "cell_type": "code",
   "execution_count": 48,
   "metadata": {},
   "outputs": [
    {
     "output_type": "execute_result",
     "data": {
      "text/plain": [
       "              timestamp  customer_no  location location_before  \\\n",
       "5   2019-09-02 07:04:00            6    spices        entrance   \n",
       "10  2019-09-02 07:05:00            6     dairy          spices   \n",
       "62  2019-09-02 07:17:00            6    spices           dairy   \n",
       "71  2019-09-02 07:18:00            6    drinks          spices   \n",
       "102 2019-09-02 07:25:00            6    spices          drinks   \n",
       "104 2019-09-02 07:26:00            6     dairy          spices   \n",
       "117 2019-09-02 07:27:00            6    spices           dairy   \n",
       "135 2019-09-02 07:29:00            6  checkout          spices   \n",
       "\n",
       "      timnestamp_before timnestamp_diff  \n",
       "5                   NaT             NaT  \n",
       "10  2019-09-02 07:04:00 0 days 00:01:00  \n",
       "62  2019-09-02 07:05:00 0 days 00:12:00  \n",
       "71  2019-09-02 07:17:00 0 days 00:01:00  \n",
       "102 2019-09-02 07:18:00 0 days 00:07:00  \n",
       "104 2019-09-02 07:25:00 0 days 00:01:00  \n",
       "117 2019-09-02 07:26:00 0 days 00:01:00  \n",
       "135 2019-09-02 07:27:00 0 days 00:02:00  "
      ],
      "text/html": "<div>\n<style scoped>\n    .dataframe tbody tr th:only-of-type {\n        vertical-align: middle;\n    }\n\n    .dataframe tbody tr th {\n        vertical-align: top;\n    }\n\n    .dataframe thead th {\n        text-align: right;\n    }\n</style>\n<table border=\"1\" class=\"dataframe\">\n  <thead>\n    <tr style=\"text-align: right;\">\n      <th></th>\n      <th>timestamp</th>\n      <th>customer_no</th>\n      <th>location</th>\n      <th>location_before</th>\n      <th>timnestamp_before</th>\n      <th>timnestamp_diff</th>\n    </tr>\n  </thead>\n  <tbody>\n    <tr>\n      <th>5</th>\n      <td>2019-09-02 07:04:00</td>\n      <td>6</td>\n      <td>spices</td>\n      <td>entrance</td>\n      <td>NaT</td>\n      <td>NaT</td>\n    </tr>\n    <tr>\n      <th>10</th>\n      <td>2019-09-02 07:05:00</td>\n      <td>6</td>\n      <td>dairy</td>\n      <td>spices</td>\n      <td>2019-09-02 07:04:00</td>\n      <td>0 days 00:01:00</td>\n    </tr>\n    <tr>\n      <th>62</th>\n      <td>2019-09-02 07:17:00</td>\n      <td>6</td>\n      <td>spices</td>\n      <td>dairy</td>\n      <td>2019-09-02 07:05:00</td>\n      <td>0 days 00:12:00</td>\n    </tr>\n    <tr>\n      <th>71</th>\n      <td>2019-09-02 07:18:00</td>\n      <td>6</td>\n      <td>drinks</td>\n      <td>spices</td>\n      <td>2019-09-02 07:17:00</td>\n      <td>0 days 00:01:00</td>\n    </tr>\n    <tr>\n      <th>102</th>\n      <td>2019-09-02 07:25:00</td>\n      <td>6</td>\n      <td>spices</td>\n      <td>drinks</td>\n      <td>2019-09-02 07:18:00</td>\n      <td>0 days 00:07:00</td>\n    </tr>\n    <tr>\n      <th>104</th>\n      <td>2019-09-02 07:26:00</td>\n      <td>6</td>\n      <td>dairy</td>\n      <td>spices</td>\n      <td>2019-09-02 07:25:00</td>\n      <td>0 days 00:01:00</td>\n    </tr>\n    <tr>\n      <th>117</th>\n      <td>2019-09-02 07:27:00</td>\n      <td>6</td>\n      <td>spices</td>\n      <td>dairy</td>\n      <td>2019-09-02 07:26:00</td>\n      <td>0 days 00:01:00</td>\n    </tr>\n    <tr>\n      <th>135</th>\n      <td>2019-09-02 07:29:00</td>\n      <td>6</td>\n      <td>checkout</td>\n      <td>spices</td>\n      <td>2019-09-02 07:27:00</td>\n      <td>0 days 00:02:00</td>\n    </tr>\n  </tbody>\n</table>\n</div>"
     },
     "metadata": {},
     "execution_count": 48
    }
   ],
   "source": [
    "df_mon_cust_6 = df_mon[df_mon[\"customer_no\"].isin([6])].copy()\n",
    "df_mon_cust_6['location_before'] = df_mon_cust_6['location'].shift(1).fillna('entrance')\n",
    "df_mon_cust_6['timnestamp_before'] = df_mon_cust_6['timestamp'].shift(1)\n",
    "df_mon_cust_6['timnestamp_diff'] = df_mon_cust_6['timestamp'] - df_mon_cust_6['timnestamp_before']\n",
    "df_mon_cust_6"
   ]
  },
  {
   "cell_type": "code",
   "execution_count": 49,
   "metadata": {},
   "outputs": [
    {
     "output_type": "execute_result",
     "data": {
      "text/plain": [
       "location_before  dairy  drinks  entrance  spices\n",
       "location                                        \n",
       "checkout           0.0     0.0       0.0    0.25\n",
       "dairy              0.0     0.0       0.0    0.50\n",
       "drinks             0.0     0.0       0.0    0.25\n",
       "spices             1.0     1.0       1.0    0.00"
      ],
      "text/html": "<div>\n<style scoped>\n    .dataframe tbody tr th:only-of-type {\n        vertical-align: middle;\n    }\n\n    .dataframe tbody tr th {\n        vertical-align: top;\n    }\n\n    .dataframe thead th {\n        text-align: right;\n    }\n</style>\n<table border=\"1\" class=\"dataframe\">\n  <thead>\n    <tr style=\"text-align: right;\">\n      <th>location_before</th>\n      <th>dairy</th>\n      <th>drinks</th>\n      <th>entrance</th>\n      <th>spices</th>\n    </tr>\n    <tr>\n      <th>location</th>\n      <th></th>\n      <th></th>\n      <th></th>\n      <th></th>\n    </tr>\n  </thead>\n  <tbody>\n    <tr>\n      <th>checkout</th>\n      <td>0.0</td>\n      <td>0.0</td>\n      <td>0.0</td>\n      <td>0.25</td>\n    </tr>\n    <tr>\n      <th>dairy</th>\n      <td>0.0</td>\n      <td>0.0</td>\n      <td>0.0</td>\n      <td>0.50</td>\n    </tr>\n    <tr>\n      <th>drinks</th>\n      <td>0.0</td>\n      <td>0.0</td>\n      <td>0.0</td>\n      <td>0.25</td>\n    </tr>\n    <tr>\n      <th>spices</th>\n      <td>1.0</td>\n      <td>1.0</td>\n      <td>1.0</td>\n      <td>0.00</td>\n    </tr>\n  </tbody>\n</table>\n</div>"
     },
     "metadata": {},
     "execution_count": 49
    }
   ],
   "source": [
    "pd.crosstab(df_mon_cust_6['location'], df_mon_cust_6['location_before'], normalize=1)"
   ]
  },
  {
   "source": [
    "---\n",
    "## 🟩 MC-Simulation\n",
    "\n",
    "Use your transition probability matrix to propagate the states of an idealized population. Assume that there are infinite customers, so you can consider a state distribution.\n",
    "\n",
    "---"
   ],
   "cell_type": "markdown",
   "metadata": {}
  },
  {
   "cell_type": "code",
   "execution_count": null,
   "metadata": {},
   "outputs": [],
   "source": []
  }
 ]
}