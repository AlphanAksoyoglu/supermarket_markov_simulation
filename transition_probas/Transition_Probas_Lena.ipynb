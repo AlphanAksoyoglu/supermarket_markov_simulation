{
 "cells": [
  {
   "cell_type": "markdown",
   "metadata": {},
   "source": [
    "## 2. Transition Probabilities"
   ]
  },
  {
   "cell_type": "code",
   "execution_count": 1,
   "metadata": {},
   "outputs": [],
   "source": [
    "import pandas as pd\n",
    "import datetime"
   ]
  },
  {
   "cell_type": "code",
   "execution_count": 2,
   "metadata": {},
   "outputs": [],
   "source": [
    "# Reading the data\n",
    "monday = pd.read_csv('../data/monday.csv', sep=';')"
   ]
  },
  {
   "cell_type": "code",
   "execution_count": 3,
   "metadata": {},
   "outputs": [],
   "source": [
    "monday['timestamp'] = pd.to_datetime(monday['timestamp'])"
   ]
  },
  {
   "cell_type": "code",
   "execution_count": 4,
   "metadata": {},
   "outputs": [],
   "source": [
    "# Sorting the data by customer_no and timestamp:\n",
    "#monday_location_by_time = monday.sort_values(by=['customer_no', 'timestamp'])\n",
    "#monday_location_by_time"
   ]
  },
  {
   "cell_type": "markdown",
   "metadata": {},
   "source": [
    "### For one customer:"
   ]
  },
  {
   "cell_type": "code",
   "execution_count": 7,
   "metadata": {},
   "outputs": [
    {
     "data": {
      "text/html": [
       "<div>\n",
       "<style scoped>\n",
       "    .dataframe tbody tr th:only-of-type {\n",
       "        vertical-align: middle;\n",
       "    }\n",
       "\n",
       "    .dataframe tbody tr th {\n",
       "        vertical-align: top;\n",
       "    }\n",
       "\n",
       "    .dataframe thead th {\n",
       "        text-align: right;\n",
       "    }\n",
       "</style>\n",
       "<table border=\"1\" class=\"dataframe\">\n",
       "  <thead>\n",
       "    <tr style=\"text-align: right;\">\n",
       "      <th></th>\n",
       "      <th>timestamp</th>\n",
       "      <th>customer_no</th>\n",
       "      <th>location</th>\n",
       "      <th>location_before</th>\n",
       "      <th>timestamp_before</th>\n",
       "      <th>diff_timestamp</th>\n",
       "    </tr>\n",
       "  </thead>\n",
       "  <tbody>\n",
       "    <tr>\n",
       "      <th>5</th>\n",
       "      <td>2019-09-02 07:04:00</td>\n",
       "      <td>6</td>\n",
       "      <td>spices</td>\n",
       "      <td>entrance</td>\n",
       "      <td>NaT</td>\n",
       "      <td>NaT</td>\n",
       "    </tr>\n",
       "    <tr>\n",
       "      <th>10</th>\n",
       "      <td>2019-09-02 07:05:00</td>\n",
       "      <td>6</td>\n",
       "      <td>dairy</td>\n",
       "      <td>spices</td>\n",
       "      <td>2019-09-02 07:04:00</td>\n",
       "      <td>0 days 00:01:00</td>\n",
       "    </tr>\n",
       "    <tr>\n",
       "      <th>62</th>\n",
       "      <td>2019-09-02 07:17:00</td>\n",
       "      <td>6</td>\n",
       "      <td>spices</td>\n",
       "      <td>dairy</td>\n",
       "      <td>2019-09-02 07:05:00</td>\n",
       "      <td>0 days 00:12:00</td>\n",
       "    </tr>\n",
       "    <tr>\n",
       "      <th>71</th>\n",
       "      <td>2019-09-02 07:18:00</td>\n",
       "      <td>6</td>\n",
       "      <td>drinks</td>\n",
       "      <td>spices</td>\n",
       "      <td>2019-09-02 07:17:00</td>\n",
       "      <td>0 days 00:01:00</td>\n",
       "    </tr>\n",
       "    <tr>\n",
       "      <th>102</th>\n",
       "      <td>2019-09-02 07:25:00</td>\n",
       "      <td>6</td>\n",
       "      <td>spices</td>\n",
       "      <td>drinks</td>\n",
       "      <td>2019-09-02 07:18:00</td>\n",
       "      <td>0 days 00:07:00</td>\n",
       "    </tr>\n",
       "    <tr>\n",
       "      <th>104</th>\n",
       "      <td>2019-09-02 07:26:00</td>\n",
       "      <td>6</td>\n",
       "      <td>dairy</td>\n",
       "      <td>spices</td>\n",
       "      <td>2019-09-02 07:25:00</td>\n",
       "      <td>0 days 00:01:00</td>\n",
       "    </tr>\n",
       "    <tr>\n",
       "      <th>117</th>\n",
       "      <td>2019-09-02 07:27:00</td>\n",
       "      <td>6</td>\n",
       "      <td>spices</td>\n",
       "      <td>dairy</td>\n",
       "      <td>2019-09-02 07:26:00</td>\n",
       "      <td>0 days 00:01:00</td>\n",
       "    </tr>\n",
       "    <tr>\n",
       "      <th>135</th>\n",
       "      <td>2019-09-02 07:29:00</td>\n",
       "      <td>6</td>\n",
       "      <td>checkout</td>\n",
       "      <td>spices</td>\n",
       "      <td>2019-09-02 07:27:00</td>\n",
       "      <td>0 days 00:02:00</td>\n",
       "    </tr>\n",
       "  </tbody>\n",
       "</table>\n",
       "</div>"
      ],
      "text/plain": [
       "              timestamp  customer_no  location location_before  \\\n",
       "5   2019-09-02 07:04:00            6    spices        entrance   \n",
       "10  2019-09-02 07:05:00            6     dairy          spices   \n",
       "62  2019-09-02 07:17:00            6    spices           dairy   \n",
       "71  2019-09-02 07:18:00            6    drinks          spices   \n",
       "102 2019-09-02 07:25:00            6    spices          drinks   \n",
       "104 2019-09-02 07:26:00            6     dairy          spices   \n",
       "117 2019-09-02 07:27:00            6    spices           dairy   \n",
       "135 2019-09-02 07:29:00            6  checkout          spices   \n",
       "\n",
       "       timestamp_before  diff_timestamp  \n",
       "5                   NaT             NaT  \n",
       "10  2019-09-02 07:04:00 0 days 00:01:00  \n",
       "62  2019-09-02 07:05:00 0 days 00:12:00  \n",
       "71  2019-09-02 07:17:00 0 days 00:01:00  \n",
       "102 2019-09-02 07:18:00 0 days 00:07:00  \n",
       "104 2019-09-02 07:25:00 0 days 00:01:00  \n",
       "117 2019-09-02 07:26:00 0 days 00:01:00  \n",
       "135 2019-09-02 07:27:00 0 days 00:02:00  "
      ]
     },
     "execution_count": 7,
     "metadata": {},
     "output_type": "execute_result"
    }
   ],
   "source": [
    "# Location: Before vs. After\n",
    "one_customer = monday[monday['customer_no'].isin([6])].copy()\n",
    "one_customer['location_before'] = one_customer['location'].shift(1).fillna('entrance')\n",
    "\n",
    "# Timestamp\n",
    "one_customer['timestamp_before'] = one_customer['timestamp'].shift(1)\n",
    "one_customer['diff_timestamp'] = one_customer['timestamp'] - one_customer['timestamp_before']\n",
    "one_customer"
   ]
  },
  {
   "cell_type": "code",
   "execution_count": 11,
   "metadata": {},
   "outputs": [
    {
     "data": {
      "text/plain": [
       "1447"
      ]
     },
     "execution_count": 11,
     "metadata": {},
     "output_type": "execute_result"
    }
   ],
   "source": [
    "monday[\"customer_no\"].max()"
   ]
  },
  {
   "cell_type": "markdown",
   "metadata": {},
   "source": [
    "## Transition Probabilities"
   ]
  },
  {
   "cell_type": "code",
   "execution_count": 9,
   "metadata": {},
   "outputs": [
    {
     "data": {
      "text/html": [
       "<div>\n",
       "<style scoped>\n",
       "    .dataframe tbody tr th:only-of-type {\n",
       "        vertical-align: middle;\n",
       "    }\n",
       "\n",
       "    .dataframe tbody tr th {\n",
       "        vertical-align: top;\n",
       "    }\n",
       "\n",
       "    .dataframe thead th {\n",
       "        text-align: right;\n",
       "    }\n",
       "</style>\n",
       "<table border=\"1\" class=\"dataframe\">\n",
       "  <thead>\n",
       "    <tr style=\"text-align: right;\">\n",
       "      <th>location_before</th>\n",
       "      <th>dairy</th>\n",
       "      <th>drinks</th>\n",
       "      <th>entrance</th>\n",
       "      <th>spices</th>\n",
       "    </tr>\n",
       "    <tr>\n",
       "      <th>location</th>\n",
       "      <th></th>\n",
       "      <th></th>\n",
       "      <th></th>\n",
       "      <th></th>\n",
       "    </tr>\n",
       "  </thead>\n",
       "  <tbody>\n",
       "    <tr>\n",
       "      <th>checkout</th>\n",
       "      <td>0.0</td>\n",
       "      <td>0.00</td>\n",
       "      <td>0.00</td>\n",
       "      <td>1.0</td>\n",
       "    </tr>\n",
       "    <tr>\n",
       "      <th>dairy</th>\n",
       "      <td>0.0</td>\n",
       "      <td>0.00</td>\n",
       "      <td>0.00</td>\n",
       "      <td>1.0</td>\n",
       "    </tr>\n",
       "    <tr>\n",
       "      <th>drinks</th>\n",
       "      <td>0.0</td>\n",
       "      <td>0.00</td>\n",
       "      <td>0.00</td>\n",
       "      <td>1.0</td>\n",
       "    </tr>\n",
       "    <tr>\n",
       "      <th>spices</th>\n",
       "      <td>0.5</td>\n",
       "      <td>0.25</td>\n",
       "      <td>0.25</td>\n",
       "      <td>0.0</td>\n",
       "    </tr>\n",
       "  </tbody>\n",
       "</table>\n",
       "</div>"
      ],
      "text/plain": [
       "location_before  dairy  drinks  entrance  spices\n",
       "location                                        \n",
       "checkout           0.0    0.00      0.00     1.0\n",
       "dairy              0.0    0.00      0.00     1.0\n",
       "drinks             0.0    0.00      0.00     1.0\n",
       "spices             0.5    0.25      0.25     0.0"
      ]
     },
     "execution_count": 9,
     "metadata": {},
     "output_type": "execute_result"
    }
   ],
   "source": [
    "probabilities = pd.crosstab(one_customer['location'], one_customer['location_before'], normalize=0)\n",
    "probabilities"
   ]
  },
  {
   "cell_type": "raw",
   "metadata": {},
   "source": [
    "state = [\"dairy\", \"drinks\", \"fruit\", \"spices\", \"checkout\"]\n",
    "\n",
    "transitionName = [['checkout-dairy', 'checkout-drinks', 'checkout-entrance', 'checkout-spices'], \n",
    "                 ['dairy-dairy', 'dairy-drinks', 'dairy-entrance', 'dairy-spices'],\n",
    "                 ['drinks-dairy', 'drinks-drinks', 'drinks-entrance', 'drinks-spices'],\n",
    "                 ['spices-dairy', 'spices-drinks', 'spices-entrance', 'spices-spices']]\n",
    "\n",
    "transition_mat = [[0.0, 0.0, 0.0, 1.0],[0.0, 0.0, 0.0, 1.0],[0.0, 0.0, 0.0, 1.0],[0.5, 0.25, 0.25, 0.0]]"
   ]
  },
  {
   "cell_type": "code",
   "execution_count": null,
   "metadata": {},
   "outputs": [],
   "source": []
  }
 ],
 "metadata": {
  "kernelspec": {
   "display_name": "Python 3",
   "language": "python",
   "name": "python3"
  },
  "language_info": {
   "codemirror_mode": {
    "name": "ipython",
    "version": 3
   },
   "file_extension": ".py",
   "mimetype": "text/x-python",
   "name": "python",
   "nbconvert_exporter": "python",
   "pygments_lexer": "ipython3",
   "version": "3.8.5"
  }
 },
 "nbformat": 4,
 "nbformat_minor": 4
}
