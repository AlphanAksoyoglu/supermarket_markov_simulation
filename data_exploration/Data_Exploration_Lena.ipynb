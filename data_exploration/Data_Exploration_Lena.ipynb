{
 "cells": [
  {
   "cell_type": "markdown",
   "metadata": {},
   "source": [
    "## 1. Data Exploration"
   ]
  },
  {
   "cell_type": "markdown",
   "metadata": {},
   "source": [
    "Our sales department is interested in a summary of the collected data. Please generate a report including numbers and diagrams. Note that your audience are not data scientists, so take care to prepare insights that are as clear as possible. We are interested in the following:\n",
    "\n",
    "1. Calculate the total number of customers in each section\n",
    "\n",
    "2. Calculate the total number of customers in each section over time\n",
    "\n",
    "3. Display the number of customers at checkout over time\n",
    "\n",
    "4. Calculate the time each customer spent in the market\n",
    "\n",
    "5. Calculate the total number of customers in the supermarket over time\n",
    "\n",
    "6. Our business managers think that the first section customers visit follows a different pattern than the following ones. Plot the distribution of customers of their first visited section versus following sections (treat all sections visited after the first as “following”)."
   ]
  },
  {
   "cell_type": "code",
   "execution_count": 1,
   "metadata": {},
   "outputs": [],
   "source": [
    "import pandas as pd\n",
    "import datetime\n",
    "from datetime import timedelta"
   ]
  },
  {
   "cell_type": "code",
   "execution_count": 2,
   "metadata": {},
   "outputs": [],
   "source": [
    "# Reading the data\n",
    "monday = pd.read_csv('../data/monday.csv', sep=';')\n",
    "tuesday = pd.read_csv('../data/tuesday.csv', sep=';')\n",
    "wednesday =  pd.read_csv('../data/wednesday.csv', sep=';')\n",
    "thursday = pd.read_csv('../data/thursday.csv', sep=';')\n",
    "friday = pd.read_csv('../data/friday.csv', sep=';')"
   ]
  },
  {
   "cell_type": "code",
   "execution_count": 3,
   "metadata": {},
   "outputs": [
    {
     "output_type": "stream",
     "name": "stdout",
     "text": [
      "<class 'pandas.core.frame.DataFrame'>\nRangeIndex: 4884 entries, 0 to 4883\nData columns (total 3 columns):\n #   Column       Non-Null Count  Dtype \n---  ------       --------------  ----- \n 0   timestamp    4884 non-null   object\n 1   customer_no  4884 non-null   int64 \n 2   location     4884 non-null   object\ndtypes: int64(1), object(2)\nmemory usage: 114.6+ KB\n"
     ]
    }
   ],
   "source": [
    "monday.info()"
   ]
  },
  {
   "cell_type": "code",
   "execution_count": 4,
   "metadata": {},
   "outputs": [
    {
     "output_type": "execute_result",
     "data": {
      "text/plain": [
       "       customer_no\n",
       "count  4884.000000\n",
       "mean    718.274365\n",
       "std     411.839636\n",
       "min       1.000000\n",
       "25%     366.000000\n",
       "50%     720.000000\n",
       "75%    1070.000000\n",
       "max    1447.000000"
      ],
      "text/html": "<div>\n<style scoped>\n    .dataframe tbody tr th:only-of-type {\n        vertical-align: middle;\n    }\n\n    .dataframe tbody tr th {\n        vertical-align: top;\n    }\n\n    .dataframe thead th {\n        text-align: right;\n    }\n</style>\n<table border=\"1\" class=\"dataframe\">\n  <thead>\n    <tr style=\"text-align: right;\">\n      <th></th>\n      <th>customer_no</th>\n    </tr>\n  </thead>\n  <tbody>\n    <tr>\n      <th>count</th>\n      <td>4884.000000</td>\n    </tr>\n    <tr>\n      <th>mean</th>\n      <td>718.274365</td>\n    </tr>\n    <tr>\n      <th>std</th>\n      <td>411.839636</td>\n    </tr>\n    <tr>\n      <th>min</th>\n      <td>1.000000</td>\n    </tr>\n    <tr>\n      <th>25%</th>\n      <td>366.000000</td>\n    </tr>\n    <tr>\n      <th>50%</th>\n      <td>720.000000</td>\n    </tr>\n    <tr>\n      <th>75%</th>\n      <td>1070.000000</td>\n    </tr>\n    <tr>\n      <th>max</th>\n      <td>1447.000000</td>\n    </tr>\n  </tbody>\n</table>\n</div>"
     },
     "metadata": {},
     "execution_count": 4
    }
   ],
   "source": [
    "monday.describe()"
   ]
  },
  {
   "cell_type": "code",
   "execution_count": 5,
   "metadata": {},
   "outputs": [],
   "source": [
    "monday['timestamp'] = pd.to_datetime(monday['timestamp'])\n",
    "tuesday['timestamp'] = pd.to_datetime(tuesday['timestamp'])\n",
    "wednesday['timestamp'] = pd.to_datetime(wednesday['timestamp'])\n",
    "thursday['timestamp'] = pd.to_datetime(thursday['timestamp'])\n",
    "friday['timestamp'] = pd.to_datetime(friday['timestamp'])"
   ]
  },
  {
   "cell_type": "code",
   "execution_count": 6,
   "metadata": {},
   "outputs": [
    {
     "output_type": "execute_result",
     "data": {
      "text/plain": [
       "               timestamp  customer_no  location      time  minutes\n",
       "0    2019-09-02 07:03:00            1     dairy  07:03:00        3\n",
       "1    2019-09-02 07:03:00            2     dairy  07:03:00        3\n",
       "2    2019-09-02 07:04:00            3     dairy  07:04:00        4\n",
       "3    2019-09-02 07:04:00            4     dairy  07:04:00        4\n",
       "4    2019-09-02 07:04:00            5    spices  07:04:00        4\n",
       "...                  ...          ...       ...       ...      ...\n",
       "4879 2019-09-02 21:49:00         1442  checkout  21:49:00       49\n",
       "4880 2019-09-02 21:49:00         1444  checkout  21:49:00       49\n",
       "4881 2019-09-02 21:49:00         1445     dairy  21:49:00       49\n",
       "4882 2019-09-02 21:50:00         1446     dairy  21:50:00       50\n",
       "4883 2019-09-02 21:50:00         1447     fruit  21:50:00       50\n",
       "\n",
       "[4884 rows x 5 columns]"
      ],
      "text/html": "<div>\n<style scoped>\n    .dataframe tbody tr th:only-of-type {\n        vertical-align: middle;\n    }\n\n    .dataframe tbody tr th {\n        vertical-align: top;\n    }\n\n    .dataframe thead th {\n        text-align: right;\n    }\n</style>\n<table border=\"1\" class=\"dataframe\">\n  <thead>\n    <tr style=\"text-align: right;\">\n      <th></th>\n      <th>timestamp</th>\n      <th>customer_no</th>\n      <th>location</th>\n      <th>time</th>\n      <th>minutes</th>\n    </tr>\n  </thead>\n  <tbody>\n    <tr>\n      <th>0</th>\n      <td>2019-09-02 07:03:00</td>\n      <td>1</td>\n      <td>dairy</td>\n      <td>07:03:00</td>\n      <td>3</td>\n    </tr>\n    <tr>\n      <th>1</th>\n      <td>2019-09-02 07:03:00</td>\n      <td>2</td>\n      <td>dairy</td>\n      <td>07:03:00</td>\n      <td>3</td>\n    </tr>\n    <tr>\n      <th>2</th>\n      <td>2019-09-02 07:04:00</td>\n      <td>3</td>\n      <td>dairy</td>\n      <td>07:04:00</td>\n      <td>4</td>\n    </tr>\n    <tr>\n      <th>3</th>\n      <td>2019-09-02 07:04:00</td>\n      <td>4</td>\n      <td>dairy</td>\n      <td>07:04:00</td>\n      <td>4</td>\n    </tr>\n    <tr>\n      <th>4</th>\n      <td>2019-09-02 07:04:00</td>\n      <td>5</td>\n      <td>spices</td>\n      <td>07:04:00</td>\n      <td>4</td>\n    </tr>\n    <tr>\n      <th>...</th>\n      <td>...</td>\n      <td>...</td>\n      <td>...</td>\n      <td>...</td>\n      <td>...</td>\n    </tr>\n    <tr>\n      <th>4879</th>\n      <td>2019-09-02 21:49:00</td>\n      <td>1442</td>\n      <td>checkout</td>\n      <td>21:49:00</td>\n      <td>49</td>\n    </tr>\n    <tr>\n      <th>4880</th>\n      <td>2019-09-02 21:49:00</td>\n      <td>1444</td>\n      <td>checkout</td>\n      <td>21:49:00</td>\n      <td>49</td>\n    </tr>\n    <tr>\n      <th>4881</th>\n      <td>2019-09-02 21:49:00</td>\n      <td>1445</td>\n      <td>dairy</td>\n      <td>21:49:00</td>\n      <td>49</td>\n    </tr>\n    <tr>\n      <th>4882</th>\n      <td>2019-09-02 21:50:00</td>\n      <td>1446</td>\n      <td>dairy</td>\n      <td>21:50:00</td>\n      <td>50</td>\n    </tr>\n    <tr>\n      <th>4883</th>\n      <td>2019-09-02 21:50:00</td>\n      <td>1447</td>\n      <td>fruit</td>\n      <td>21:50:00</td>\n      <td>50</td>\n    </tr>\n  </tbody>\n</table>\n<p>4884 rows × 5 columns</p>\n</div>"
     },
     "metadata": {},
     "execution_count": 6
    }
   ],
   "source": [
    "# Сreating new columns:\n",
    "# Monday\n",
    "monday['time'] = monday['timestamp'].dt.time\n",
    "monday['minutes'] = monday['timestamp'].dt.minute\n",
    "\n",
    "#tuesday['time']=monday['timestamp'].dt.time\n",
    "#wednesday['time']=monday['timestamp'].dt.time\n",
    "#thursday['time']=monday['timestamp'].dt.time\n",
    "#friday['time']=monday['timestamp'].dt.time\n",
    "\n",
    "monday"
   ]
  },
  {
   "cell_type": "code",
   "execution_count": 7,
   "metadata": {},
   "outputs": [],
   "source": [
    "# Creating new column in each data set:\n",
    "monday['weekday'] = 'monday'\n",
    "tuesday['weekday'] = 'tuesday'\n",
    "wednesday['weekday'] = 'weekday'\n",
    "thursday['weekday'] = 'thursday'\n",
    "friday['weekday'] = 'friday'\n",
    "\n",
    "# Combining all datasets together:\n",
    "days = [monday, tuesday, wednesday, thursday, friday]\n",
    "weekday = pd.concat(days)\n",
    "weekday;"
   ]
  },
  {
   "cell_type": "markdown",
   "metadata": {},
   "source": [
    "### 1. Calculate the total number of customers in each section"
   ]
  },
  {
   "cell_type": "code",
   "execution_count": 8,
   "metadata": {},
   "outputs": [
    {
     "output_type": "stream",
     "name": "stdout",
     "text": [
      "location\ncheckout    1437\ndairy        720\ndrinks       661\nfruit        827\nspices       584\nName: customer_no, dtype: int64\nlocation\ncheckout    1420\ndairy        751\ndrinks       581\nfruit        827\nspices       543\nName: customer_no, dtype: int64\nlocation\ncheckout    1526\ndairy        804\ndrinks       652\nfruit        884\nspices       565\nName: customer_no, dtype: int64\nlocation\ncheckout    1532\ndairy        782\ndrinks       632\nfruit        872\nspices       613\nName: customer_no, dtype: int64\nlocation\ncheckout    1502\ndairy        761\ndrinks       688\nfruit        874\nspices       633\nName: customer_no, dtype: int64\n"
     ]
    }
   ],
   "source": [
    "monday_customers = monday.groupby('location').nunique()\n",
    "tuesday_customers = tuesday.groupby('location').nunique()\n",
    "wednesday_customers = wednesday.groupby('location').nunique()\n",
    "thursday_customers = thursday.groupby('location').nunique()\n",
    "friday_customers = friday.groupby('location').nunique()\n",
    "\n",
    "print(monday_customers.customer_no)\n",
    "print(tuesday_customers.customer_no)\n",
    "print(wednesday_customers.customer_no)\n",
    "print(thursday_customers.customer_no)\n",
    "print(friday_customers.customer_no)"
   ]
  },
  {
   "cell_type": "markdown",
   "metadata": {},
   "source": [
    "### 2. Calculate the total number of customers in each section over time"
   ]
  },
  {
   "cell_type": "code",
   "execution_count": 9,
   "metadata": {},
   "outputs": [
    {
     "output_type": "execute_result",
     "data": {
      "text/plain": [
       "          customer_no\n",
       "location             \n",
       "checkout         7417\n",
       "dairy            3818\n",
       "drinks           3214\n",
       "fruit            4284\n",
       "spices           2938"
      ],
      "text/html": "<div>\n<style scoped>\n    .dataframe tbody tr th:only-of-type {\n        vertical-align: middle;\n    }\n\n    .dataframe tbody tr th {\n        vertical-align: top;\n    }\n\n    .dataframe thead th {\n        text-align: right;\n    }\n</style>\n<table border=\"1\" class=\"dataframe\">\n  <thead>\n    <tr style=\"text-align: right;\">\n      <th></th>\n      <th>customer_no</th>\n    </tr>\n    <tr>\n      <th>location</th>\n      <th></th>\n    </tr>\n  </thead>\n  <tbody>\n    <tr>\n      <th>checkout</th>\n      <td>7417</td>\n    </tr>\n    <tr>\n      <th>dairy</th>\n      <td>3818</td>\n    </tr>\n    <tr>\n      <th>drinks</th>\n      <td>3214</td>\n    </tr>\n    <tr>\n      <th>fruit</th>\n      <td>4284</td>\n    </tr>\n    <tr>\n      <th>spices</th>\n      <td>2938</td>\n    </tr>\n  </tbody>\n</table>\n</div>"
     },
     "metadata": {},
     "execution_count": 9
    }
   ],
   "source": [
    "total = monday_customers + tuesday_customers + wednesday_customers + thursday_customers + friday_customers\n",
    "total[['customer_no']]"
   ]
  },
  {
   "cell_type": "markdown",
   "metadata": {},
   "source": [
    "### 3. Display the number of customers at checkout over time"
   ]
  },
  {
   "cell_type": "code",
   "execution_count": 10,
   "metadata": {},
   "outputs": [
    {
     "output_type": "execute_result",
     "data": {
      "text/plain": [
       "          customer_no\n",
       "location             \n",
       "checkout         7417"
      ],
      "text/html": "<div>\n<style scoped>\n    .dataframe tbody tr th:only-of-type {\n        vertical-align: middle;\n    }\n\n    .dataframe tbody tr th {\n        vertical-align: top;\n    }\n\n    .dataframe thead th {\n        text-align: right;\n    }\n</style>\n<table border=\"1\" class=\"dataframe\">\n  <thead>\n    <tr style=\"text-align: right;\">\n      <th></th>\n      <th>customer_no</th>\n    </tr>\n    <tr>\n      <th>location</th>\n      <th></th>\n    </tr>\n  </thead>\n  <tbody>\n    <tr>\n      <th>checkout</th>\n      <td>7417</td>\n    </tr>\n  </tbody>\n</table>\n</div>"
     },
     "metadata": {},
     "execution_count": 10
    }
   ],
   "source": [
    "total_checkout = total.loc[['checkout']][['customer_no']]\n",
    "total_checkout"
   ]
  },
  {
   "cell_type": "markdown",
   "metadata": {},
   "source": [
    "### 4. Calculate the time each customer spent in the market"
   ]
  },
  {
   "cell_type": "code",
   "execution_count": 11,
   "metadata": {},
   "outputs": [
    {
     "output_type": "execute_result",
     "data": {
      "text/plain": [
       "                 time_spent\n",
       "customer_no                \n",
       "1           0 days 00:02:00\n",
       "2           0 days 00:03:00\n",
       "3           0 days 00:02:00\n",
       "4           0 days 00:04:00\n",
       "5           0 days 00:01:00\n",
       "...                     ...\n",
       "1443        0 days 00:01:00\n",
       "1444        0 days 00:01:00\n",
       "1445        0 days 00:00:00\n",
       "1446        0 days 00:00:00\n",
       "1447        0 days 00:00:00\n",
       "\n",
       "[1447 rows x 1 columns]"
      ],
      "text/html": "<div>\n<style scoped>\n    .dataframe tbody tr th:only-of-type {\n        vertical-align: middle;\n    }\n\n    .dataframe tbody tr th {\n        vertical-align: top;\n    }\n\n    .dataframe thead th {\n        text-align: right;\n    }\n</style>\n<table border=\"1\" class=\"dataframe\">\n  <thead>\n    <tr style=\"text-align: right;\">\n      <th></th>\n      <th>time_spent</th>\n    </tr>\n    <tr>\n      <th>customer_no</th>\n      <th></th>\n    </tr>\n  </thead>\n  <tbody>\n    <tr>\n      <th>1</th>\n      <td>0 days 00:02:00</td>\n    </tr>\n    <tr>\n      <th>2</th>\n      <td>0 days 00:03:00</td>\n    </tr>\n    <tr>\n      <th>3</th>\n      <td>0 days 00:02:00</td>\n    </tr>\n    <tr>\n      <th>4</th>\n      <td>0 days 00:04:00</td>\n    </tr>\n    <tr>\n      <th>5</th>\n      <td>0 days 00:01:00</td>\n    </tr>\n    <tr>\n      <th>...</th>\n      <td>...</td>\n    </tr>\n    <tr>\n      <th>1443</th>\n      <td>0 days 00:01:00</td>\n    </tr>\n    <tr>\n      <th>1444</th>\n      <td>0 days 00:01:00</td>\n    </tr>\n    <tr>\n      <th>1445</th>\n      <td>0 days 00:00:00</td>\n    </tr>\n    <tr>\n      <th>1446</th>\n      <td>0 days 00:00:00</td>\n    </tr>\n    <tr>\n      <th>1447</th>\n      <td>0 days 00:00:00</td>\n    </tr>\n  </tbody>\n</table>\n<p>1447 rows × 1 columns</p>\n</div>"
     },
     "metadata": {},
     "execution_count": 11
    }
   ],
   "source": [
    "max_time_monday = monday.groupby(\"customer_no\")[\"timestamp\"].max()\n",
    "min_time_monday = monday.groupby(\"customer_no\")[\"timestamp\"].min()\n",
    "\n",
    "time_spent = pd.concat([min_time_monday, max_time_monday], axis=1)\n",
    "time_spent['time_spent'] = (max_time_monday - min_time_monday)\n",
    "time_spent[['time_spent']]"
   ]
  },
  {
   "cell_type": "markdown",
   "metadata": {},
   "source": [
    "### 5. Calculate the total number of customers in the supermarket over time"
   ]
  },
  {
   "cell_type": "code",
   "execution_count": 12,
   "metadata": {},
   "outputs": [
    {
     "output_type": "stream",
     "name": "stdout",
     "text": [
      "Total number of customers in the supermarket: 7417.0\n"
     ]
    }
   ],
   "source": [
    "total_supermarket = monday_customers.max() + tuesday_customers.max() + wednesday_customers.max() + thursday_customers.max() + friday_customers.max()\n",
    "print('Total number of customers in the supermarket:',total_supermarket['customer_no'])"
   ]
  },
  {
   "cell_type": "markdown",
   "metadata": {},
   "source": [
    "### 6. Plot the distribution of customers of their first visited section versus following sections (Transitions)"
   ]
  },
  {
   "cell_type": "markdown",
   "metadata": {},
   "source": [
    "### 7. Revenue"
   ]
  },
  {
   "cell_type": "code",
   "execution_count": 13,
   "metadata": {},
   "outputs": [
    {
     "output_type": "execute_result",
     "data": {
      "text/plain": [
       "  location  revenue_per_minute\n",
       "0    fruit                   4\n",
       "1   spices                   3\n",
       "2    dairy                   5\n",
       "3   drinks                   6"
      ],
      "text/html": "<div>\n<style scoped>\n    .dataframe tbody tr th:only-of-type {\n        vertical-align: middle;\n    }\n\n    .dataframe tbody tr th {\n        vertical-align: top;\n    }\n\n    .dataframe thead th {\n        text-align: right;\n    }\n</style>\n<table border=\"1\" class=\"dataframe\">\n  <thead>\n    <tr style=\"text-align: right;\">\n      <th></th>\n      <th>location</th>\n      <th>revenue_per_minute</th>\n    </tr>\n  </thead>\n  <tbody>\n    <tr>\n      <th>0</th>\n      <td>fruit</td>\n      <td>4</td>\n    </tr>\n    <tr>\n      <th>1</th>\n      <td>spices</td>\n      <td>3</td>\n    </tr>\n    <tr>\n      <th>2</th>\n      <td>dairy</td>\n      <td>5</td>\n    </tr>\n    <tr>\n      <th>3</th>\n      <td>drinks</td>\n      <td>6</td>\n    </tr>\n  </tbody>\n</table>\n</div>"
     },
     "metadata": {},
     "execution_count": 13
    }
   ],
   "source": [
    "# Creating data frame:\n",
    "revenue = pd.DataFrame({'location': ['fruit', 'spices', 'dairy', 'drinks'], 'revenue_per_minute': [4, 3, 5, 6]})\n",
    "revenue"
   ]
  },
  {
   "cell_type": "code",
   "execution_count": 14,
   "metadata": {},
   "outputs": [
    {
     "output_type": "execute_result",
     "data": {
      "text/plain": [
       "               timestamp  customer_no  location      time  minutes weekday  \\\n",
       "0    2019-09-02 07:03:00            1     dairy  07:03:00        3  monday   \n",
       "1    2019-09-02 07:03:00            2     dairy  07:03:00        3  monday   \n",
       "2    2019-09-02 07:04:00            3     dairy  07:04:00        4  monday   \n",
       "3    2019-09-02 07:04:00            4     dairy  07:04:00        4  monday   \n",
       "4    2019-09-02 07:04:00            5    spices  07:04:00        4  monday   \n",
       "...                  ...          ...       ...       ...      ...     ...   \n",
       "4879 2019-09-02 21:49:00         1442  checkout  21:49:00       49  monday   \n",
       "4880 2019-09-02 21:49:00         1444  checkout  21:49:00       49  monday   \n",
       "4881 2019-09-02 21:49:00         1445     dairy  21:49:00       49  monday   \n",
       "4882 2019-09-02 21:50:00         1446     dairy  21:50:00       50  monday   \n",
       "4883 2019-09-02 21:50:00         1447     fruit  21:50:00       50  monday   \n",
       "\n",
       "     revenue  \n",
       "0          5  \n",
       "1          5  \n",
       "2          5  \n",
       "3          5  \n",
       "4          3  \n",
       "...      ...  \n",
       "4879       0  \n",
       "4880       0  \n",
       "4881       5  \n",
       "4882       5  \n",
       "4883       4  \n",
       "\n",
       "[4884 rows x 7 columns]"
      ],
      "text/html": "<div>\n<style scoped>\n    .dataframe tbody tr th:only-of-type {\n        vertical-align: middle;\n    }\n\n    .dataframe tbody tr th {\n        vertical-align: top;\n    }\n\n    .dataframe thead th {\n        text-align: right;\n    }\n</style>\n<table border=\"1\" class=\"dataframe\">\n  <thead>\n    <tr style=\"text-align: right;\">\n      <th></th>\n      <th>timestamp</th>\n      <th>customer_no</th>\n      <th>location</th>\n      <th>time</th>\n      <th>minutes</th>\n      <th>weekday</th>\n      <th>revenue</th>\n    </tr>\n  </thead>\n  <tbody>\n    <tr>\n      <th>0</th>\n      <td>2019-09-02 07:03:00</td>\n      <td>1</td>\n      <td>dairy</td>\n      <td>07:03:00</td>\n      <td>3</td>\n      <td>monday</td>\n      <td>5</td>\n    </tr>\n    <tr>\n      <th>1</th>\n      <td>2019-09-02 07:03:00</td>\n      <td>2</td>\n      <td>dairy</td>\n      <td>07:03:00</td>\n      <td>3</td>\n      <td>monday</td>\n      <td>5</td>\n    </tr>\n    <tr>\n      <th>2</th>\n      <td>2019-09-02 07:04:00</td>\n      <td>3</td>\n      <td>dairy</td>\n      <td>07:04:00</td>\n      <td>4</td>\n      <td>monday</td>\n      <td>5</td>\n    </tr>\n    <tr>\n      <th>3</th>\n      <td>2019-09-02 07:04:00</td>\n      <td>4</td>\n      <td>dairy</td>\n      <td>07:04:00</td>\n      <td>4</td>\n      <td>monday</td>\n      <td>5</td>\n    </tr>\n    <tr>\n      <th>4</th>\n      <td>2019-09-02 07:04:00</td>\n      <td>5</td>\n      <td>spices</td>\n      <td>07:04:00</td>\n      <td>4</td>\n      <td>monday</td>\n      <td>3</td>\n    </tr>\n    <tr>\n      <th>...</th>\n      <td>...</td>\n      <td>...</td>\n      <td>...</td>\n      <td>...</td>\n      <td>...</td>\n      <td>...</td>\n      <td>...</td>\n    </tr>\n    <tr>\n      <th>4879</th>\n      <td>2019-09-02 21:49:00</td>\n      <td>1442</td>\n      <td>checkout</td>\n      <td>21:49:00</td>\n      <td>49</td>\n      <td>monday</td>\n      <td>0</td>\n    </tr>\n    <tr>\n      <th>4880</th>\n      <td>2019-09-02 21:49:00</td>\n      <td>1444</td>\n      <td>checkout</td>\n      <td>21:49:00</td>\n      <td>49</td>\n      <td>monday</td>\n      <td>0</td>\n    </tr>\n    <tr>\n      <th>4881</th>\n      <td>2019-09-02 21:49:00</td>\n      <td>1445</td>\n      <td>dairy</td>\n      <td>21:49:00</td>\n      <td>49</td>\n      <td>monday</td>\n      <td>5</td>\n    </tr>\n    <tr>\n      <th>4882</th>\n      <td>2019-09-02 21:50:00</td>\n      <td>1446</td>\n      <td>dairy</td>\n      <td>21:50:00</td>\n      <td>50</td>\n      <td>monday</td>\n      <td>5</td>\n    </tr>\n    <tr>\n      <th>4883</th>\n      <td>2019-09-02 21:50:00</td>\n      <td>1447</td>\n      <td>fruit</td>\n      <td>21:50:00</td>\n      <td>50</td>\n      <td>monday</td>\n      <td>4</td>\n    </tr>\n  </tbody>\n</table>\n<p>4884 rows × 7 columns</p>\n</div>"
     },
     "metadata": {},
     "execution_count": 14
    }
   ],
   "source": [
    "# Setting values to the column 'revenue' by location:\n",
    "monday.loc[monday[\"location\"] == \"fruit\", \"revenue\"] = \"4\"\n",
    "monday.loc[monday[\"location\"] == \"spices\", \"revenue\"] = \"3\"\n",
    "monday.loc[monday[\"location\"] == \"dairy\", \"revenue\"] = \"5\"\n",
    "monday.loc[monday[\"location\"] == \"drinks\", \"revenue\"] = \"6\"\n",
    "monday.loc[monday[\"location\"] == \"checkout\", \"revenue\"] = \"0\"\n",
    "\n",
    "#monday[['customer_no', 'location', 'revenue']]\n",
    "monday"
   ]
  },
  {
   "cell_type": "code",
   "execution_count": 15,
   "metadata": {},
   "outputs": [],
   "source": [
    "# monday.sort_values(by=['location', 'revenue']).head()"
   ]
  },
  {
   "cell_type": "code",
   "execution_count": 16,
   "metadata": {},
   "outputs": [],
   "source": [
    "# Converting revenue column into integer: \n",
    "monday['revenue'] = monday['revenue'].astype(int)"
   ]
  },
  {
   "cell_type": "code",
   "execution_count": 17,
   "metadata": {},
   "outputs": [
    {
     "output_type": "execute_result",
     "data": {
      "text/plain": [
       "          revenue\n",
       "location         \n",
       "drinks       4782\n",
       "dairy        4475\n",
       "fruit        4020\n",
       "spices       2250\n",
       "checkout        0"
      ],
      "text/html": "<div>\n<style scoped>\n    .dataframe tbody tr th:only-of-type {\n        vertical-align: middle;\n    }\n\n    .dataframe tbody tr th {\n        vertical-align: top;\n    }\n\n    .dataframe thead th {\n        text-align: right;\n    }\n</style>\n<table border=\"1\" class=\"dataframe\">\n  <thead>\n    <tr style=\"text-align: right;\">\n      <th></th>\n      <th>revenue</th>\n    </tr>\n    <tr>\n      <th>location</th>\n      <th></th>\n    </tr>\n  </thead>\n  <tbody>\n    <tr>\n      <th>drinks</th>\n      <td>4782</td>\n    </tr>\n    <tr>\n      <th>dairy</th>\n      <td>4475</td>\n    </tr>\n    <tr>\n      <th>fruit</th>\n      <td>4020</td>\n    </tr>\n    <tr>\n      <th>spices</th>\n      <td>2250</td>\n    </tr>\n    <tr>\n      <th>checkout</th>\n      <td>0</td>\n    </tr>\n  </tbody>\n</table>\n</div>"
     },
     "metadata": {},
     "execution_count": 17
    }
   ],
   "source": [
    "# Calculatting revenue by location:\n",
    "monday.groupby('location')[['revenue']].sum().sort_values('revenue', ascending=False)"
   ]
  },
  {
   "cell_type": "code",
   "execution_count": 18,
   "metadata": {},
   "outputs": [
    {
     "output_type": "execute_result",
     "data": {
      "text/plain": [
       "             revenue\n",
       "customer_no         \n",
       "526               72\n",
       "380               64\n",
       "666               56\n",
       "391               50\n",
       "86                49\n",
       "...              ...\n",
       "551                3\n",
       "1196               3\n",
       "559                3\n",
       "626                3\n",
       "483                3\n",
       "\n",
       "[1447 rows x 1 columns]"
      ],
      "text/html": "<div>\n<style scoped>\n    .dataframe tbody tr th:only-of-type {\n        vertical-align: middle;\n    }\n\n    .dataframe tbody tr th {\n        vertical-align: top;\n    }\n\n    .dataframe thead th {\n        text-align: right;\n    }\n</style>\n<table border=\"1\" class=\"dataframe\">\n  <thead>\n    <tr style=\"text-align: right;\">\n      <th></th>\n      <th>revenue</th>\n    </tr>\n    <tr>\n      <th>customer_no</th>\n      <th></th>\n    </tr>\n  </thead>\n  <tbody>\n    <tr>\n      <th>526</th>\n      <td>72</td>\n    </tr>\n    <tr>\n      <th>380</th>\n      <td>64</td>\n    </tr>\n    <tr>\n      <th>666</th>\n      <td>56</td>\n    </tr>\n    <tr>\n      <th>391</th>\n      <td>50</td>\n    </tr>\n    <tr>\n      <th>86</th>\n      <td>49</td>\n    </tr>\n    <tr>\n      <th>...</th>\n      <td>...</td>\n    </tr>\n    <tr>\n      <th>551</th>\n      <td>3</td>\n    </tr>\n    <tr>\n      <th>1196</th>\n      <td>3</td>\n    </tr>\n    <tr>\n      <th>559</th>\n      <td>3</td>\n    </tr>\n    <tr>\n      <th>626</th>\n      <td>3</td>\n    </tr>\n    <tr>\n      <th>483</th>\n      <td>3</td>\n    </tr>\n  </tbody>\n</table>\n<p>1447 rows × 1 columns</p>\n</div>"
     },
     "metadata": {},
     "execution_count": 18
    }
   ],
   "source": [
    "# Calculatting revenue from every customer:\n",
    "revenue_per_customer = monday.groupby('customer_no')[['revenue']].sum().sort_values('revenue', ascending=False)\n",
    "revenue_per_customer"
   ]
  },
  {
   "cell_type": "code",
   "execution_count": 19,
   "metadata": {},
   "outputs": [
    {
     "output_type": "execute_result",
     "data": {
      "text/plain": [
       "revenue    15527\n",
       "dtype: int64"
      ]
     },
     "metadata": {},
     "execution_count": 19
    }
   ],
   "source": [
    "# Calculating total revenue per day (monday):\n",
    "revenue_per_customer.sum()"
   ]
  },
  {
   "cell_type": "code",
   "execution_count": 39,
   "metadata": {},
   "outputs": [
    {
     "output_type": "execute_result",
     "data": {
      "text/plain": [
       "              timestamp  customer_no  location      time  minutes weekday  \\\n",
       "5   2019-09-02 07:04:00            6    spices  07:04:00        4  monday   \n",
       "10  2019-09-02 07:05:00            6     dairy  07:05:00        5  monday   \n",
       "62  2019-09-02 07:17:00            6    spices  07:17:00       17  monday   \n",
       "71  2019-09-02 07:18:00            6    drinks  07:18:00       18  monday   \n",
       "102 2019-09-02 07:25:00            6    spices  07:25:00       25  monday   \n",
       "104 2019-09-02 07:26:00            6     dairy  07:26:00       26  monday   \n",
       "117 2019-09-02 07:27:00            6    spices  07:27:00       27  monday   \n",
       "135 2019-09-02 07:29:00            6  checkout  07:29:00       29  monday   \n",
       "\n",
       "     revenue location_before   timnestamp_before      time_spent  \n",
       "5          3        entrance                 NaT 0 days 00:01:00  \n",
       "10         5          spices 2019-09-02 07:04:00 0 days 00:12:00  \n",
       "62         3           dairy 2019-09-02 07:05:00 0 days 00:01:00  \n",
       "71         6          spices 2019-09-02 07:17:00 0 days 00:07:00  \n",
       "102        3          drinks 2019-09-02 07:18:00 0 days 00:01:00  \n",
       "104        5          spices 2019-09-02 07:25:00 0 days 00:01:00  \n",
       "117        3           dairy 2019-09-02 07:26:00 0 days 00:02:00  \n",
       "135        0          spices 2019-09-02 07:27:00             NaT  "
      ],
      "text/html": "<div>\n<style scoped>\n    .dataframe tbody tr th:only-of-type {\n        vertical-align: middle;\n    }\n\n    .dataframe tbody tr th {\n        vertical-align: top;\n    }\n\n    .dataframe thead th {\n        text-align: right;\n    }\n</style>\n<table border=\"1\" class=\"dataframe\">\n  <thead>\n    <tr style=\"text-align: right;\">\n      <th></th>\n      <th>timestamp</th>\n      <th>customer_no</th>\n      <th>location</th>\n      <th>time</th>\n      <th>minutes</th>\n      <th>weekday</th>\n      <th>revenue</th>\n      <th>location_before</th>\n      <th>timnestamp_before</th>\n      <th>time_spent</th>\n    </tr>\n  </thead>\n  <tbody>\n    <tr>\n      <th>5</th>\n      <td>2019-09-02 07:04:00</td>\n      <td>6</td>\n      <td>spices</td>\n      <td>07:04:00</td>\n      <td>4</td>\n      <td>monday</td>\n      <td>3</td>\n      <td>entrance</td>\n      <td>NaT</td>\n      <td>0 days 00:01:00</td>\n    </tr>\n    <tr>\n      <th>10</th>\n      <td>2019-09-02 07:05:00</td>\n      <td>6</td>\n      <td>dairy</td>\n      <td>07:05:00</td>\n      <td>5</td>\n      <td>monday</td>\n      <td>5</td>\n      <td>spices</td>\n      <td>2019-09-02 07:04:00</td>\n      <td>0 days 00:12:00</td>\n    </tr>\n    <tr>\n      <th>62</th>\n      <td>2019-09-02 07:17:00</td>\n      <td>6</td>\n      <td>spices</td>\n      <td>07:17:00</td>\n      <td>17</td>\n      <td>monday</td>\n      <td>3</td>\n      <td>dairy</td>\n      <td>2019-09-02 07:05:00</td>\n      <td>0 days 00:01:00</td>\n    </tr>\n    <tr>\n      <th>71</th>\n      <td>2019-09-02 07:18:00</td>\n      <td>6</td>\n      <td>drinks</td>\n      <td>07:18:00</td>\n      <td>18</td>\n      <td>monday</td>\n      <td>6</td>\n      <td>spices</td>\n      <td>2019-09-02 07:17:00</td>\n      <td>0 days 00:07:00</td>\n    </tr>\n    <tr>\n      <th>102</th>\n      <td>2019-09-02 07:25:00</td>\n      <td>6</td>\n      <td>spices</td>\n      <td>07:25:00</td>\n      <td>25</td>\n      <td>monday</td>\n      <td>3</td>\n      <td>drinks</td>\n      <td>2019-09-02 07:18:00</td>\n      <td>0 days 00:01:00</td>\n    </tr>\n    <tr>\n      <th>104</th>\n      <td>2019-09-02 07:26:00</td>\n      <td>6</td>\n      <td>dairy</td>\n      <td>07:26:00</td>\n      <td>26</td>\n      <td>monday</td>\n      <td>5</td>\n      <td>spices</td>\n      <td>2019-09-02 07:25:00</td>\n      <td>0 days 00:01:00</td>\n    </tr>\n    <tr>\n      <th>117</th>\n      <td>2019-09-02 07:27:00</td>\n      <td>6</td>\n      <td>spices</td>\n      <td>07:27:00</td>\n      <td>27</td>\n      <td>monday</td>\n      <td>3</td>\n      <td>dairy</td>\n      <td>2019-09-02 07:26:00</td>\n      <td>0 days 00:02:00</td>\n    </tr>\n    <tr>\n      <th>135</th>\n      <td>2019-09-02 07:29:00</td>\n      <td>6</td>\n      <td>checkout</td>\n      <td>07:29:00</td>\n      <td>29</td>\n      <td>monday</td>\n      <td>0</td>\n      <td>spices</td>\n      <td>2019-09-02 07:27:00</td>\n      <td>NaT</td>\n    </tr>\n  </tbody>\n</table>\n</div>"
     },
     "metadata": {},
     "execution_count": 39
    }
   ],
   "source": [
    "# New strategy to calculate the revenue based on the time spent in the market\n",
    "\n",
    "def revenue_per_customer(df, customer_no):\n",
    "    \"\"\"\n",
    "    Given a dataframe creates new dataframes\n",
    "    with the revenue made per customer per day\n",
    "    \"\"\"\n",
    "\n",
    "    for i in range(df[\"customer_no\"].max()):\n",
    "        customer_data = monday[monday[\"customer_no\"].isin([customer_no])].copy()\n",
    "        customer_data['location_before'] = customer_data['location'].shift(1).fillna('entrance')\n",
    "        customer_data['timnestamp_before'] = customer_data['timestamp'].shift(1)\n",
    "        customer_data['time_spent'] = customer_data['timestamp'] - customer_data['timnestamp_before']\n",
    "        customer_data['time_spent'] = customer_data['time_spent'].shift(-1)\n",
    "        return customer_data\n",
    "\n",
    "df1 = revenue_per_customer(monday, 6)\n",
    "df1"
   ]
  },
  {
   "cell_type": "code",
   "execution_count": null,
   "metadata": {},
   "outputs": [],
   "source": []
  }
 ],
 "metadata": {
  "kernelspec": {
   "display_name": "Python 3",
   "language": "python",
   "name": "python3"
  },
  "language_info": {
   "codemirror_mode": {
    "name": "ipython",
    "version": 3
   },
   "file_extension": ".py",
   "mimetype": "text/x-python",
   "name": "python",
   "nbconvert_exporter": "python",
   "pygments_lexer": "ipython3",
   "version": "3.8.5-final"
  }
 },
 "nbformat": 4,
 "nbformat_minor": 4
}