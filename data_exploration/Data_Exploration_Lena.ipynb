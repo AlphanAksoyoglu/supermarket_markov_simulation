{
 "cells": [
  {
   "cell_type": "markdown",
   "metadata": {},
   "source": [
    "## 1. Data Exploration (Lena)"
   ]
  },
  {
   "cell_type": "markdown",
   "metadata": {},
   "source": [
    "1. Calculate the total number of customers in each section\n",
    "\n",
    "2. Calculate the total number of customers in each section over time\n",
    "\n",
    "3. Display the number of customers at checkout over time\n",
    "\n",
    "4. Calculate the time each customer spent in the market\n",
    "\n",
    "5. Calculate the total number of customers in the supermarket over time."
   ]
  },
  {
   "cell_type": "code",
   "execution_count": 1,
   "metadata": {},
   "outputs": [],
   "source": [
    "import pandas as pd"
   ]
  },
  {
   "cell_type": "code",
   "execution_count": 2,
   "metadata": {},
   "outputs": [],
   "source": [
    "# Read the data\n",
    "monday = pd.read_csv('../data/monday.csv', sep=';')\n",
    "tuesday = monday = pd.read_csv('../data/tuesday.csv', sep=';')\n",
    "wednesday =  pd.read_csv('../data/wednesday.csv', sep=';')\n",
    "thursday = pd.read_csv('../data/thursday.csv', sep=';')\n",
    "friday = pd.read_csv('../data/friday.csv', sep=';')"
   ]
  },
  {
   "cell_type": "code",
   "execution_count": 61,
   "metadata": {},
   "outputs": [
    {
     "name": "stdout",
     "output_type": "stream",
     "text": [
      "          timestamp  customer_no\n",
      "location                        \n",
      "checkout       1437         1437\n",
      "dairy           895          895\n",
      "drinks          797          797\n",
      "fruit          1005         1005\n",
      "spices          750          750\n",
      "          timestamp  customer_no\n",
      "location                        \n",
      "checkout       1420         1420\n",
      "dairy           911          911\n",
      "drinks          713          713\n",
      "fruit           976          976\n",
      "spices          694          694\n",
      "          timestamp  customer_no\n",
      "location                        \n",
      "checkout       1526         1526\n",
      "dairy           976          976\n",
      "drinks          775          775\n",
      "fruit          1043         1043\n",
      "spices          730          730\n",
      "          timestamp  customer_no\n",
      "location                        \n",
      "checkout       1532         1532\n",
      "dairy           965          965\n",
      "drinks          776          776\n",
      "fruit          1041         1041\n",
      "spices          790          790\n",
      "          timestamp  customer_no\n",
      "location                        \n",
      "checkout       1502         1502\n",
      "dairy           932          932\n",
      "drinks          844          844\n",
      "fruit          1057         1057\n",
      "spices          790          790\n"
     ]
    }
   ],
   "source": [
    "# 1. Calculate the total number of customers in each section\n",
    "monday_customers = monday.groupby('location').count()\n",
    "tuesday_customers = tuesday.groupby('location').count()\n",
    "wednesday_customers = wednesday.groupby('location').count()\n",
    "thursday_customers = thursday.groupby('location').count()\n",
    "friday_customers = friday.groupby('location').count()\n",
    "\n",
    "print(monday_customers)\n",
    "print(tuesday_customers)\n",
    "print(wednesday_customers)\n",
    "print(thursday_customers)\n",
    "print(friday_customers)"
   ]
  },
  {
   "cell_type": "code",
   "execution_count": 63,
   "metadata": {},
   "outputs": [
    {
     "data": {
      "text/html": [
       "<div>\n",
       "<style scoped>\n",
       "    .dataframe tbody tr th:only-of-type {\n",
       "        vertical-align: middle;\n",
       "    }\n",
       "\n",
       "    .dataframe tbody tr th {\n",
       "        vertical-align: top;\n",
       "    }\n",
       "\n",
       "    .dataframe thead th {\n",
       "        text-align: right;\n",
       "    }\n",
       "</style>\n",
       "<table border=\"1\" class=\"dataframe\">\n",
       "  <thead>\n",
       "    <tr style=\"text-align: right;\">\n",
       "      <th></th>\n",
       "      <th>timestamp</th>\n",
       "      <th>customer_no</th>\n",
       "    </tr>\n",
       "    <tr>\n",
       "      <th>location</th>\n",
       "      <th></th>\n",
       "      <th></th>\n",
       "    </tr>\n",
       "  </thead>\n",
       "  <tbody>\n",
       "    <tr>\n",
       "      <th>checkout</th>\n",
       "      <td>7417</td>\n",
       "      <td>7417</td>\n",
       "    </tr>\n",
       "    <tr>\n",
       "      <th>dairy</th>\n",
       "      <td>4679</td>\n",
       "      <td>4679</td>\n",
       "    </tr>\n",
       "    <tr>\n",
       "      <th>drinks</th>\n",
       "      <td>3905</td>\n",
       "      <td>3905</td>\n",
       "    </tr>\n",
       "    <tr>\n",
       "      <th>fruit</th>\n",
       "      <td>5122</td>\n",
       "      <td>5122</td>\n",
       "    </tr>\n",
       "    <tr>\n",
       "      <th>spices</th>\n",
       "      <td>3754</td>\n",
       "      <td>3754</td>\n",
       "    </tr>\n",
       "  </tbody>\n",
       "</table>\n",
       "</div>"
      ],
      "text/plain": [
       "          timestamp  customer_no\n",
       "location                        \n",
       "checkout       7417         7417\n",
       "dairy          4679         4679\n",
       "drinks         3905         3905\n",
       "fruit          5122         5122\n",
       "spices         3754         3754"
      ]
     },
     "execution_count": 63,
     "metadata": {},
     "output_type": "execute_result"
    }
   ],
   "source": [
    "# 2. Calculate the total number of customers in each section over time\n",
    "total = monday_customers + tuesday_customers + wednesday_customers + thursday_customers + friday_customers\n",
    "total"
   ]
  }
 ],
 "metadata": {
  "kernelspec": {
   "display_name": "Python 3",
   "language": "python",
   "name": "python3"
  },
  "language_info": {
   "codemirror_mode": {
    "name": "ipython",
    "version": 3
   },
   "file_extension": ".py",
   "mimetype": "text/x-python",
   "name": "python",
   "nbconvert_exporter": "python",
   "pygments_lexer": "ipython3",
   "version": "3.8.5"
  }
 },
 "nbformat": 4,
 "nbformat_minor": 4
}
