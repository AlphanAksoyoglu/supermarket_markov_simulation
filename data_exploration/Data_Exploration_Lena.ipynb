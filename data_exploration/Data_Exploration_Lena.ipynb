{
 "cells": [
  {
   "cell_type": "markdown",
   "metadata": {},
   "source": [
    "## 1. Data Exploration"
   ]
  },
  {
   "cell_type": "markdown",
   "metadata": {},
   "source": [
    "Our sales department is interested in a summary of the collected data. Please generate a report including numbers and diagrams. Note that your audience are not data scientists, so take care to prepare insights that are as clear as possible. We are interested in the following:\n",
    "\n",
    "1. Calculate the total number of customers in each section\n",
    "\n",
    "2. Calculate the total number of customers in each section over time\n",
    "\n",
    "3. Display the number of customers at checkout over time\n",
    "\n",
    "4. Calculate the time each customer spent in the market\n",
    "\n",
    "5. Calculate the total number of customers in the supermarket over time\n",
    "\n",
    "6. Our business managers think that the first section customers visit follows a different pattern than the following ones. Plot the distribution of customers of their first visited section versus following sections (treat all sections visited after the first as “following”)."
   ]
  },
  {
   "cell_type": "code",
   "execution_count": 20,
   "metadata": {},
   "outputs": [],
   "source": [
    "import pandas as pd\n",
    "\n",
    "import datetime\n",
    "from datetime import timedelta"
   ]
  },
  {
   "cell_type": "code",
   "execution_count": 2,
   "metadata": {},
   "outputs": [],
   "source": [
    "# Read the data\n",
    "monday = pd.read_csv('../data/monday.csv', sep=';', parse_dates=True)\n",
    "tuesday = monday = pd.read_csv('../data/tuesday.csv', sep=';')\n",
    "wednesday =  pd.read_csv('../data/wednesday.csv', sep=';')\n",
    "thursday = pd.read_csv('../data/thursday.csv', sep=';')\n",
    "friday = pd.read_csv('../data/friday.csv', sep=';')"
   ]
  },
  {
   "cell_type": "code",
   "execution_count": 3,
   "metadata": {},
   "outputs": [
    {
     "name": "stdout",
     "output_type": "stream",
     "text": [
      "<class 'pandas.core.frame.DataFrame'>\n",
      "RangeIndex: 4714 entries, 0 to 4713\n",
      "Data columns (total 3 columns):\n",
      " #   Column       Non-Null Count  Dtype \n",
      "---  ------       --------------  ----- \n",
      " 0   timestamp    4714 non-null   object\n",
      " 1   customer_no  4714 non-null   int64 \n",
      " 2   location     4714 non-null   object\n",
      "dtypes: int64(1), object(2)\n",
      "memory usage: 110.6+ KB\n"
     ]
    }
   ],
   "source": [
    "monday.info()"
   ]
  },
  {
   "cell_type": "code",
   "execution_count": 18,
   "metadata": {},
   "outputs": [],
   "source": [
    "monday['timestamp'] = pd.to_datetime(monday['timestamp'])"
   ]
  },
  {
   "cell_type": "raw",
   "metadata": {},
   "source": [
    "monday.columns\n",
    "monday['location'].unique()"
   ]
  },
  {
   "cell_type": "markdown",
   "metadata": {},
   "source": [
    "### 1. Calculate the total number of customers in each section"
   ]
  },
  {
   "cell_type": "code",
   "execution_count": 9,
   "metadata": {},
   "outputs": [
    {
     "name": "stdout",
     "output_type": "stream",
     "text": [
      "          timestamp  customer_no\n",
      "location                        \n",
      "checkout        682         1420\n",
      "dairy           527          751\n",
      "drinks          456          581\n",
      "fruit           521          827\n",
      "spices          450          543\n",
      "          timestamp  customer_no\n",
      "location                        \n",
      "checkout        682         1420\n",
      "dairy           527          751\n",
      "drinks          456          581\n",
      "fruit           521          827\n",
      "spices          450          543\n",
      "          timestamp  customer_no\n",
      "location                        \n",
      "checkout        699         1526\n",
      "dairy           543          804\n",
      "drinks          483          652\n",
      "fruit           562          884\n",
      "spices          475          565\n",
      "          timestamp  customer_no\n",
      "location                        \n",
      "checkout        693         1532\n",
      "dairy           540          782\n",
      "drinks          502          632\n",
      "fruit           587          872\n",
      "spices          497          613\n",
      "          timestamp  customer_no\n",
      "location                        \n",
      "checkout        686         1502\n",
      "dairy           544          761\n",
      "drinks          524          688\n",
      "fruit           577          874\n",
      "spices          494          633\n"
     ]
    }
   ],
   "source": [
    "monday_customers = monday.groupby('location').nunique()\n",
    "tuesday_customers = tuesday.groupby('location').nunique()\n",
    "wednesday_customers = wednesday.groupby('location').nunique()\n",
    "thursday_customers = thursday.groupby('location').nunique()\n",
    "friday_customers = friday.groupby('location').nunique()\n",
    "\n",
    "# Output w/o duplicates\n",
    "print(monday_customers)\n",
    "print(tuesday_customers)\n",
    "print(wednesday_customers)\n",
    "print(thursday_customers)\n",
    "print(friday_customers)"
   ]
  },
  {
   "cell_type": "markdown",
   "metadata": {},
   "source": [
    "### 2. Calculate the total number of customers in each section over time"
   ]
  },
  {
   "cell_type": "code",
   "execution_count": 10,
   "metadata": {},
   "outputs": [
    {
     "data": {
      "text/html": [
       "<div>\n",
       "<style scoped>\n",
       "    .dataframe tbody tr th:only-of-type {\n",
       "        vertical-align: middle;\n",
       "    }\n",
       "\n",
       "    .dataframe tbody tr th {\n",
       "        vertical-align: top;\n",
       "    }\n",
       "\n",
       "    .dataframe thead th {\n",
       "        text-align: right;\n",
       "    }\n",
       "</style>\n",
       "<table border=\"1\" class=\"dataframe\">\n",
       "  <thead>\n",
       "    <tr style=\"text-align: right;\">\n",
       "      <th></th>\n",
       "      <th>customer_no</th>\n",
       "    </tr>\n",
       "    <tr>\n",
       "      <th>location</th>\n",
       "      <th></th>\n",
       "    </tr>\n",
       "  </thead>\n",
       "  <tbody>\n",
       "    <tr>\n",
       "      <th>checkout</th>\n",
       "      <td>7400</td>\n",
       "    </tr>\n",
       "    <tr>\n",
       "      <th>dairy</th>\n",
       "      <td>3849</td>\n",
       "    </tr>\n",
       "    <tr>\n",
       "      <th>drinks</th>\n",
       "      <td>3134</td>\n",
       "    </tr>\n",
       "    <tr>\n",
       "      <th>fruit</th>\n",
       "      <td>4284</td>\n",
       "    </tr>\n",
       "    <tr>\n",
       "      <th>spices</th>\n",
       "      <td>2897</td>\n",
       "    </tr>\n",
       "  </tbody>\n",
       "</table>\n",
       "</div>"
      ],
      "text/plain": [
       "          customer_no\n",
       "location             \n",
       "checkout         7400\n",
       "dairy            3849\n",
       "drinks           3134\n",
       "fruit            4284\n",
       "spices           2897"
      ]
     },
     "execution_count": 10,
     "metadata": {},
     "output_type": "execute_result"
    }
   ],
   "source": [
    "total = monday_customers + tuesday_customers + wednesday_customers + thursday_customers + friday_customers\n",
    "total[['customer_no']]"
   ]
  },
  {
   "cell_type": "markdown",
   "metadata": {},
   "source": [
    "### 3. Display the number of customers at checkout over time"
   ]
  },
  {
   "cell_type": "code",
   "execution_count": 11,
   "metadata": {},
   "outputs": [
    {
     "data": {
      "text/html": [
       "<div>\n",
       "<style scoped>\n",
       "    .dataframe tbody tr th:only-of-type {\n",
       "        vertical-align: middle;\n",
       "    }\n",
       "\n",
       "    .dataframe tbody tr th {\n",
       "        vertical-align: top;\n",
       "    }\n",
       "\n",
       "    .dataframe thead th {\n",
       "        text-align: right;\n",
       "    }\n",
       "</style>\n",
       "<table border=\"1\" class=\"dataframe\">\n",
       "  <thead>\n",
       "    <tr style=\"text-align: right;\">\n",
       "      <th></th>\n",
       "      <th>customer_no</th>\n",
       "    </tr>\n",
       "    <tr>\n",
       "      <th>location</th>\n",
       "      <th></th>\n",
       "    </tr>\n",
       "  </thead>\n",
       "  <tbody>\n",
       "    <tr>\n",
       "      <th>checkout</th>\n",
       "      <td>7400</td>\n",
       "    </tr>\n",
       "  </tbody>\n",
       "</table>\n",
       "</div>"
      ],
      "text/plain": [
       "          customer_no\n",
       "location             \n",
       "checkout         7400"
      ]
     },
     "execution_count": 11,
     "metadata": {},
     "output_type": "execute_result"
    }
   ],
   "source": [
    "total_checkout = total.loc[['checkout']][['customer_no']]\n",
    "total_checkout"
   ]
  },
  {
   "cell_type": "markdown",
   "metadata": {},
   "source": [
    "### 4. Calculate the time each customer spent in the market"
   ]
  },
  {
   "cell_type": "code",
   "execution_count": 14,
   "metadata": {},
   "outputs": [
    {
     "name": "stdout",
     "output_type": "stream",
     "text": [
      "customer_no\n",
      "1      2019-09-03 07:12:00\n",
      "2      2019-09-03 07:17:00\n",
      "3      2019-09-03 07:10:00\n",
      "4      2019-09-03 07:12:00\n",
      "5      2019-09-03 07:09:00\n",
      "               ...        \n",
      "1418   2019-09-03 21:43:00\n",
      "1419   2019-09-03 21:43:00\n",
      "1420   2019-09-03 21:46:00\n",
      "1421   2019-09-03 21:48:00\n",
      "1422   2019-09-03 21:47:00\n",
      "Name: timestamp, Length: 1422, dtype: datetime64[ns] customer_no\n",
      "1      2019-09-03 07:02:00\n",
      "2      2019-09-03 07:02:00\n",
      "3      2019-09-03 07:03:00\n",
      "4      2019-09-03 07:06:00\n",
      "5      2019-09-03 07:06:00\n",
      "               ...        \n",
      "1418   2019-09-03 21:37:00\n",
      "1419   2019-09-03 21:42:00\n",
      "1420   2019-09-03 21:43:00\n",
      "1421   2019-09-03 21:46:00\n",
      "1422   2019-09-03 21:46:00\n",
      "Name: timestamp, Length: 1422, dtype: datetime64[ns]\n"
     ]
    }
   ],
   "source": [
    "max_time_monday = monday.groupby(\"customer_no\")[\"timestamp\"].max()\n",
    "min_time_monday = monday.groupby(\"customer_no\")[\"timestamp\"].min()\n",
    "\n",
    "print(max_time_monday, min_time_monday)"
   ]
  },
  {
   "cell_type": "code",
   "execution_count": 21,
   "metadata": {},
   "outputs": [
    {
     "data": {
      "text/html": [
       "<div>\n",
       "<style scoped>\n",
       "    .dataframe tbody tr th:only-of-type {\n",
       "        vertical-align: middle;\n",
       "    }\n",
       "\n",
       "    .dataframe tbody tr th {\n",
       "        vertical-align: top;\n",
       "    }\n",
       "\n",
       "    .dataframe thead th {\n",
       "        text-align: right;\n",
       "    }\n",
       "</style>\n",
       "<table border=\"1\" class=\"dataframe\">\n",
       "  <thead>\n",
       "    <tr style=\"text-align: right;\">\n",
       "      <th></th>\n",
       "      <th>timestamp</th>\n",
       "    </tr>\n",
       "    <tr>\n",
       "      <th>customer_no</th>\n",
       "      <th></th>\n",
       "    </tr>\n",
       "  </thead>\n",
       "  <tbody>\n",
       "    <tr>\n",
       "      <th>1</th>\n",
       "      <td>0 days 00:10:00</td>\n",
       "    </tr>\n",
       "    <tr>\n",
       "      <th>2</th>\n",
       "      <td>0 days 00:15:00</td>\n",
       "    </tr>\n",
       "    <tr>\n",
       "      <th>3</th>\n",
       "      <td>0 days 00:07:00</td>\n",
       "    </tr>\n",
       "    <tr>\n",
       "      <th>4</th>\n",
       "      <td>0 days 00:06:00</td>\n",
       "    </tr>\n",
       "    <tr>\n",
       "      <th>5</th>\n",
       "      <td>0 days 00:03:00</td>\n",
       "    </tr>\n",
       "    <tr>\n",
       "      <th>...</th>\n",
       "      <td>...</td>\n",
       "    </tr>\n",
       "    <tr>\n",
       "      <th>1418</th>\n",
       "      <td>0 days 00:06:00</td>\n",
       "    </tr>\n",
       "    <tr>\n",
       "      <th>1419</th>\n",
       "      <td>0 days 00:01:00</td>\n",
       "    </tr>\n",
       "    <tr>\n",
       "      <th>1420</th>\n",
       "      <td>0 days 00:03:00</td>\n",
       "    </tr>\n",
       "    <tr>\n",
       "      <th>1421</th>\n",
       "      <td>0 days 00:02:00</td>\n",
       "    </tr>\n",
       "    <tr>\n",
       "      <th>1422</th>\n",
       "      <td>0 days 00:01:00</td>\n",
       "    </tr>\n",
       "  </tbody>\n",
       "</table>\n",
       "<p>1422 rows × 1 columns</p>\n",
       "</div>"
      ],
      "text/plain": [
       "                  timestamp\n",
       "customer_no                \n",
       "1           0 days 00:10:00\n",
       "2           0 days 00:15:00\n",
       "3           0 days 00:07:00\n",
       "4           0 days 00:06:00\n",
       "5           0 days 00:03:00\n",
       "...                     ...\n",
       "1418        0 days 00:06:00\n",
       "1419        0 days 00:01:00\n",
       "1420        0 days 00:03:00\n",
       "1421        0 days 00:02:00\n",
       "1422        0 days 00:01:00\n",
       "\n",
       "[1422 rows x 1 columns]"
      ]
     },
     "execution_count": 21,
     "metadata": {},
     "output_type": "execute_result"
    }
   ],
   "source": [
    "diff = max_time_monday - min_time_monday\n",
    "pd.DataFrame(diff)"
   ]
  },
  {
   "cell_type": "markdown",
   "metadata": {},
   "source": [
    "### 5. Calculate the total number of customers in the supermarket over time"
   ]
  },
  {
   "cell_type": "code",
   "execution_count": null,
   "metadata": {},
   "outputs": [],
   "source": [
    "total[['customer_no']].sum()"
   ]
  },
  {
   "cell_type": "markdown",
   "metadata": {},
   "source": [
    "### 6. Plot the distribution of customers of their first visited section versus following sections"
   ]
  },
  {
   "cell_type": "code",
   "execution_count": null,
   "metadata": {},
   "outputs": [],
   "source": []
  }
 ],
 "metadata": {
  "kernelspec": {
   "display_name": "Python 3",
   "language": "python",
   "name": "python3"
  },
  "language_info": {
   "codemirror_mode": {
    "name": "ipython",
    "version": 3
   },
   "file_extension": ".py",
   "mimetype": "text/x-python",
   "name": "python",
   "nbconvert_exporter": "python",
   "pygments_lexer": "ipython3",
   "version": "3.8.5"
  }
 },
 "nbformat": 4,
 "nbformat_minor": 4
}
