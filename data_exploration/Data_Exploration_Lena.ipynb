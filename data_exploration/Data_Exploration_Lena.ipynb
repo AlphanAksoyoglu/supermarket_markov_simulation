{
 "cells": [
  {
   "cell_type": "markdown",
   "metadata": {},
   "source": [
    "## 1. Data Exploration"
   ]
  },
  {
   "cell_type": "markdown",
   "metadata": {},
   "source": [
    "Our sales department is interested in a summary of the collected data. Please generate a report including numbers and diagrams. Note that your audience are not data scientists, so take care to prepare insights that are as clear as possible. We are interested in the following:\n",
    "\n",
    "1. Calculate the total number of customers in each section\n",
    "\n",
    "2. Calculate the total number of customers in each section over time\n",
    "\n",
    "3. Display the number of customers at checkout over time\n",
    "\n",
    "4. Calculate the time each customer spent in the market\n",
    "\n",
    "5. Calculate the total number of customers in the supermarket over time\n",
    "\n",
    "6. Our business managers think that the first section customers visit follows a different pattern than the following ones. Plot the distribution of customers of their first visited section versus following sections (treat all sections visited after the first as “following”)."
   ]
  },
  {
   "cell_type": "code",
   "execution_count": 1,
   "metadata": {},
   "outputs": [],
   "source": [
    "import pandas as pd\n",
    "import datetime\n",
    "from datetime import timedelta\n",
    "\n",
    "import matplotlib.pyplot as plt\n",
    "import seaborn as sns"
   ]
  },
  {
   "cell_type": "code",
   "execution_count": 2,
   "metadata": {},
   "outputs": [],
   "source": [
    "# Reading the data\n",
    "monday = pd.read_csv('../data/monday.csv', sep=';')\n",
    "tuesday = pd.read_csv('../data/tuesday.csv', sep=';')\n",
    "wednesday =  pd.read_csv('../data/wednesday.csv', sep=';')\n",
    "thursday = pd.read_csv('../data/thursday.csv', sep=';')\n",
    "friday = pd.read_csv('../data/friday.csv', sep=';')"
   ]
  },
  {
   "cell_type": "code",
   "execution_count": 3,
   "metadata": {},
   "outputs": [
    {
     "output_type": "stream",
     "name": "stdout",
     "text": [
      "<class 'pandas.core.frame.DataFrame'>\nRangeIndex: 4884 entries, 0 to 4883\nData columns (total 3 columns):\n #   Column       Non-Null Count  Dtype \n---  ------       --------------  ----- \n 0   timestamp    4884 non-null   object\n 1   customer_no  4884 non-null   int64 \n 2   location     4884 non-null   object\ndtypes: int64(1), object(2)\nmemory usage: 114.6+ KB\n"
     ]
    }
   ],
   "source": [
    "monday.info()"
   ]
  },
  {
   "cell_type": "code",
   "execution_count": 4,
   "metadata": {},
   "outputs": [
    {
     "output_type": "execute_result",
     "data": {
      "text/plain": [
       "       customer_no\n",
       "count  4884.000000\n",
       "mean    718.274365\n",
       "std     411.839636\n",
       "min       1.000000\n",
       "25%     366.000000\n",
       "50%     720.000000\n",
       "75%    1070.000000\n",
       "max    1447.000000"
      ],
      "text/html": "<div>\n<style scoped>\n    .dataframe tbody tr th:only-of-type {\n        vertical-align: middle;\n    }\n\n    .dataframe tbody tr th {\n        vertical-align: top;\n    }\n\n    .dataframe thead th {\n        text-align: right;\n    }\n</style>\n<table border=\"1\" class=\"dataframe\">\n  <thead>\n    <tr style=\"text-align: right;\">\n      <th></th>\n      <th>customer_no</th>\n    </tr>\n  </thead>\n  <tbody>\n    <tr>\n      <th>count</th>\n      <td>4884.000000</td>\n    </tr>\n    <tr>\n      <th>mean</th>\n      <td>718.274365</td>\n    </tr>\n    <tr>\n      <th>std</th>\n      <td>411.839636</td>\n    </tr>\n    <tr>\n      <th>min</th>\n      <td>1.000000</td>\n    </tr>\n    <tr>\n      <th>25%</th>\n      <td>366.000000</td>\n    </tr>\n    <tr>\n      <th>50%</th>\n      <td>720.000000</td>\n    </tr>\n    <tr>\n      <th>75%</th>\n      <td>1070.000000</td>\n    </tr>\n    <tr>\n      <th>max</th>\n      <td>1447.000000</td>\n    </tr>\n  </tbody>\n</table>\n</div>"
     },
     "metadata": {},
     "execution_count": 4
    }
   ],
   "source": [
    "monday.describe()"
   ]
  },
  {
   "cell_type": "code",
   "execution_count": 5,
   "metadata": {},
   "outputs": [],
   "source": [
    "monday['timestamp'] = pd.to_datetime(monday['timestamp'])\n",
    "tuesday['timestamp'] = pd.to_datetime(tuesday['timestamp'])\n",
    "wednesday['timestamp'] = pd.to_datetime(wednesday['timestamp'])\n",
    "thursday['timestamp'] = pd.to_datetime(thursday['timestamp'])\n",
    "friday['timestamp'] = pd.to_datetime(friday['timestamp'])"
   ]
  },
  {
   "cell_type": "code",
   "execution_count": 6,
   "metadata": {},
   "outputs": [
    {
     "output_type": "execute_result",
     "data": {
      "text/plain": [
       "               timestamp  customer_no  location      time  minutes\n",
       "0    2019-09-02 07:03:00            1     dairy  07:03:00        3\n",
       "1    2019-09-02 07:03:00            2     dairy  07:03:00        3\n",
       "2    2019-09-02 07:04:00            3     dairy  07:04:00        4\n",
       "3    2019-09-02 07:04:00            4     dairy  07:04:00        4\n",
       "4    2019-09-02 07:04:00            5    spices  07:04:00        4\n",
       "...                  ...          ...       ...       ...      ...\n",
       "4879 2019-09-02 21:49:00         1442  checkout  21:49:00       49\n",
       "4880 2019-09-02 21:49:00         1444  checkout  21:49:00       49\n",
       "4881 2019-09-02 21:49:00         1445     dairy  21:49:00       49\n",
       "4882 2019-09-02 21:50:00         1446     dairy  21:50:00       50\n",
       "4883 2019-09-02 21:50:00         1447     fruit  21:50:00       50\n",
       "\n",
       "[4884 rows x 5 columns]"
      ],
      "text/html": "<div>\n<style scoped>\n    .dataframe tbody tr th:only-of-type {\n        vertical-align: middle;\n    }\n\n    .dataframe tbody tr th {\n        vertical-align: top;\n    }\n\n    .dataframe thead th {\n        text-align: right;\n    }\n</style>\n<table border=\"1\" class=\"dataframe\">\n  <thead>\n    <tr style=\"text-align: right;\">\n      <th></th>\n      <th>timestamp</th>\n      <th>customer_no</th>\n      <th>location</th>\n      <th>time</th>\n      <th>minutes</th>\n    </tr>\n  </thead>\n  <tbody>\n    <tr>\n      <th>0</th>\n      <td>2019-09-02 07:03:00</td>\n      <td>1</td>\n      <td>dairy</td>\n      <td>07:03:00</td>\n      <td>3</td>\n    </tr>\n    <tr>\n      <th>1</th>\n      <td>2019-09-02 07:03:00</td>\n      <td>2</td>\n      <td>dairy</td>\n      <td>07:03:00</td>\n      <td>3</td>\n    </tr>\n    <tr>\n      <th>2</th>\n      <td>2019-09-02 07:04:00</td>\n      <td>3</td>\n      <td>dairy</td>\n      <td>07:04:00</td>\n      <td>4</td>\n    </tr>\n    <tr>\n      <th>3</th>\n      <td>2019-09-02 07:04:00</td>\n      <td>4</td>\n      <td>dairy</td>\n      <td>07:04:00</td>\n      <td>4</td>\n    </tr>\n    <tr>\n      <th>4</th>\n      <td>2019-09-02 07:04:00</td>\n      <td>5</td>\n      <td>spices</td>\n      <td>07:04:00</td>\n      <td>4</td>\n    </tr>\n    <tr>\n      <th>...</th>\n      <td>...</td>\n      <td>...</td>\n      <td>...</td>\n      <td>...</td>\n      <td>...</td>\n    </tr>\n    <tr>\n      <th>4879</th>\n      <td>2019-09-02 21:49:00</td>\n      <td>1442</td>\n      <td>checkout</td>\n      <td>21:49:00</td>\n      <td>49</td>\n    </tr>\n    <tr>\n      <th>4880</th>\n      <td>2019-09-02 21:49:00</td>\n      <td>1444</td>\n      <td>checkout</td>\n      <td>21:49:00</td>\n      <td>49</td>\n    </tr>\n    <tr>\n      <th>4881</th>\n      <td>2019-09-02 21:49:00</td>\n      <td>1445</td>\n      <td>dairy</td>\n      <td>21:49:00</td>\n      <td>49</td>\n    </tr>\n    <tr>\n      <th>4882</th>\n      <td>2019-09-02 21:50:00</td>\n      <td>1446</td>\n      <td>dairy</td>\n      <td>21:50:00</td>\n      <td>50</td>\n    </tr>\n    <tr>\n      <th>4883</th>\n      <td>2019-09-02 21:50:00</td>\n      <td>1447</td>\n      <td>fruit</td>\n      <td>21:50:00</td>\n      <td>50</td>\n    </tr>\n  </tbody>\n</table>\n<p>4884 rows × 5 columns</p>\n</div>"
     },
     "metadata": {},
     "execution_count": 6
    }
   ],
   "source": [
    "# Сreating new columns:\n",
    "# Monday\n",
    "monday['time'] = monday['timestamp'].dt.time\n",
    "monday['minutes'] = monday['timestamp'].dt.minute\n",
    "\n",
    "#tuesday['time']=monday['timestamp'].dt.time\n",
    "#wednesday['time']=monday['timestamp'].dt.time\n",
    "#thursday['time']=monday['timestamp'].dt.time\n",
    "#friday['time']=monday['timestamp'].dt.time\n",
    "\n",
    "monday"
   ]
  },
  {
   "cell_type": "code",
   "execution_count": 7,
   "metadata": {},
   "outputs": [],
   "source": [
    "# Creating new column in each data set:\n",
    "monday['weekday'] = 'monday'\n",
    "tuesday['weekday'] = 'tuesday'\n",
    "wednesday['weekday'] = 'weekday'\n",
    "thursday['weekday'] = 'thursday'\n",
    "friday['weekday'] = 'friday'\n",
    "\n",
    "# Combining all datasets together:\n",
    "days = [monday, tuesday, wednesday, thursday, friday]\n",
    "weekday = pd.concat(days)\n",
    "weekday;"
   ]
  },
  {
   "cell_type": "markdown",
   "metadata": {},
   "source": [
    "### 1. Calculate the total number of customers in each section"
   ]
  },
  {
   "cell_type": "code",
   "execution_count": 8,
   "metadata": {},
   "outputs": [
    {
     "output_type": "stream",
     "name": "stdout",
     "text": [
      "location\ncheckout    1437\ndairy        720\ndrinks       661\nfruit        827\nspices       584\nName: customer_no, dtype: int64\nlocation\ncheckout    1420\ndairy        751\ndrinks       581\nfruit        827\nspices       543\nName: customer_no, dtype: int64\nlocation\ncheckout    1526\ndairy        804\ndrinks       652\nfruit        884\nspices       565\nName: customer_no, dtype: int64\nlocation\ncheckout    1532\ndairy        782\ndrinks       632\nfruit        872\nspices       613\nName: customer_no, dtype: int64\nlocation\ncheckout    1502\ndairy        761\ndrinks       688\nfruit        874\nspices       633\nName: customer_no, dtype: int64\n"
     ]
    }
   ],
   "source": [
    "monday_customers = monday.groupby('location').nunique()\n",
    "tuesday_customers = tuesday.groupby('location').nunique()\n",
    "wednesday_customers = wednesday.groupby('location').nunique()\n",
    "thursday_customers = thursday.groupby('location').nunique()\n",
    "friday_customers = friday.groupby('location').nunique()\n",
    "\n",
    "print(monday_customers.customer_no)\n",
    "print(tuesday_customers.customer_no)\n",
    "print(wednesday_customers.customer_no)\n",
    "print(thursday_customers.customer_no)\n",
    "print(friday_customers.customer_no)\n",
    "\n",
    "#pd.DataFrame(monday_customers['customer_no'])"
   ]
  },
  {
   "cell_type": "markdown",
   "metadata": {},
   "source": [
    "### 2. Calculate the total number of customers in each section over time"
   ]
  },
  {
   "cell_type": "code",
   "execution_count": 9,
   "metadata": {},
   "outputs": [
    {
     "output_type": "execute_result",
     "data": {
<<<<<<< HEAD
      "text/html": [
       "<div>\n",
       "<style scoped>\n",
       "    .dataframe tbody tr th:only-of-type {\n",
       "        vertical-align: middle;\n",
       "    }\n",
       "\n",
       "    .dataframe tbody tr th {\n",
       "        vertical-align: top;\n",
       "    }\n",
       "\n",
       "    .dataframe thead th {\n",
       "        text-align: right;\n",
       "    }\n",
       "</style>\n",
       "<table border=\"1\" class=\"dataframe\">\n",
       "  <thead>\n",
       "    <tr style=\"text-align: right;\">\n",
       "      <th></th>\n",
       "      <th>customer_no</th>\n",
       "    </tr>\n",
       "    <tr>\n",
       "      <th>location</th>\n",
       "      <th></th>\n",
       "    </tr>\n",
       "  </thead>\n",
       "  <tbody>\n",
       "    <tr>\n",
       "      <th>checkout</th>\n",
       "      <td>1502</td>\n",
       "    </tr>\n",
       "    <tr>\n",
       "      <th>dairy</th>\n",
       "      <td>761</td>\n",
       "    </tr>\n",
       "    <tr>\n",
       "      <th>drinks</th>\n",
       "      <td>688</td>\n",
       "    </tr>\n",
       "    <tr>\n",
       "      <th>fruit</th>\n",
       "      <td>874</td>\n",
       "    </tr>\n",
       "    <tr>\n",
       "      <th>spices</th>\n",
       "      <td>633</td>\n",
       "    </tr>\n",
       "  </tbody>\n",
       "</table>\n",
       "</div>"
      ],
      "text/plain": [
       "          customer_no\n",
       "location             \n",
       "checkout         1502\n",
       "dairy             761\n",
       "drinks            688\n",
       "fruit             874\n",
       "spices            633"
      ]
     },
     "execution_count": 9,
     "metadata": {},
     "output_type": "execute_result"
    }
   ],
   "source": [
    "# Days\n",
    "m = monday_customers[['customer_no']]\n",
    "t = tuesday_customers[['customer_no']]\n",
    "w = wednesday_customers[['customer_no']]\n",
    "th = thursday_customers[['customer_no']]\n",
    "f = friday_customers[['customer_no']]\n",
    "f"
   ]
  },
  {
   "cell_type": "code",
   "execution_count": 10,
   "metadata": {},
   "outputs": [
    {
     "data": {
      "text/html": [
       "<div>\n",
       "<style scoped>\n",
       "    .dataframe tbody tr th:only-of-type {\n",
       "        vertical-align: middle;\n",
       "    }\n",
       "\n",
       "    .dataframe tbody tr th {\n",
       "        vertical-align: top;\n",
       "    }\n",
       "\n",
       "    .dataframe thead th {\n",
       "        text-align: right;\n",
       "    }\n",
       "</style>\n",
       "<table border=\"1\" class=\"dataframe\">\n",
       "  <thead>\n",
       "    <tr style=\"text-align: right;\">\n",
       "      <th></th>\n",
       "      <th>customer_no</th>\n",
       "    </tr>\n",
       "    <tr>\n",
       "      <th>location</th>\n",
       "      <th></th>\n",
       "    </tr>\n",
       "  </thead>\n",
       "  <tbody>\n",
       "    <tr>\n",
       "      <th>checkout</th>\n",
       "      <td>7417</td>\n",
       "    </tr>\n",
       "    <tr>\n",
       "      <th>dairy</th>\n",
       "      <td>3818</td>\n",
       "    </tr>\n",
       "    <tr>\n",
       "      <th>drinks</th>\n",
       "      <td>3214</td>\n",
       "    </tr>\n",
       "    <tr>\n",
       "      <th>fruit</th>\n",
       "      <td>4284</td>\n",
       "    </tr>\n",
       "    <tr>\n",
       "      <th>spices</th>\n",
       "      <td>2938</td>\n",
       "    </tr>\n",
       "  </tbody>\n",
       "</table>\n",
       "</div>"
      ],
=======
>>>>>>> 3c78e03e16620df54bb8eecd398a95c4c663a5a1
      "text/plain": [
       "          customer_no\n",
       "location             \n",
       "checkout         7417\n",
       "dairy            3818\n",
       "drinks           3214\n",
       "fruit            4284\n",
       "spices           2938"
      ],
      "text/html": "<div>\n<style scoped>\n    .dataframe tbody tr th:only-of-type {\n        vertical-align: middle;\n    }\n\n    .dataframe tbody tr th {\n        vertical-align: top;\n    }\n\n    .dataframe thead th {\n        text-align: right;\n    }\n</style>\n<table border=\"1\" class=\"dataframe\">\n  <thead>\n    <tr style=\"text-align: right;\">\n      <th></th>\n      <th>customer_no</th>\n    </tr>\n    <tr>\n      <th>location</th>\n      <th></th>\n    </tr>\n  </thead>\n  <tbody>\n    <tr>\n      <th>checkout</th>\n      <td>7417</td>\n    </tr>\n    <tr>\n      <th>dairy</th>\n      <td>3818</td>\n    </tr>\n    <tr>\n      <th>drinks</th>\n      <td>3214</td>\n    </tr>\n    <tr>\n      <th>fruit</th>\n      <td>4284</td>\n    </tr>\n    <tr>\n      <th>spices</th>\n      <td>2938</td>\n    </tr>\n  </tbody>\n</table>\n</div>"
     },
<<<<<<< HEAD
     "execution_count": 10,
=======
>>>>>>> 3c78e03e16620df54bb8eecd398a95c4c663a5a1
     "metadata": {},
     "execution_count": 9
    }
   ],
   "source": [
    "total = monday_customers + tuesday_customers + wednesday_customers + thursday_customers + friday_customers\n",
    "total[['customer_no']]"
   ]
  },
  {
   "cell_type": "markdown",
   "metadata": {},
   "source": [
    "### 3. Display the number of customers at checkout over time"
   ]
  },
  {
   "cell_type": "code",
   "execution_count": 11,
   "metadata": {},
   "outputs": [
    {
     "output_type": "execute_result",
     "data": {
      "text/plain": [
       "          customer_no\n",
       "location             \n",
       "checkout         7417"
      ],
      "text/html": "<div>\n<style scoped>\n    .dataframe tbody tr th:only-of-type {\n        vertical-align: middle;\n    }\n\n    .dataframe tbody tr th {\n        vertical-align: top;\n    }\n\n    .dataframe thead th {\n        text-align: right;\n    }\n</style>\n<table border=\"1\" class=\"dataframe\">\n  <thead>\n    <tr style=\"text-align: right;\">\n      <th></th>\n      <th>customer_no</th>\n    </tr>\n    <tr>\n      <th>location</th>\n      <th></th>\n    </tr>\n  </thead>\n  <tbody>\n    <tr>\n      <th>checkout</th>\n      <td>7417</td>\n    </tr>\n  </tbody>\n</table>\n</div>"
     },
<<<<<<< HEAD
     "execution_count": 11,
=======
>>>>>>> 3c78e03e16620df54bb8eecd398a95c4c663a5a1
     "metadata": {},
     "execution_count": 10
    }
   ],
   "source": [
    "total_checkout = total.loc[['checkout']][['customer_no']]\n",
    "total_checkout"
   ]
  },
  {
   "cell_type": "markdown",
   "metadata": {},
   "source": [
    "### 4. Calculate the time each customer spent in the market"
   ]
  },
  {
   "cell_type": "code",
   "execution_count": 12,
   "metadata": {},
   "outputs": [
    {
     "output_type": "execute_result",
     "data": {
      "text/plain": [
       "                 time_spent\n",
       "customer_no                \n",
       "1           0 days 00:02:00\n",
       "2           0 days 00:03:00\n",
       "3           0 days 00:02:00\n",
       "4           0 days 00:04:00\n",
       "5           0 days 00:01:00\n",
       "...                     ...\n",
       "1443        0 days 00:01:00\n",
       "1444        0 days 00:01:00\n",
       "1445        0 days 00:00:00\n",
       "1446        0 days 00:00:00\n",
       "1447        0 days 00:00:00\n",
       "\n",
       "[1447 rows x 1 columns]"
      ],
      "text/html": "<div>\n<style scoped>\n    .dataframe tbody tr th:only-of-type {\n        vertical-align: middle;\n    }\n\n    .dataframe tbody tr th {\n        vertical-align: top;\n    }\n\n    .dataframe thead th {\n        text-align: right;\n    }\n</style>\n<table border=\"1\" class=\"dataframe\">\n  <thead>\n    <tr style=\"text-align: right;\">\n      <th></th>\n      <th>time_spent</th>\n    </tr>\n    <tr>\n      <th>customer_no</th>\n      <th></th>\n    </tr>\n  </thead>\n  <tbody>\n    <tr>\n      <th>1</th>\n      <td>0 days 00:02:00</td>\n    </tr>\n    <tr>\n      <th>2</th>\n      <td>0 days 00:03:00</td>\n    </tr>\n    <tr>\n      <th>3</th>\n      <td>0 days 00:02:00</td>\n    </tr>\n    <tr>\n      <th>4</th>\n      <td>0 days 00:04:00</td>\n    </tr>\n    <tr>\n      <th>5</th>\n      <td>0 days 00:01:00</td>\n    </tr>\n    <tr>\n      <th>...</th>\n      <td>...</td>\n    </tr>\n    <tr>\n      <th>1443</th>\n      <td>0 days 00:01:00</td>\n    </tr>\n    <tr>\n      <th>1444</th>\n      <td>0 days 00:01:00</td>\n    </tr>\n    <tr>\n      <th>1445</th>\n      <td>0 days 00:00:00</td>\n    </tr>\n    <tr>\n      <th>1446</th>\n      <td>0 days 00:00:00</td>\n    </tr>\n    <tr>\n      <th>1447</th>\n      <td>0 days 00:00:00</td>\n    </tr>\n  </tbody>\n</table>\n<p>1447 rows × 1 columns</p>\n</div>"
     },
<<<<<<< HEAD
     "execution_count": 12,
=======
>>>>>>> 3c78e03e16620df54bb8eecd398a95c4c663a5a1
     "metadata": {},
     "execution_count": 11
    }
   ],
   "source": [
    "max_time_monday = monday.groupby(\"customer_no\")[\"timestamp\"].max()\n",
    "min_time_monday = monday.groupby(\"customer_no\")[\"timestamp\"].min()\n",
    "\n",
    "time_spent = pd.concat([min_time_monday, max_time_monday], axis=1)\n",
    "time_spent['time_spent'] = (max_time_monday - min_time_monday)\n",
    "time_spent[['time_spent']]"
   ]
  },
  {
   "cell_type": "markdown",
   "metadata": {},
   "source": [
    "### 5. Calculate the total number of customers in the supermarket over time"
   ]
  },
  {
   "cell_type": "code",
   "execution_count": 13,
   "metadata": {},
   "outputs": [
    {
     "output_type": "stream",
     "name": "stdout",
     "text": [
      "Total number of customers in the supermarket: 7417.0\n"
     ]
    }
   ],
   "source": [
    "total_supermarket = monday_customers.max() + tuesday_customers.max() + wednesday_customers.max() + thursday_customers.max() + friday_customers.max()\n",
    "print('Total number of customers in the supermarket:',total_supermarket['customer_no'])"
   ]
  },
  {
   "cell_type": "markdown",
   "metadata": {},
   "source": [
    "### 6. Plot the distribution of customers of their first visited section versus following sections (Transitions)"
   ]
  },
  {
   "cell_type": "markdown",
   "metadata": {},
   "source": [
    "### 7. Revenue"
   ]
  },
  {
   "cell_type": "code",
   "execution_count": 14,
   "metadata": {},
   "outputs": [
    {
     "output_type": "execute_result",
     "data": {
      "text/plain": [
       "  location  revenue_per_minute\n",
       "0    fruit                   4\n",
       "1   spices                   3\n",
       "2    dairy                   5\n",
       "3   drinks                   6"
      ],
      "text/html": "<div>\n<style scoped>\n    .dataframe tbody tr th:only-of-type {\n        vertical-align: middle;\n    }\n\n    .dataframe tbody tr th {\n        vertical-align: top;\n    }\n\n    .dataframe thead th {\n        text-align: right;\n    }\n</style>\n<table border=\"1\" class=\"dataframe\">\n  <thead>\n    <tr style=\"text-align: right;\">\n      <th></th>\n      <th>location</th>\n      <th>revenue_per_minute</th>\n    </tr>\n  </thead>\n  <tbody>\n    <tr>\n      <th>0</th>\n      <td>fruit</td>\n      <td>4</td>\n    </tr>\n    <tr>\n      <th>1</th>\n      <td>spices</td>\n      <td>3</td>\n    </tr>\n    <tr>\n      <th>2</th>\n      <td>dairy</td>\n      <td>5</td>\n    </tr>\n    <tr>\n      <th>3</th>\n      <td>drinks</td>\n      <td>6</td>\n    </tr>\n  </tbody>\n</table>\n</div>"
     },
<<<<<<< HEAD
     "execution_count": 14,
=======
>>>>>>> 3c78e03e16620df54bb8eecd398a95c4c663a5a1
     "metadata": {},
     "execution_count": 13
    }
   ],
   "source": [
    "# Creating data frame:\n",
    "revenue = pd.DataFrame({'location': ['fruit', 'spices', 'dairy', 'drinks'], 'revenue_per_minute': [4, 3, 5, 6]})\n",
    "revenue"
   ]
  },
  {
   "cell_type": "code",
   "execution_count": 15,
   "metadata": {},
   "outputs": [
    {
     "output_type": "execute_result",
     "data": {
      "text/plain": [
       "               timestamp  customer_no  location      time  minutes weekday  \\\n",
       "0    2019-09-02 07:03:00            1     dairy  07:03:00        3  monday   \n",
       "1    2019-09-02 07:03:00            2     dairy  07:03:00        3  monday   \n",
       "2    2019-09-02 07:04:00            3     dairy  07:04:00        4  monday   \n",
       "3    2019-09-02 07:04:00            4     dairy  07:04:00        4  monday   \n",
       "4    2019-09-02 07:04:00            5    spices  07:04:00        4  monday   \n",
       "...                  ...          ...       ...       ...      ...     ...   \n",
       "4879 2019-09-02 21:49:00         1442  checkout  21:49:00       49  monday   \n",
       "4880 2019-09-02 21:49:00         1444  checkout  21:49:00       49  monday   \n",
       "4881 2019-09-02 21:49:00         1445     dairy  21:49:00       49  monday   \n",
       "4882 2019-09-02 21:50:00         1446     dairy  21:50:00       50  monday   \n",
       "4883 2019-09-02 21:50:00         1447     fruit  21:50:00       50  monday   \n",
       "\n",
       "     revenue  \n",
       "0          5  \n",
       "1          5  \n",
       "2          5  \n",
       "3          5  \n",
       "4          3  \n",
       "...      ...  \n",
       "4879       0  \n",
       "4880       0  \n",
       "4881       5  \n",
       "4882       5  \n",
       "4883       4  \n",
       "\n",
       "[4884 rows x 7 columns]"
      ],
      "text/html": "<div>\n<style scoped>\n    .dataframe tbody tr th:only-of-type {\n        vertical-align: middle;\n    }\n\n    .dataframe tbody tr th {\n        vertical-align: top;\n    }\n\n    .dataframe thead th {\n        text-align: right;\n    }\n</style>\n<table border=\"1\" class=\"dataframe\">\n  <thead>\n    <tr style=\"text-align: right;\">\n      <th></th>\n      <th>timestamp</th>\n      <th>customer_no</th>\n      <th>location</th>\n      <th>time</th>\n      <th>minutes</th>\n      <th>weekday</th>\n      <th>revenue</th>\n    </tr>\n  </thead>\n  <tbody>\n    <tr>\n      <th>0</th>\n      <td>2019-09-02 07:03:00</td>\n      <td>1</td>\n      <td>dairy</td>\n      <td>07:03:00</td>\n      <td>3</td>\n      <td>monday</td>\n      <td>5</td>\n    </tr>\n    <tr>\n      <th>1</th>\n      <td>2019-09-02 07:03:00</td>\n      <td>2</td>\n      <td>dairy</td>\n      <td>07:03:00</td>\n      <td>3</td>\n      <td>monday</td>\n      <td>5</td>\n    </tr>\n    <tr>\n      <th>2</th>\n      <td>2019-09-02 07:04:00</td>\n      <td>3</td>\n      <td>dairy</td>\n      <td>07:04:00</td>\n      <td>4</td>\n      <td>monday</td>\n      <td>5</td>\n    </tr>\n    <tr>\n      <th>3</th>\n      <td>2019-09-02 07:04:00</td>\n      <td>4</td>\n      <td>dairy</td>\n      <td>07:04:00</td>\n      <td>4</td>\n      <td>monday</td>\n      <td>5</td>\n    </tr>\n    <tr>\n      <th>4</th>\n      <td>2019-09-02 07:04:00</td>\n      <td>5</td>\n      <td>spices</td>\n      <td>07:04:00</td>\n      <td>4</td>\n      <td>monday</td>\n      <td>3</td>\n    </tr>\n    <tr>\n      <th>...</th>\n      <td>...</td>\n      <td>...</td>\n      <td>...</td>\n      <td>...</td>\n      <td>...</td>\n      <td>...</td>\n      <td>...</td>\n    </tr>\n    <tr>\n      <th>4879</th>\n      <td>2019-09-02 21:49:00</td>\n      <td>1442</td>\n      <td>checkout</td>\n      <td>21:49:00</td>\n      <td>49</td>\n      <td>monday</td>\n      <td>0</td>\n    </tr>\n    <tr>\n      <th>4880</th>\n      <td>2019-09-02 21:49:00</td>\n      <td>1444</td>\n      <td>checkout</td>\n      <td>21:49:00</td>\n      <td>49</td>\n      <td>monday</td>\n      <td>0</td>\n    </tr>\n    <tr>\n      <th>4881</th>\n      <td>2019-09-02 21:49:00</td>\n      <td>1445</td>\n      <td>dairy</td>\n      <td>21:49:00</td>\n      <td>49</td>\n      <td>monday</td>\n      <td>5</td>\n    </tr>\n    <tr>\n      <th>4882</th>\n      <td>2019-09-02 21:50:00</td>\n      <td>1446</td>\n      <td>dairy</td>\n      <td>21:50:00</td>\n      <td>50</td>\n      <td>monday</td>\n      <td>5</td>\n    </tr>\n    <tr>\n      <th>4883</th>\n      <td>2019-09-02 21:50:00</td>\n      <td>1447</td>\n      <td>fruit</td>\n      <td>21:50:00</td>\n      <td>50</td>\n      <td>monday</td>\n      <td>4</td>\n    </tr>\n  </tbody>\n</table>\n<p>4884 rows × 7 columns</p>\n</div>"
     },
<<<<<<< HEAD
     "execution_count": 15,
=======
>>>>>>> 3c78e03e16620df54bb8eecd398a95c4c663a5a1
     "metadata": {},
     "execution_count": 14
    }
   ],
   "source": [
    "# Setting values to the column 'revenue' by location:\n",
    "monday.loc[monday[\"location\"] == \"fruit\", \"revenue\"] = \"4\"\n",
    "monday.loc[monday[\"location\"] == \"spices\", \"revenue\"] = \"3\"\n",
    "monday.loc[monday[\"location\"] == \"dairy\", \"revenue\"] = \"5\"\n",
    "monday.loc[monday[\"location\"] == \"drinks\", \"revenue\"] = \"6\"\n",
    "monday.loc[monday[\"location\"] == \"checkout\", \"revenue\"] = \"0\"\n",
    "\n",
    "#monday[['customer_no', 'location', 'revenue']]\n",
    "monday"
   ]
  },
  {
   "cell_type": "code",
   "execution_count": 16,
   "metadata": {},
   "outputs": [],
   "source": [
    "# monday.sort_values(by=['location', 'revenue']).head()"
   ]
  },
  {
   "cell_type": "code",
   "execution_count": 17,
   "metadata": {},
   "outputs": [],
   "source": [
    "# Converting revenue column into integer: \n",
    "monday['revenue'] = monday['revenue'].astype(int)"
   ]
  },
  {
   "cell_type": "code",
   "execution_count": 18,
   "metadata": {},
   "outputs": [
    {
     "data": {
      "image/png": "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\n",
      "text/plain": [
       "<Figure size 432x288 with 1 Axes>"
      ]
     },
     "metadata": {
      "needs_background": "light"
     },
     "output_type": "display_data"
    }
   ],
   "source": [
    "# Calculatting revenue by location:\n",
    "monday.groupby('location')[['revenue']].sum().sort_values('revenue', ascending=False).plot(kind = 'bar', )\n",
    "plt.title('Revenue by location');"
   ]
  },
  {
   "cell_type": "code",
   "execution_count": 19,
   "metadata": {},
   "outputs": [
    {
     "output_type": "execute_result",
     "data": {
<<<<<<< HEAD
      "text/html": [
       "<div>\n",
       "<style scoped>\n",
       "    .dataframe tbody tr th:only-of-type {\n",
       "        vertical-align: middle;\n",
       "    }\n",
       "\n",
       "    .dataframe tbody tr th {\n",
       "        vertical-align: top;\n",
       "    }\n",
       "\n",
       "    .dataframe thead th {\n",
       "        text-align: right;\n",
       "    }\n",
       "</style>\n",
       "<table border=\"1\" class=\"dataframe\">\n",
       "  <thead>\n",
       "    <tr style=\"text-align: right;\">\n",
       "      <th></th>\n",
       "      <th>revenue</th>\n",
       "    </tr>\n",
       "    <tr>\n",
       "      <th>customer_no</th>\n",
       "      <th></th>\n",
       "    </tr>\n",
       "  </thead>\n",
       "  <tbody>\n",
       "    <tr>\n",
       "      <th>526</th>\n",
       "      <td>72</td>\n",
       "    </tr>\n",
       "    <tr>\n",
       "      <th>380</th>\n",
       "      <td>64</td>\n",
       "    </tr>\n",
       "    <tr>\n",
       "      <th>666</th>\n",
       "      <td>56</td>\n",
       "    </tr>\n",
       "    <tr>\n",
       "      <th>391</th>\n",
       "      <td>50</td>\n",
       "    </tr>\n",
       "    <tr>\n",
       "      <th>86</th>\n",
       "      <td>49</td>\n",
       "    </tr>\n",
       "    <tr>\n",
       "      <th>...</th>\n",
       "      <td>...</td>\n",
       "    </tr>\n",
       "    <tr>\n",
       "      <th>551</th>\n",
       "      <td>3</td>\n",
       "    </tr>\n",
       "    <tr>\n",
       "      <th>1196</th>\n",
       "      <td>3</td>\n",
       "    </tr>\n",
       "    <tr>\n",
       "      <th>559</th>\n",
       "      <td>3</td>\n",
       "    </tr>\n",
       "    <tr>\n",
       "      <th>626</th>\n",
       "      <td>3</td>\n",
       "    </tr>\n",
       "    <tr>\n",
       "      <th>483</th>\n",
       "      <td>3</td>\n",
       "    </tr>\n",
       "  </tbody>\n",
       "</table>\n",
       "<p>1447 rows × 1 columns</p>\n",
       "</div>"
      ],
      "text/plain": [
       "             revenue\n",
       "customer_no         \n",
       "526               72\n",
       "380               64\n",
       "666               56\n",
       "391               50\n",
       "86                49\n",
       "...              ...\n",
       "551                3\n",
       "1196               3\n",
       "559                3\n",
       "626                3\n",
       "483                3\n",
       "\n",
       "[1447 rows x 1 columns]"
      ]
     },
     "execution_count": 19,
=======
      "text/plain": [
       "          revenue\n",
       "location         \n",
       "drinks       4782\n",
       "dairy        4475\n",
       "fruit        4020\n",
       "spices       2250\n",
       "checkout        0"
      ],
      "text/html": "<div>\n<style scoped>\n    .dataframe tbody tr th:only-of-type {\n        vertical-align: middle;\n    }\n\n    .dataframe tbody tr th {\n        vertical-align: top;\n    }\n\n    .dataframe thead th {\n        text-align: right;\n    }\n</style>\n<table border=\"1\" class=\"dataframe\">\n  <thead>\n    <tr style=\"text-align: right;\">\n      <th></th>\n      <th>revenue</th>\n    </tr>\n    <tr>\n      <th>location</th>\n      <th></th>\n    </tr>\n  </thead>\n  <tbody>\n    <tr>\n      <th>drinks</th>\n      <td>4782</td>\n    </tr>\n    <tr>\n      <th>dairy</th>\n      <td>4475</td>\n    </tr>\n    <tr>\n      <th>fruit</th>\n      <td>4020</td>\n    </tr>\n    <tr>\n      <th>spices</th>\n      <td>2250</td>\n    </tr>\n    <tr>\n      <th>checkout</th>\n      <td>0</td>\n    </tr>\n  </tbody>\n</table>\n</div>"
     },
>>>>>>> 3c78e03e16620df54bb8eecd398a95c4c663a5a1
     "metadata": {},
     "execution_count": 17
    }
   ],
   "source": [
    "# Calculatting revenue from every customer:\n",
    "revenue_from_customer = monday.groupby('customer_no')[['revenue']].sum().sort_values('revenue', ascending=False)\n",
    "revenue_from_customer"
   ]
  },
  {
   "cell_type": "code",
   "execution_count": 27,
   "metadata": {},
   "outputs": [],
   "source": [
    "# Calculating total revenue per day (monday):\n",
    "#revenue_from_customer.sum()"
   ]
  },
  {
   "cell_type": "code",
   "execution_count": 21,
   "metadata": {},
   "outputs": [
    {
     "output_type": "execute_result",
     "data": {
<<<<<<< HEAD
      "text/html": [
       "<div>\n",
       "<style scoped>\n",
       "    .dataframe tbody tr th:only-of-type {\n",
       "        vertical-align: middle;\n",
       "    }\n",
       "\n",
       "    .dataframe tbody tr th {\n",
       "        vertical-align: top;\n",
       "    }\n",
       "\n",
       "    .dataframe thead th {\n",
       "        text-align: right;\n",
       "    }\n",
       "</style>\n",
       "<table border=\"1\" class=\"dataframe\">\n",
       "  <thead>\n",
       "    <tr style=\"text-align: right;\">\n",
       "      <th></th>\n",
       "      <th>timestamp</th>\n",
       "      <th>customer_no</th>\n",
       "      <th>location</th>\n",
       "      <th>time</th>\n",
       "      <th>minutes</th>\n",
       "      <th>weekday</th>\n",
       "      <th>revenue</th>\n",
       "      <th>location_before</th>\n",
       "      <th>timnestamp_before</th>\n",
       "      <th>time_spent</th>\n",
       "    </tr>\n",
       "  </thead>\n",
       "  <tbody>\n",
       "    <tr>\n",
       "      <th>5</th>\n",
       "      <td>2019-09-02 07:04:00</td>\n",
       "      <td>6</td>\n",
       "      <td>spices</td>\n",
       "      <td>07:04:00</td>\n",
       "      <td>4</td>\n",
       "      <td>monday</td>\n",
       "      <td>3</td>\n",
       "      <td>entrance</td>\n",
       "      <td>NaT</td>\n",
       "      <td>0 days 00:01:00</td>\n",
       "    </tr>\n",
       "    <tr>\n",
       "      <th>10</th>\n",
       "      <td>2019-09-02 07:05:00</td>\n",
       "      <td>6</td>\n",
       "      <td>dairy</td>\n",
       "      <td>07:05:00</td>\n",
       "      <td>5</td>\n",
       "      <td>monday</td>\n",
       "      <td>5</td>\n",
       "      <td>spices</td>\n",
       "      <td>2019-09-02 07:04:00</td>\n",
       "      <td>0 days 00:12:00</td>\n",
       "    </tr>\n",
       "    <tr>\n",
       "      <th>62</th>\n",
       "      <td>2019-09-02 07:17:00</td>\n",
       "      <td>6</td>\n",
       "      <td>spices</td>\n",
       "      <td>07:17:00</td>\n",
       "      <td>17</td>\n",
       "      <td>monday</td>\n",
       "      <td>3</td>\n",
       "      <td>dairy</td>\n",
       "      <td>2019-09-02 07:05:00</td>\n",
       "      <td>0 days 00:01:00</td>\n",
       "    </tr>\n",
       "    <tr>\n",
       "      <th>71</th>\n",
       "      <td>2019-09-02 07:18:00</td>\n",
       "      <td>6</td>\n",
       "      <td>drinks</td>\n",
       "      <td>07:18:00</td>\n",
       "      <td>18</td>\n",
       "      <td>monday</td>\n",
       "      <td>6</td>\n",
       "      <td>spices</td>\n",
       "      <td>2019-09-02 07:17:00</td>\n",
       "      <td>0 days 00:07:00</td>\n",
       "    </tr>\n",
       "    <tr>\n",
       "      <th>102</th>\n",
       "      <td>2019-09-02 07:25:00</td>\n",
       "      <td>6</td>\n",
       "      <td>spices</td>\n",
       "      <td>07:25:00</td>\n",
       "      <td>25</td>\n",
       "      <td>monday</td>\n",
       "      <td>3</td>\n",
       "      <td>drinks</td>\n",
       "      <td>2019-09-02 07:18:00</td>\n",
       "      <td>0 days 00:01:00</td>\n",
       "    </tr>\n",
       "    <tr>\n",
       "      <th>104</th>\n",
       "      <td>2019-09-02 07:26:00</td>\n",
       "      <td>6</td>\n",
       "      <td>dairy</td>\n",
       "      <td>07:26:00</td>\n",
       "      <td>26</td>\n",
       "      <td>monday</td>\n",
       "      <td>5</td>\n",
       "      <td>spices</td>\n",
       "      <td>2019-09-02 07:25:00</td>\n",
       "      <td>0 days 00:01:00</td>\n",
       "    </tr>\n",
       "    <tr>\n",
       "      <th>117</th>\n",
       "      <td>2019-09-02 07:27:00</td>\n",
       "      <td>6</td>\n",
       "      <td>spices</td>\n",
       "      <td>07:27:00</td>\n",
       "      <td>27</td>\n",
       "      <td>monday</td>\n",
       "      <td>3</td>\n",
       "      <td>dairy</td>\n",
       "      <td>2019-09-02 07:26:00</td>\n",
       "      <td>0 days 00:02:00</td>\n",
       "    </tr>\n",
       "    <tr>\n",
       "      <th>135</th>\n",
       "      <td>2019-09-02 07:29:00</td>\n",
       "      <td>6</td>\n",
       "      <td>checkout</td>\n",
       "      <td>07:29:00</td>\n",
       "      <td>29</td>\n",
       "      <td>monday</td>\n",
       "      <td>0</td>\n",
       "      <td>spices</td>\n",
       "      <td>2019-09-02 07:27:00</td>\n",
       "      <td>NaT</td>\n",
       "    </tr>\n",
       "  </tbody>\n",
       "</table>\n",
       "</div>"
      ],
      "text/plain": [
       "              timestamp  customer_no  location      time  minutes weekday  \\\n",
       "5   2019-09-02 07:04:00            6    spices  07:04:00        4  monday   \n",
       "10  2019-09-02 07:05:00            6     dairy  07:05:00        5  monday   \n",
       "62  2019-09-02 07:17:00            6    spices  07:17:00       17  monday   \n",
       "71  2019-09-02 07:18:00            6    drinks  07:18:00       18  monday   \n",
       "102 2019-09-02 07:25:00            6    spices  07:25:00       25  monday   \n",
       "104 2019-09-02 07:26:00            6     dairy  07:26:00       26  monday   \n",
       "117 2019-09-02 07:27:00            6    spices  07:27:00       27  monday   \n",
       "135 2019-09-02 07:29:00            6  checkout  07:29:00       29  monday   \n",
       "\n",
       "     revenue location_before   timnestamp_before      time_spent  \n",
       "5          3        entrance                 NaT 0 days 00:01:00  \n",
       "10         5          spices 2019-09-02 07:04:00 0 days 00:12:00  \n",
       "62         3           dairy 2019-09-02 07:05:00 0 days 00:01:00  \n",
       "71         6          spices 2019-09-02 07:17:00 0 days 00:07:00  \n",
       "102        3          drinks 2019-09-02 07:18:00 0 days 00:01:00  \n",
       "104        5          spices 2019-09-02 07:25:00 0 days 00:01:00  \n",
       "117        3           dairy 2019-09-02 07:26:00 0 days 00:02:00  \n",
       "135        0          spices 2019-09-02 07:27:00             NaT  "
      ]
     },
     "execution_count": 21,
     "metadata": {},
     "output_type": "execute_result"
    }
   ],
   "source": [
    "# Calculating the revenue based on the time spent in the market\n",
    "\n",
    "def revenue_per_customer(df, customer_no):\n",
    "    \"\"\"\n",
    "    Given a dataframe creates new dataframes\n",
    "    with the revenue made per customer per day\n",
    "    \"\"\"\n",
    "\n",
    "    for i in range(df[\"customer_no\"].max()):\n",
    "        customer_data = monday[monday[\"customer_no\"].isin([customer_no])].copy()\n",
    "        customer_data['location_before'] = customer_data['location'].shift(1).fillna('entrance')\n",
    "        customer_data['timnestamp_before'] = customer_data['timestamp'].shift(1)\n",
    "        customer_data['time_spent'] = customer_data['timestamp'] - customer_data['timnestamp_before']\n",
    "        customer_data['time_spent'] = customer_data['time_spent'].shift(-1)\n",
    "        return customer_data\n",
    "\n",
    "df1 = revenue_per_customer(monday, 6)\n",
    "df1"
   ]
  },
  {
   "cell_type": "code",
   "execution_count": 22,
   "metadata": {},
   "outputs": [
    {
     "data": {
      "text/html": [
       "<div>\n",
       "<style scoped>\n",
       "    .dataframe tbody tr th:only-of-type {\n",
       "        vertical-align: middle;\n",
       "    }\n",
       "\n",
       "    .dataframe tbody tr th {\n",
       "        vertical-align: top;\n",
       "    }\n",
       "\n",
       "    .dataframe thead th {\n",
       "        text-align: right;\n",
       "    }\n",
       "</style>\n",
       "<table border=\"1\" class=\"dataframe\">\n",
       "  <thead>\n",
       "    <tr style=\"text-align: right;\">\n",
       "      <th></th>\n",
       "      <th>timestamp</th>\n",
       "      <th>customer_no</th>\n",
       "      <th>location</th>\n",
       "      <th>time</th>\n",
       "      <th>minutes</th>\n",
       "      <th>weekday</th>\n",
       "      <th>revenue</th>\n",
       "      <th>location_before</th>\n",
       "      <th>timnestamp_before</th>\n",
       "      <th>time_spent</th>\n",
       "      <th>minutes_spent</th>\n",
       "    </tr>\n",
       "  </thead>\n",
       "  <tbody>\n",
       "    <tr>\n",
       "      <th>5</th>\n",
       "      <td>2019-09-02 07:04:00</td>\n",
       "      <td>6</td>\n",
       "      <td>spices</td>\n",
       "      <td>07:04:00</td>\n",
       "      <td>4</td>\n",
       "      <td>monday</td>\n",
       "      <td>3</td>\n",
       "      <td>entrance</td>\n",
       "      <td>NaT</td>\n",
       "      <td>0 days 00:01:00</td>\n",
       "      <td>1.0</td>\n",
       "    </tr>\n",
       "    <tr>\n",
       "      <th>10</th>\n",
       "      <td>2019-09-02 07:05:00</td>\n",
       "      <td>6</td>\n",
       "      <td>dairy</td>\n",
       "      <td>07:05:00</td>\n",
       "      <td>5</td>\n",
       "      <td>monday</td>\n",
       "      <td>5</td>\n",
       "      <td>spices</td>\n",
       "      <td>2019-09-02 07:04:00</td>\n",
       "      <td>0 days 00:12:00</td>\n",
       "      <td>12.0</td>\n",
       "    </tr>\n",
       "    <tr>\n",
       "      <th>62</th>\n",
       "      <td>2019-09-02 07:17:00</td>\n",
       "      <td>6</td>\n",
       "      <td>spices</td>\n",
       "      <td>07:17:00</td>\n",
       "      <td>17</td>\n",
       "      <td>monday</td>\n",
       "      <td>3</td>\n",
       "      <td>dairy</td>\n",
       "      <td>2019-09-02 07:05:00</td>\n",
       "      <td>0 days 00:01:00</td>\n",
       "      <td>1.0</td>\n",
       "    </tr>\n",
       "    <tr>\n",
       "      <th>71</th>\n",
       "      <td>2019-09-02 07:18:00</td>\n",
       "      <td>6</td>\n",
       "      <td>drinks</td>\n",
       "      <td>07:18:00</td>\n",
       "      <td>18</td>\n",
       "      <td>monday</td>\n",
       "      <td>6</td>\n",
       "      <td>spices</td>\n",
       "      <td>2019-09-02 07:17:00</td>\n",
       "      <td>0 days 00:07:00</td>\n",
       "      <td>7.0</td>\n",
       "    </tr>\n",
       "    <tr>\n",
       "      <th>102</th>\n",
       "      <td>2019-09-02 07:25:00</td>\n",
       "      <td>6</td>\n",
       "      <td>spices</td>\n",
       "      <td>07:25:00</td>\n",
       "      <td>25</td>\n",
       "      <td>monday</td>\n",
       "      <td>3</td>\n",
       "      <td>drinks</td>\n",
       "      <td>2019-09-02 07:18:00</td>\n",
       "      <td>0 days 00:01:00</td>\n",
       "      <td>1.0</td>\n",
       "    </tr>\n",
       "    <tr>\n",
       "      <th>104</th>\n",
       "      <td>2019-09-02 07:26:00</td>\n",
       "      <td>6</td>\n",
       "      <td>dairy</td>\n",
       "      <td>07:26:00</td>\n",
       "      <td>26</td>\n",
       "      <td>monday</td>\n",
       "      <td>5</td>\n",
       "      <td>spices</td>\n",
       "      <td>2019-09-02 07:25:00</td>\n",
       "      <td>0 days 00:01:00</td>\n",
       "      <td>1.0</td>\n",
       "    </tr>\n",
       "    <tr>\n",
       "      <th>117</th>\n",
       "      <td>2019-09-02 07:27:00</td>\n",
       "      <td>6</td>\n",
       "      <td>spices</td>\n",
       "      <td>07:27:00</td>\n",
       "      <td>27</td>\n",
       "      <td>monday</td>\n",
       "      <td>3</td>\n",
       "      <td>dairy</td>\n",
       "      <td>2019-09-02 07:26:00</td>\n",
       "      <td>0 days 00:02:00</td>\n",
       "      <td>2.0</td>\n",
       "    </tr>\n",
       "    <tr>\n",
       "      <th>135</th>\n",
       "      <td>2019-09-02 07:29:00</td>\n",
       "      <td>6</td>\n",
       "      <td>checkout</td>\n",
       "      <td>07:29:00</td>\n",
       "      <td>29</td>\n",
       "      <td>monday</td>\n",
       "      <td>0</td>\n",
       "      <td>spices</td>\n",
       "      <td>2019-09-02 07:27:00</td>\n",
       "      <td>NaT</td>\n",
       "      <td>NaN</td>\n",
       "    </tr>\n",
       "  </tbody>\n",
       "</table>\n",
       "</div>"
      ],
      "text/plain": [
       "              timestamp  customer_no  location      time  minutes weekday  \\\n",
       "5   2019-09-02 07:04:00            6    spices  07:04:00        4  monday   \n",
       "10  2019-09-02 07:05:00            6     dairy  07:05:00        5  monday   \n",
       "62  2019-09-02 07:17:00            6    spices  07:17:00       17  monday   \n",
       "71  2019-09-02 07:18:00            6    drinks  07:18:00       18  monday   \n",
       "102 2019-09-02 07:25:00            6    spices  07:25:00       25  monday   \n",
       "104 2019-09-02 07:26:00            6     dairy  07:26:00       26  monday   \n",
       "117 2019-09-02 07:27:00            6    spices  07:27:00       27  monday   \n",
       "135 2019-09-02 07:29:00            6  checkout  07:29:00       29  monday   \n",
       "\n",
       "     revenue location_before   timnestamp_before      time_spent  \\\n",
       "5          3        entrance                 NaT 0 days 00:01:00   \n",
       "10         5          spices 2019-09-02 07:04:00 0 days 00:12:00   \n",
       "62         3           dairy 2019-09-02 07:05:00 0 days 00:01:00   \n",
       "71         6          spices 2019-09-02 07:17:00 0 days 00:07:00   \n",
       "102        3          drinks 2019-09-02 07:18:00 0 days 00:01:00   \n",
       "104        5          spices 2019-09-02 07:25:00 0 days 00:01:00   \n",
       "117        3           dairy 2019-09-02 07:26:00 0 days 00:02:00   \n",
       "135        0          spices 2019-09-02 07:27:00             NaT   \n",
       "\n",
       "     minutes_spent  \n",
       "5              1.0  \n",
       "10            12.0  \n",
       "62             1.0  \n",
       "71             7.0  \n",
       "102            1.0  \n",
       "104            1.0  \n",
       "117            2.0  \n",
       "135            NaN  "
      ]
     },
     "execution_count": 22,
     "metadata": {},
     "output_type": "execute_result"
    }
   ],
   "source": [
    "# Changing the format of the data in a column 'time_spent'\n",
    "df2 = df1['time_spent'] + datetime.datetime(1970, 1, 1, 0, 0)\n",
    "df2.dt.minute\n",
    "\n",
    "# Creating new column (minutes spent by location)\n",
    "df1['minutes_spent'] = df2.dt.minute\n",
    "df1['minutes_spent']\n",
    "df1"
   ]
  },
  {
   "cell_type": "code",
   "execution_count": 24,
   "metadata": {},
   "outputs": [
    {
     "data": {
      "text/html": [
       "<div>\n",
       "<style scoped>\n",
       "    .dataframe tbody tr th:only-of-type {\n",
       "        vertical-align: middle;\n",
       "    }\n",
       "\n",
       "    .dataframe tbody tr th {\n",
       "        vertical-align: top;\n",
       "    }\n",
       "\n",
       "    .dataframe thead th {\n",
       "        text-align: right;\n",
       "    }\n",
       "</style>\n",
       "<table border=\"1\" class=\"dataframe\">\n",
       "  <thead>\n",
       "    <tr style=\"text-align: right;\">\n",
       "      <th></th>\n",
       "      <th>timestamp</th>\n",
       "      <th>customer_no</th>\n",
       "      <th>location</th>\n",
       "      <th>time</th>\n",
       "      <th>minutes</th>\n",
       "      <th>weekday</th>\n",
       "      <th>revenue</th>\n",
       "      <th>location_before</th>\n",
       "      <th>timnestamp_before</th>\n",
       "      <th>time_spent</th>\n",
       "      <th>minutes_spent</th>\n",
       "      <th>revenue_per_minute</th>\n",
       "    </tr>\n",
       "  </thead>\n",
       "  <tbody>\n",
       "    <tr>\n",
       "      <th>5</th>\n",
       "      <td>2019-09-02 07:04:00</td>\n",
       "      <td>6</td>\n",
       "      <td>spices</td>\n",
       "      <td>07:04:00</td>\n",
       "      <td>4</td>\n",
       "      <td>monday</td>\n",
       "      <td>3</td>\n",
       "      <td>entrance</td>\n",
       "      <td>NaT</td>\n",
       "      <td>0 days 00:01:00</td>\n",
       "      <td>1.0</td>\n",
       "      <td>3.0</td>\n",
       "    </tr>\n",
       "    <tr>\n",
       "      <th>10</th>\n",
       "      <td>2019-09-02 07:05:00</td>\n",
       "      <td>6</td>\n",
       "      <td>dairy</td>\n",
       "      <td>07:05:00</td>\n",
       "      <td>5</td>\n",
       "      <td>monday</td>\n",
       "      <td>5</td>\n",
       "      <td>spices</td>\n",
       "      <td>2019-09-02 07:04:00</td>\n",
       "      <td>0 days 00:12:00</td>\n",
       "      <td>12.0</td>\n",
       "      <td>60.0</td>\n",
       "    </tr>\n",
       "    <tr>\n",
       "      <th>62</th>\n",
       "      <td>2019-09-02 07:17:00</td>\n",
       "      <td>6</td>\n",
       "      <td>spices</td>\n",
       "      <td>07:17:00</td>\n",
       "      <td>17</td>\n",
       "      <td>monday</td>\n",
       "      <td>3</td>\n",
       "      <td>dairy</td>\n",
       "      <td>2019-09-02 07:05:00</td>\n",
       "      <td>0 days 00:01:00</td>\n",
       "      <td>1.0</td>\n",
       "      <td>3.0</td>\n",
       "    </tr>\n",
       "    <tr>\n",
       "      <th>71</th>\n",
       "      <td>2019-09-02 07:18:00</td>\n",
       "      <td>6</td>\n",
       "      <td>drinks</td>\n",
       "      <td>07:18:00</td>\n",
       "      <td>18</td>\n",
       "      <td>monday</td>\n",
       "      <td>6</td>\n",
       "      <td>spices</td>\n",
       "      <td>2019-09-02 07:17:00</td>\n",
       "      <td>0 days 00:07:00</td>\n",
       "      <td>7.0</td>\n",
       "      <td>42.0</td>\n",
       "    </tr>\n",
       "    <tr>\n",
       "      <th>102</th>\n",
       "      <td>2019-09-02 07:25:00</td>\n",
       "      <td>6</td>\n",
       "      <td>spices</td>\n",
       "      <td>07:25:00</td>\n",
       "      <td>25</td>\n",
       "      <td>monday</td>\n",
       "      <td>3</td>\n",
       "      <td>drinks</td>\n",
       "      <td>2019-09-02 07:18:00</td>\n",
       "      <td>0 days 00:01:00</td>\n",
       "      <td>1.0</td>\n",
       "      <td>3.0</td>\n",
       "    </tr>\n",
       "    <tr>\n",
       "      <th>104</th>\n",
       "      <td>2019-09-02 07:26:00</td>\n",
       "      <td>6</td>\n",
       "      <td>dairy</td>\n",
       "      <td>07:26:00</td>\n",
       "      <td>26</td>\n",
       "      <td>monday</td>\n",
       "      <td>5</td>\n",
       "      <td>spices</td>\n",
       "      <td>2019-09-02 07:25:00</td>\n",
       "      <td>0 days 00:01:00</td>\n",
       "      <td>1.0</td>\n",
       "      <td>5.0</td>\n",
       "    </tr>\n",
       "    <tr>\n",
       "      <th>117</th>\n",
       "      <td>2019-09-02 07:27:00</td>\n",
       "      <td>6</td>\n",
       "      <td>spices</td>\n",
       "      <td>07:27:00</td>\n",
       "      <td>27</td>\n",
       "      <td>monday</td>\n",
       "      <td>3</td>\n",
       "      <td>dairy</td>\n",
       "      <td>2019-09-02 07:26:00</td>\n",
       "      <td>0 days 00:02:00</td>\n",
       "      <td>2.0</td>\n",
       "      <td>6.0</td>\n",
       "    </tr>\n",
       "    <tr>\n",
       "      <th>135</th>\n",
       "      <td>2019-09-02 07:29:00</td>\n",
       "      <td>6</td>\n",
       "      <td>checkout</td>\n",
       "      <td>07:29:00</td>\n",
       "      <td>29</td>\n",
       "      <td>monday</td>\n",
       "      <td>0</td>\n",
       "      <td>spices</td>\n",
       "      <td>2019-09-02 07:27:00</td>\n",
       "      <td>NaT</td>\n",
       "      <td>NaN</td>\n",
       "      <td>NaN</td>\n",
       "    </tr>\n",
       "  </tbody>\n",
       "</table>\n",
       "</div>"
      ],
=======
>>>>>>> 3c78e03e16620df54bb8eecd398a95c4c663a5a1
      "text/plain": [
       "              timestamp  customer_no  location      time  minutes weekday  \\\n",
       "5   2019-09-02 07:04:00            6    spices  07:04:00        4  monday   \n",
       "10  2019-09-02 07:05:00            6     dairy  07:05:00        5  monday   \n",
       "62  2019-09-02 07:17:00            6    spices  07:17:00       17  monday   \n",
       "71  2019-09-02 07:18:00            6    drinks  07:18:00       18  monday   \n",
       "102 2019-09-02 07:25:00            6    spices  07:25:00       25  monday   \n",
       "104 2019-09-02 07:26:00            6     dairy  07:26:00       26  monday   \n",
       "117 2019-09-02 07:27:00            6    spices  07:27:00       27  monday   \n",
       "135 2019-09-02 07:29:00            6  checkout  07:29:00       29  monday   \n",
       "\n",
<<<<<<< HEAD
       "     revenue location_before   timnestamp_before      time_spent  \\\n",
       "5          3        entrance                 NaT 0 days 00:01:00   \n",
       "10         5          spices 2019-09-02 07:04:00 0 days 00:12:00   \n",
       "62         3           dairy 2019-09-02 07:05:00 0 days 00:01:00   \n",
       "71         6          spices 2019-09-02 07:17:00 0 days 00:07:00   \n",
       "102        3          drinks 2019-09-02 07:18:00 0 days 00:01:00   \n",
       "104        5          spices 2019-09-02 07:25:00 0 days 00:01:00   \n",
       "117        3           dairy 2019-09-02 07:26:00 0 days 00:02:00   \n",
       "135        0          spices 2019-09-02 07:27:00             NaT   \n",
       "\n",
       "     minutes_spent  revenue_per_minute  \n",
       "5              1.0                 3.0  \n",
       "10            12.0                60.0  \n",
       "62             1.0                 3.0  \n",
       "71             7.0                42.0  \n",
       "102            1.0                 3.0  \n",
       "104            1.0                 5.0  \n",
       "117            2.0                 6.0  \n",
       "135            NaN                 NaN  "
      ]
     },
     "execution_count": 24,
=======
       "[1447 rows x 1 columns]"
      ],
      "text/html": "<div>\n<style scoped>\n    .dataframe tbody tr th:only-of-type {\n        vertical-align: middle;\n    }\n\n    .dataframe tbody tr th {\n        vertical-align: top;\n    }\n\n    .dataframe thead th {\n        text-align: right;\n    }\n</style>\n<table border=\"1\" class=\"dataframe\">\n  <thead>\n    <tr style=\"text-align: right;\">\n      <th></th>\n      <th>revenue</th>\n    </tr>\n    <tr>\n      <th>customer_no</th>\n      <th></th>\n    </tr>\n  </thead>\n  <tbody>\n    <tr>\n      <th>526</th>\n      <td>72</td>\n    </tr>\n    <tr>\n      <th>380</th>\n      <td>64</td>\n    </tr>\n    <tr>\n      <th>666</th>\n      <td>56</td>\n    </tr>\n    <tr>\n      <th>391</th>\n      <td>50</td>\n    </tr>\n    <tr>\n      <th>86</th>\n      <td>49</td>\n    </tr>\n    <tr>\n      <th>...</th>\n      <td>...</td>\n    </tr>\n    <tr>\n      <th>551</th>\n      <td>3</td>\n    </tr>\n    <tr>\n      <th>1196</th>\n      <td>3</td>\n    </tr>\n    <tr>\n      <th>559</th>\n      <td>3</td>\n    </tr>\n    <tr>\n      <th>626</th>\n      <td>3</td>\n    </tr>\n    <tr>\n      <th>483</th>\n      <td>3</td>\n    </tr>\n  </tbody>\n</table>\n<p>1447 rows × 1 columns</p>\n</div>"
     },
>>>>>>> 3c78e03e16620df54bb8eecd398a95c4c663a5a1
     "metadata": {},
     "execution_count": 18
    }
   ],
   "source": [
    "# Calculating the revenue per minute by locations\n",
    "df1['revenue_per_minute'] = df1['revenue'] * df1['minutes_spent']\n",
    "df1"
   ]
  },
  {
   "cell_type": "code",
   "execution_count": 26,
   "metadata": {},
   "outputs": [
    {
     "output_type": "execute_result",
     "data": {
      "text/plain": [
       "122.0"
      ]
     },
<<<<<<< HEAD
     "execution_count": 26,
=======
>>>>>>> 3c78e03e16620df54bb8eecd398a95c4c663a5a1
     "metadata": {},
     "execution_count": 19
    }
   ],
   "source": [
    "total_revenue_monday = df1['revenue_per_minute'].sum()\n",
    "total_revenue_monday"
   ]
  },
  {
   "cell_type": "code",
   "execution_count": 39,
   "metadata": {},
   "outputs": [
    {
     "output_type": "execute_result",
     "data": {
      "text/plain": [
       "              timestamp  customer_no  location      time  minutes weekday  \\\n",
       "5   2019-09-02 07:04:00            6    spices  07:04:00        4  monday   \n",
       "10  2019-09-02 07:05:00            6     dairy  07:05:00        5  monday   \n",
       "62  2019-09-02 07:17:00            6    spices  07:17:00       17  monday   \n",
       "71  2019-09-02 07:18:00            6    drinks  07:18:00       18  monday   \n",
       "102 2019-09-02 07:25:00            6    spices  07:25:00       25  monday   \n",
       "104 2019-09-02 07:26:00            6     dairy  07:26:00       26  monday   \n",
       "117 2019-09-02 07:27:00            6    spices  07:27:00       27  monday   \n",
       "135 2019-09-02 07:29:00            6  checkout  07:29:00       29  monday   \n",
       "\n",
       "     revenue location_before   timnestamp_before      time_spent  \n",
       "5          3        entrance                 NaT 0 days 00:01:00  \n",
       "10         5          spices 2019-09-02 07:04:00 0 days 00:12:00  \n",
       "62         3           dairy 2019-09-02 07:05:00 0 days 00:01:00  \n",
       "71         6          spices 2019-09-02 07:17:00 0 days 00:07:00  \n",
       "102        3          drinks 2019-09-02 07:18:00 0 days 00:01:00  \n",
       "104        5          spices 2019-09-02 07:25:00 0 days 00:01:00  \n",
       "117        3           dairy 2019-09-02 07:26:00 0 days 00:02:00  \n",
       "135        0          spices 2019-09-02 07:27:00             NaT  "
      ],
      "text/html": "<div>\n<style scoped>\n    .dataframe tbody tr th:only-of-type {\n        vertical-align: middle;\n    }\n\n    .dataframe tbody tr th {\n        vertical-align: top;\n    }\n\n    .dataframe thead th {\n        text-align: right;\n    }\n</style>\n<table border=\"1\" class=\"dataframe\">\n  <thead>\n    <tr style=\"text-align: right;\">\n      <th></th>\n      <th>timestamp</th>\n      <th>customer_no</th>\n      <th>location</th>\n      <th>time</th>\n      <th>minutes</th>\n      <th>weekday</th>\n      <th>revenue</th>\n      <th>location_before</th>\n      <th>timnestamp_before</th>\n      <th>time_spent</th>\n    </tr>\n  </thead>\n  <tbody>\n    <tr>\n      <th>5</th>\n      <td>2019-09-02 07:04:00</td>\n      <td>6</td>\n      <td>spices</td>\n      <td>07:04:00</td>\n      <td>4</td>\n      <td>monday</td>\n      <td>3</td>\n      <td>entrance</td>\n      <td>NaT</td>\n      <td>0 days 00:01:00</td>\n    </tr>\n    <tr>\n      <th>10</th>\n      <td>2019-09-02 07:05:00</td>\n      <td>6</td>\n      <td>dairy</td>\n      <td>07:05:00</td>\n      <td>5</td>\n      <td>monday</td>\n      <td>5</td>\n      <td>spices</td>\n      <td>2019-09-02 07:04:00</td>\n      <td>0 days 00:12:00</td>\n    </tr>\n    <tr>\n      <th>62</th>\n      <td>2019-09-02 07:17:00</td>\n      <td>6</td>\n      <td>spices</td>\n      <td>07:17:00</td>\n      <td>17</td>\n      <td>monday</td>\n      <td>3</td>\n      <td>dairy</td>\n      <td>2019-09-02 07:05:00</td>\n      <td>0 days 00:01:00</td>\n    </tr>\n    <tr>\n      <th>71</th>\n      <td>2019-09-02 07:18:00</td>\n      <td>6</td>\n      <td>drinks</td>\n      <td>07:18:00</td>\n      <td>18</td>\n      <td>monday</td>\n      <td>6</td>\n      <td>spices</td>\n      <td>2019-09-02 07:17:00</td>\n      <td>0 days 00:07:00</td>\n    </tr>\n    <tr>\n      <th>102</th>\n      <td>2019-09-02 07:25:00</td>\n      <td>6</td>\n      <td>spices</td>\n      <td>07:25:00</td>\n      <td>25</td>\n      <td>monday</td>\n      <td>3</td>\n      <td>drinks</td>\n      <td>2019-09-02 07:18:00</td>\n      <td>0 days 00:01:00</td>\n    </tr>\n    <tr>\n      <th>104</th>\n      <td>2019-09-02 07:26:00</td>\n      <td>6</td>\n      <td>dairy</td>\n      <td>07:26:00</td>\n      <td>26</td>\n      <td>monday</td>\n      <td>5</td>\n      <td>spices</td>\n      <td>2019-09-02 07:25:00</td>\n      <td>0 days 00:01:00</td>\n    </tr>\n    <tr>\n      <th>117</th>\n      <td>2019-09-02 07:27:00</td>\n      <td>6</td>\n      <td>spices</td>\n      <td>07:27:00</td>\n      <td>27</td>\n      <td>monday</td>\n      <td>3</td>\n      <td>dairy</td>\n      <td>2019-09-02 07:26:00</td>\n      <td>0 days 00:02:00</td>\n    </tr>\n    <tr>\n      <th>135</th>\n      <td>2019-09-02 07:29:00</td>\n      <td>6</td>\n      <td>checkout</td>\n      <td>07:29:00</td>\n      <td>29</td>\n      <td>monday</td>\n      <td>0</td>\n      <td>spices</td>\n      <td>2019-09-02 07:27:00</td>\n      <td>NaT</td>\n    </tr>\n  </tbody>\n</table>\n</div>"
     },
     "metadata": {},
     "execution_count": 39
    }
   ],
   "source": [
    "# New strategy to calculate the revenue based on the time spent in the market\n",
    "\n",
    "def revenue_per_customer(df, customer_no):\n",
    "    \"\"\"\n",
    "    Given a dataframe creates new dataframes\n",
    "    with the revenue made per customer per day\n",
    "    \"\"\"\n",
    "\n",
    "    for i in range(df[\"customer_no\"].max()):\n",
    "        customer_data = monday[monday[\"customer_no\"].isin([customer_no])].copy()\n",
    "        customer_data['location_before'] = customer_data['location'].shift(1).fillna('entrance')\n",
    "        customer_data['timnestamp_before'] = customer_data['timestamp'].shift(1)\n",
    "        customer_data['time_spent'] = customer_data['timestamp'] - customer_data['timnestamp_before']\n",
    "        customer_data['time_spent'] = customer_data['time_spent'].shift(-1)\n",
    "        return customer_data\n",
    "\n",
    "df1 = revenue_per_customer(monday, 6)\n",
    "df1"
   ]
  },
  {
   "cell_type": "code",
   "execution_count": null,
   "metadata": {},
   "outputs": [],
   "source": []
  }
 ],
 "metadata": {
  "kernelspec": {
   "display_name": "Python 3",
   "language": "python",
   "name": "python3"
  },
  "language_info": {
   "codemirror_mode": {
    "name": "ipython",
    "version": 3
   },
   "file_extension": ".py",
   "mimetype": "text/x-python",
   "name": "python",
   "nbconvert_exporter": "python",
   "pygments_lexer": "ipython3",
   "version": "3.8.5-final"
  }
 },
 "nbformat": 4,
 "nbformat_minor": 4
}