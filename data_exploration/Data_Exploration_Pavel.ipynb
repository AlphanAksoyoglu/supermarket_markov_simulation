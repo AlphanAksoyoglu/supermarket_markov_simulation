{
 "cells": [
  {
   "cell_type": "code",
   "execution_count": 1,
   "metadata": {},
   "outputs": [],
   "source": [
    "import pandas as pd"
   ]
  },
  {
   "cell_type": "markdown",
   "metadata": {},
   "source": [
    "<h2 style=\"color:green\">🟩 Tasks</h2>\n",
    "\n",
    "Our sales department is interested in a summary of the collected data. Please generate a report including numbers and diagrams. Note that your audience are not data scientists, so take care to prepare insights that are as clear as possible. We are interested in the following:\n",
    "\n",
    "1. Calculate the total number of customers in each section\n",
    "\n",
    "2. Calculate the total number of customers in each section over time\n",
    "\n",
    "3. Display the number of customers at checkout over time\n",
    "\n",
    "4. Calculate the time each customer spent in the market\n",
    "\n",
    "5. Calculate the total number of customers in the supermarket over time\n",
    "\n",
    "6. Our business managers think that the first section customers visit follows a different pattern than the following ones. Plot the distribution of customers of their first visited section versus following sections (treat all sections visited after the first as “following”)."
   ]
  },
  {
   "cell_type": "code",
   "execution_count": 2,
   "metadata": {},
   "outputs": [],
   "source": [
    "df_mon = pd.read_csv('../data/monday.csv', sep=';')\n",
    "df_tue = pd.read_csv('../data/tuesday.csv', sep=';')\n",
    "df_wed = pd.read_csv('../data/wednesday.csv', sep=';')\n",
    "df_thu = pd.read_csv('../data/thursday.csv', sep=';')\n",
    "df_fri = pd.read_csv('../data/friday.csv', sep=';')"
   ]
  },
  {
   "cell_type": "code",
   "execution_count": 3,
   "metadata": {},
   "outputs": [
    {
     "output_type": "execute_result",
     "data": {
      "text/plain": [
       "             timestamp  customer_no location\n",
       "0  2019-09-05 07:00:00            1   drinks\n",
       "1  2019-09-05 07:01:00            2    fruit"
      ],
      "text/html": "<div>\n<style scoped>\n    .dataframe tbody tr th:only-of-type {\n        vertical-align: middle;\n    }\n\n    .dataframe tbody tr th {\n        vertical-align: top;\n    }\n\n    .dataframe thead th {\n        text-align: right;\n    }\n</style>\n<table border=\"1\" class=\"dataframe\">\n  <thead>\n    <tr style=\"text-align: right;\">\n      <th></th>\n      <th>timestamp</th>\n      <th>customer_no</th>\n      <th>location</th>\n    </tr>\n  </thead>\n  <tbody>\n    <tr>\n      <th>0</th>\n      <td>2019-09-05 07:00:00</td>\n      <td>1</td>\n      <td>drinks</td>\n    </tr>\n    <tr>\n      <th>1</th>\n      <td>2019-09-05 07:01:00</td>\n      <td>2</td>\n      <td>fruit</td>\n    </tr>\n  </tbody>\n</table>\n</div>"
     },
     "metadata": {},
     "execution_count": 3
    }
   ],
   "source": [
    "df_thu.head(2)"
   ]
  },
  {
   "cell_type": "markdown",
   "metadata": {},
   "source": [
    "---\n",
    "<h2 style=\"color:green\">🟩 1. Calculate the total number of customers in each section</h2>"
   ]
  },
  {
   "cell_type": "code",
   "execution_count": 4,
   "metadata": {},
   "outputs": [],
   "source": [
    "df_mon_cust = df_mon.groupby('location').nunique()\n",
    "df_tue_cust = df_tue.groupby('location').nunique()\n",
    "df_wed_cust = df_wed.groupby('location').nunique()\n",
    "df_thu_cust = df_thu.groupby('location').nunique()\n",
    "df_fri_cust = df_fri.groupby('location').nunique()"
   ]
  },
  {
   "cell_type": "code",
   "execution_count": 5,
   "metadata": {},
   "outputs": [
    {
     "output_type": "execute_result",
     "data": {
      "text/plain": [
       "          timestamp  customer_no\n",
       "location                        \n",
       "checkout        700         1437\n",
       "dairy           527          720\n",
       "drinks          514          661\n",
       "fruit           577          827\n",
       "spices          479          584"
      ],
      "text/html": "<div>\n<style scoped>\n    .dataframe tbody tr th:only-of-type {\n        vertical-align: middle;\n    }\n\n    .dataframe tbody tr th {\n        vertical-align: top;\n    }\n\n    .dataframe thead th {\n        text-align: right;\n    }\n</style>\n<table border=\"1\" class=\"dataframe\">\n  <thead>\n    <tr style=\"text-align: right;\">\n      <th></th>\n      <th>timestamp</th>\n      <th>customer_no</th>\n    </tr>\n    <tr>\n      <th>location</th>\n      <th></th>\n      <th></th>\n    </tr>\n  </thead>\n  <tbody>\n    <tr>\n      <th>checkout</th>\n      <td>700</td>\n      <td>1437</td>\n    </tr>\n    <tr>\n      <th>dairy</th>\n      <td>527</td>\n      <td>720</td>\n    </tr>\n    <tr>\n      <th>drinks</th>\n      <td>514</td>\n      <td>661</td>\n    </tr>\n    <tr>\n      <th>fruit</th>\n      <td>577</td>\n      <td>827</td>\n    </tr>\n    <tr>\n      <th>spices</th>\n      <td>479</td>\n      <td>584</td>\n    </tr>\n  </tbody>\n</table>\n</div>"
     },
     "metadata": {},
     "execution_count": 5
    }
   ],
   "source": [
    "df_mon_cust"
   ]
  },
  {
   "cell_type": "markdown",
   "metadata": {},
   "source": [
    "---\n",
    "<h2 style=\"color:green\">🟩 2. Calculate the total number of customers in each section over time</h2>"
   ]
  },
  {
   "cell_type": "code",
   "execution_count": 6,
   "metadata": {},
   "outputs": [],
   "source": [
    "df_all_cust = df_mon_cust + df_tue_cust + df_wed_cust + df_thu_cust + df_fri_cust"
   ]
  },
  {
   "cell_type": "code",
   "execution_count": 7,
   "metadata": {},
   "outputs": [
    {
     "output_type": "execute_result",
     "data": {
      "text/plain": [
       "          timestamp  customer_no\n",
       "location                        \n",
       "checkout       3460         7417\n",
       "dairy          2681         3818\n",
       "drinks         2479         3214\n",
       "fruit          2824         4284\n",
       "spices         2395         2938"
      ],
      "text/html": "<div>\n<style scoped>\n    .dataframe tbody tr th:only-of-type {\n        vertical-align: middle;\n    }\n\n    .dataframe tbody tr th {\n        vertical-align: top;\n    }\n\n    .dataframe thead th {\n        text-align: right;\n    }\n</style>\n<table border=\"1\" class=\"dataframe\">\n  <thead>\n    <tr style=\"text-align: right;\">\n      <th></th>\n      <th>timestamp</th>\n      <th>customer_no</th>\n    </tr>\n    <tr>\n      <th>location</th>\n      <th></th>\n      <th></th>\n    </tr>\n  </thead>\n  <tbody>\n    <tr>\n      <th>checkout</th>\n      <td>3460</td>\n      <td>7417</td>\n    </tr>\n    <tr>\n      <th>dairy</th>\n      <td>2681</td>\n      <td>3818</td>\n    </tr>\n    <tr>\n      <th>drinks</th>\n      <td>2479</td>\n      <td>3214</td>\n    </tr>\n    <tr>\n      <th>fruit</th>\n      <td>2824</td>\n      <td>4284</td>\n    </tr>\n    <tr>\n      <th>spices</th>\n      <td>2395</td>\n      <td>2938</td>\n    </tr>\n  </tbody>\n</table>\n</div>"
     },
     "metadata": {},
     "execution_count": 7
    }
   ],
   "source": [
    "df_all_cust"
   ]
  },
  {
   "cell_type": "markdown",
   "metadata": {},
   "source": [
    "---\n",
    "<h2 style=\"color:green\">🟩 3. Display the number of customers at checkout over time</h2>"
   ]
  },
  {
   "cell_type": "code",
   "execution_count": 9,
   "metadata": {},
   "outputs": [],
   "source": [
    "checkout_all = df_all_cust.loc['checkout']['customer_no']"
   ]
  },
  {
   "cell_type": "code",
   "execution_count": 10,
   "metadata": {},
   "outputs": [
    {
     "output_type": "execute_result",
     "data": {
      "text/plain": [
       "7417"
      ]
     },
     "metadata": {},
     "execution_count": 10
    }
   ],
   "source": [
    "checkout_all"
   ]
  },
  {
   "source": [
    "---\n",
    "<h2 style=\"color:green\">🟩 4. Calculate the time each customer spent in the market</h2>"
   ],
   "cell_type": "markdown",
   "metadata": {}
  },
  {
   "cell_type": "code",
   "execution_count": 56,
   "metadata": {},
   "outputs": [
    {
     "output_type": "execute_result",
     "data": {
      "text/plain": [
       "                               timestamp\n",
       "customer_no location                    \n",
       "1           checkout 2019-09-02 07:05:00\n",
       "            dairy    2019-09-02 07:03:00\n",
       "2           checkout 2019-09-02 07:06:00\n",
       "            dairy    2019-09-02 07:03:00\n",
       "3           checkout 2019-09-02 07:06:00\n",
       "...                                  ...\n",
       "1444        checkout 2019-09-02 21:49:00\n",
       "            spices   2019-09-02 21:48:00\n",
       "1445        dairy    2019-09-02 21:49:00\n",
       "1446        dairy    2019-09-02 21:50:00\n",
       "1447        fruit    2019-09-02 21:50:00\n",
       "\n",
       "[4229 rows x 1 columns]"
      ],
      "text/html": "<div>\n<style scoped>\n    .dataframe tbody tr th:only-of-type {\n        vertical-align: middle;\n    }\n\n    .dataframe tbody tr th {\n        vertical-align: top;\n    }\n\n    .dataframe thead th {\n        text-align: right;\n    }\n</style>\n<table border=\"1\" class=\"dataframe\">\n  <thead>\n    <tr style=\"text-align: right;\">\n      <th></th>\n      <th></th>\n      <th>timestamp</th>\n    </tr>\n    <tr>\n      <th>customer_no</th>\n      <th>location</th>\n      <th></th>\n    </tr>\n  </thead>\n  <tbody>\n    <tr>\n      <th rowspan=\"2\" valign=\"top\">1</th>\n      <th>checkout</th>\n      <td>2019-09-02 07:05:00</td>\n    </tr>\n    <tr>\n      <th>dairy</th>\n      <td>2019-09-02 07:03:00</td>\n    </tr>\n    <tr>\n      <th rowspan=\"2\" valign=\"top\">2</th>\n      <th>checkout</th>\n      <td>2019-09-02 07:06:00</td>\n    </tr>\n    <tr>\n      <th>dairy</th>\n      <td>2019-09-02 07:03:00</td>\n    </tr>\n    <tr>\n      <th>3</th>\n      <th>checkout</th>\n      <td>2019-09-02 07:06:00</td>\n    </tr>\n    <tr>\n      <th>...</th>\n      <th>...</th>\n      <td>...</td>\n    </tr>\n    <tr>\n      <th rowspan=\"2\" valign=\"top\">1444</th>\n      <th>checkout</th>\n      <td>2019-09-02 21:49:00</td>\n    </tr>\n    <tr>\n      <th>spices</th>\n      <td>2019-09-02 21:48:00</td>\n    </tr>\n    <tr>\n      <th>1445</th>\n      <th>dairy</th>\n      <td>2019-09-02 21:49:00</td>\n    </tr>\n    <tr>\n      <th>1446</th>\n      <th>dairy</th>\n      <td>2019-09-02 21:50:00</td>\n    </tr>\n    <tr>\n      <th>1447</th>\n      <th>fruit</th>\n      <td>2019-09-02 21:50:00</td>\n    </tr>\n  </tbody>\n</table>\n<p>4229 rows × 1 columns</p>\n</div>"
     },
     "metadata": {},
     "execution_count": 56
    }
   ],
   "source": [
    "df_mon['timestamp'] = pd.to_datetime(df_mon['timestamp'])\n",
    "df_mon_cust_loc = df_mon.groupby(['customer_no','location']).min().copy()\n",
    "#df_mon_cust_loc = df_mon_cust_loc.diff()\n",
    "#df_mon_cust_loc.transpose()\n",
    "\n",
    "#df_mon_cust_loc = df_mon.pivot(index='customer_no', columns='location', values='timestamp')\n",
    "\n",
    "df_mon_cust_loc"
   ]
  },
  {
   "source": [
    "---\n",
    "<h2 style=\"color:green\">🟩 5. Calculate the total number of customers in the supermarket over time</h2>"
   ],
   "cell_type": "markdown",
   "metadata": {}
  },
  {
   "cell_type": "code",
   "execution_count": null,
   "metadata": {},
   "outputs": [],
   "source": []
  }
 ],
 "metadata": {
  "kernelspec": {
   "display_name": "Python 3",
   "language": "python",
   "name": "python3"
  },
  "language_info": {
   "codemirror_mode": {
    "name": "ipython",
    "version": 3
   },
   "file_extension": ".py",
   "mimetype": "text/x-python",
   "name": "python",
   "nbconvert_exporter": "python",
   "pygments_lexer": "ipython3",
   "version": "3.8.5-final"
  }
 },
 "nbformat": 4,
 "nbformat_minor": 4
}