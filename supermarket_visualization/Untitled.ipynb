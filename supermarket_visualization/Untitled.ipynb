{
 "cells": [
  {
   "cell_type": "code",
   "execution_count": null,
   "metadata": {},
   "outputs": [],
   "source": [
    "    # Animation:\n",
    "class Customer:\n",
    "\n",
    "    def __init__(self, terrain_map, image, x, y):\n",
    "\n",
    "        self.terrain_map = terrain_map\n",
    "        self.image = image.SupermarketMap((32, 32)) # ???\n",
    "        self.x = x\n",
    "        self.y = y\n",
    "\n",
    "    def draw(self, frame):\n",
    "        xpos = OFS + self.x * TILE_SIZE\n",
    "        ypos = OFS + self.x * TILE_SIZE\n",
    "        frame[ypos: self.x, xpos: self.x] = self.image\n",
    "        # overlay the Customer image / sprite onto the frame\n",
    "    \n",
    "    def __repr__(self):\n",
    "        \"\"\"\n",
    "        Returns a csv string for that customer.\n",
    "        \"\"\"\n",
    "        return f'{self.terrain_map};{self.image}'\n",
    "    \n",
    "    \n",
    "    \n",
    "    "
   ]
  },
  {
   "cell_type": "code",
   "execution_count": null,
   "metadata": {},
   "outputs": [],
   "source": [
    "  def get_tile(self, char):\n",
    "        \"\"\"returns the array for a given tile character\"\"\"\n",
    "        if char == \"#\":\n",
    "            return self.tiles[0:32, 0:32]\n",
    "        elif char == \"G\": # gates\n",
    "            return self.tiles[8 * 32 : 9 * 32, 3 * 32 : 4 * 32] \n",
    "        elif char == \"W\": # window\n",
    "            return self.tiles[8 * 32 : 9 * 32, 4 * 32 : 5 * 32]\n",
    "        elif char == \"C\": # checkout\n",
    "            return self.tiles[2 * 32 : 3 * 32, 8 * 32 : 9 * 32]\n",
    "        elif char == \"F\": # fruits\n",
    "            return self.tiles[1 * 32 : 2 * 32, 4 * 32 : 5 * 32] \n",
    "        elif char == \"S\": # spices\n",
    "            return self.tiles[1 * 32 : 2 * 32, 3 * 32 : 4 * 32]       \n",
    "        elif char == \"R\": # dairy\n",
    "            return self.tiles[8 * 32 : 9 * 32, 7 * 32 : 8 * 32] \n",
    "        elif char == \"D\": # drinks\n",
    "            return self.tiles[6 * 32 : 7 * 32, 13 * 32 : 14 * 32] \n",
    "        elif char == \"c\": # customer/shopping cart\n",
    "            return self.tiles[8 * 32 : 9 * 32, 6 * 32 : 7 * 32] \n",
    "        else:\n",
    "            return self.tiles[32:64, 64:96]\n"
   ]
  },
  {
   "cell_type": "code",
   "execution_count": null,
   "metadata": {},
   "outputs": [],
   "source": [
    "MARKET = \"\"\"\n",
    "##################\n",
    "##....c...c......#\n",
    "##..DR..RS..SF..F#\n",
    "##c.DRc.RS..SFc.F#\n",
    "##..DR..RS.cSF..F#\n",
    "##.cDR.cRS..SF..F#\n",
    "##..DR..RS..SF..F#\n",
    "##..c....c....c..#\n",
    "##..CC..CC..CC...#\n",
    "##.............c.#\n",
    "##...............#\n",
    "##WW##WW##WW##GG##\n",
    "\"\"\".strip()"
   ]
  }
 ],
 "metadata": {
  "kernelspec": {
   "display_name": "Python 3",
   "language": "python",
   "name": "python3"
  },
  "language_info": {
   "codemirror_mode": {
    "name": "ipython",
    "version": 3
   },
   "file_extension": ".py",
   "mimetype": "text/x-python",
   "name": "python",
   "nbconvert_exporter": "python",
   "pygments_lexer": "ipython3",
   "version": "3.8.5"
  }
 },
 "nbformat": 4,
 "nbformat_minor": 4
}
