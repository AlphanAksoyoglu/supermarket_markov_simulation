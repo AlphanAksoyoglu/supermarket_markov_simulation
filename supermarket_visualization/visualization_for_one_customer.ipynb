{
 "metadata": {
  "language_info": {
   "codemirror_mode": {
    "name": "ipython",
    "version": 3
   },
   "file_extension": ".py",
   "mimetype": "text/x-python",
   "name": "python",
   "nbconvert_exporter": "python",
   "pygments_lexer": "ipython3",
   "version": "3.8.5-final"
  },
  "orig_nbformat": 2,
  "kernelspec": {
   "name": "python3",
   "display_name": "Python 3.8.5 64-bit ('base': conda)",
   "metadata": {
    "interpreter": {
     "hash": "ccf6bd6ccc18564b41aa2c475b9f9ab0d891c8fb870d48e8f97a3f7d59afa688"
    }
   }
  }
 },
 "nbformat": 4,
 "nbformat_minor": 2,
 "cells": [
  {
   "cell_type": "code",
   "execution_count": 1,
   "metadata": {},
   "outputs": [],
   "source": [
    "import pandas as pd\n",
    "import numpy as np\n",
    "import cv2\n",
    "import time"
   ]
  },
  {
   "cell_type": "code",
   "execution_count": 83,
   "metadata": {},
   "outputs": [],
   "source": [
    "matrix_monday = pd.read_csv('../data/mm_monday.csv', index_col = 0).T\n",
    "matrix_monday = np.array(matrix_monday)\n",
    "simulated_data = pd.read_csv('../data/sim_c10_till_20.csv', sep=',')\n",
    "\n",
    "TILE_SIZE = 32\n",
    "OFS = 50\n",
    "order = {'G':0,\n",
    "'D':1,\n",
    "'R':2,\n",
    "'S':3,\n",
    "'F':4,\n",
    "'C':5\n",
    "}\n",
    "order_map = {'entry':'G','drinks':'D','dairy':'R','spices':'S','fruits':'F','checkout':'C'}\n",
    "\n",
    "MARKET = \"\"\"\n",
    "##################\n",
    "#................#\n",
    "#D..DR..RS..SF..F#\n",
    "#D..DR..RS..SF..F#\n",
    "#D..DR..RS..SFffF#\n",
    "#D..DR..RS..SF..F#\n",
    "#D..DR..RS..SF..F#\n",
    "#bbbbbbbbbbbbbbbb#\n",
    "#...CC..CC..CC...#\n",
    "#...CC..CC..CC...#\n",
    "#................#\n",
    "##WW##WW##WW##GG##\n",
    "\"\"\".strip()"
   ]
  },
  {
   "cell_type": "code",
   "execution_count": 84,
   "metadata": {},
   "outputs": [],
   "source": [
    "class SupermarketMap:\n",
    "    \"\"\"Visualizes the supermarket background\"\"\"\n",
    "\n",
    "    def __init__(self, layout, tiles):\n",
    "        \"\"\"\n",
    "        layout : a string with each character representing a tile\n",
    "        tile   : a numpy array containing the tile image\n",
    "        \"\"\"\n",
    "        self.tiles = tiles\n",
    "        self.contents = [list(row) for row in layout.split(\"\\n\")]\n",
    "        self.xsize = len(self.contents[0])\n",
    "        self.ysize = len(self.contents)\n",
    "        self.image = np.zeros(\n",
    "            (self.ysize * TILE_SIZE, self.xsize * TILE_SIZE, 3), dtype=np.uint8\n",
    "        )\n",
    "        self.prepare_map()\n",
    "\n",
    "    def get_tile(self, char):\n",
    "        \"\"\"returns the array for a given tile character\"\"\"\n",
    "        if char == \"#\":\n",
    "            return self.tiles[0:32, 0:32]\n",
    "        elif char == \"G\": # gates\n",
    "            return self.tiles[8 * 32 : 9 * 32, 3 * 32 : 4 * 32] \n",
    "        elif char == \"W\": # window\n",
    "            return self.tiles[8 * 32 : 9 * 32, 4 * 32 : 5 * 32]\n",
    "        elif char == \"C\": # checkout\n",
    "            return self.tiles[2 * 32 : 3 * 32, 8 * 32 : 9 * 32]\n",
    "        elif char == \"F\": # fruits\n",
    "            return self.tiles[1 * 32 : 2 * 32, 4 * 32 : 5 * 32] \n",
    "        elif char == \"S\": # spices\n",
    "            return self.tiles[1 * 32 : 2 * 32, 3 * 32 : 4 * 32]       \n",
    "        elif char == \"R\": # dairy\n",
    "            return self.tiles[8 * 32 : 9 * 32, 7 * 32 : 8 * 32] \n",
    "        elif char == \"D\": # drinks\n",
    "            return self.tiles[6 * 32 : 7 * 32, 13 * 32 : 14 * 32] \n",
    "        elif char == \"c\": # customer/shopping cart\n",
    "            return self.tiles[8 * 32 : 9 * 32, 6 * 32 : 7 * 32] \n",
    "        else:\n",
    "            return self.tiles[32:64, 64:96]\n",
    "\n",
    "    def prepare_map(self):\n",
    "        \"\"\"prepares the entire image as a big numpy array\"\"\"\n",
    "        for y, row in enumerate(self.contents):\n",
    "            for x, tile in enumerate(row):\n",
    "                bm = self.get_tile(tile)\n",
    "                self.image[\n",
    "                    y * TILE_SIZE : (y + 1) * TILE_SIZE,\n",
    "                    x * TILE_SIZE : (x + 1) * TILE_SIZE,\n",
    "                ] = bm\n",
    "\n",
    "    def draw(self, frame, offset=OFS):\n",
    "        \"\"\"\n",
    "        draws the image into a frame\n",
    "        offset pixels from the top left corner\n",
    "        \"\"\"\n",
    "        frame[\n",
    "            OFS : OFS + self.image.shape[0], OFS : OFS + self.image.shape[1]\n",
    "        ] = self.image\n",
    "\n",
    "    def write_image(self, filename):\n",
    "        \"\"\"writes the image into a file\"\"\"\n",
    "        cv2.imwrite(filename, self.image)"
   ]
  },
  {
   "cell_type": "code",
   "execution_count": 104,
   "metadata": {},
   "outputs": [],
   "source": [
    "class Customer:\n",
    "    \n",
    "    def __init__(self, idn, state, transition_mat, terrain_map, image, x, y):\n",
    "    #def __init__(self,terrain_map, image, x, y):\n",
    "        self.id = idn\n",
    "        self.state = state\n",
    "        self.transition_mat = transition_mat\n",
    "\n",
    "        self.terrain_map = terrain_map\n",
    "        self.image = image\n",
    "        self.x = x\n",
    "        self.y = y\n",
    "\n",
    "        self.tr_array_dict = {\n",
    "        'dairy' : self.transition_mat[0,:],\n",
    "        'drinks' : self.transition_mat[1,:],\n",
    "        'entry' : self.transition_mat[2,:],\n",
    "        'fruit' : self.transition_mat[3,:],\n",
    "        'spices' : self.transition_mat[4,:]\n",
    "        }\n",
    "\n",
    "    def __repr__(self):\n",
    "        \"\"\"\n",
    "        Returns a csv string for that customer.\n",
    "        \"\"\"\n",
    "        #return f'{self.id};{self.state}'\n",
    "        return f'{self.x};{self.y}'\n",
    "    \n",
    "    def is_active(self):\n",
    "        \"\"\"\n",
    "        Returns True if the customer has not reached the checkout\n",
    "        for the second time yet, False otherwise.\n",
    "        \"\"\"\n",
    "        if self.state != 'checkout':\n",
    "            return True \n",
    "        if self.state == 'checkout':\n",
    "            return False \n",
    "\n",
    "    def next_state(self):\n",
    "        \"\"\"\n",
    "        Propagates the customer to the next state\n",
    "        using a weighted random choice from the transition probabilities\n",
    "        conditional on the current state.\n",
    "        Returns nothing.\n",
    "        \"\"\"\n",
    "      \n",
    "        self.state = np.random.choice(['checkout', 'dairy', 'drinks', 'fruit', 'spices'], p=self.tr_array_dict[f'{self.state}'])\n",
    "\n",
    "    def draw(self, frame):\n",
    "        xpos = OFS + self.x * TILE_SIZE\n",
    "        ypos = OFS + self.y * TILE_SIZE \n",
    "        frame[ypos-32:ypos, xpos-32:xpos] = self.image \n",
    "        # overlay the Customer image / sprite onto the frame\n",
    "\n",
    "    # def move(self, direction, frame):\n",
    "    #     newx = self.x\n",
    "    #     newy = self.y\n",
    "    #     if direction == 'up':\n",
    "    #         newy -= 1\n",
    "    #     if direction == 'down':\n",
    "    #         newy += 1\n",
    "    #     if direction == 'right':\n",
    "    #         newx += 1\n",
    "    #     if direction == 'left':\n",
    "    #         newx -= 1\n",
    "    #     #if self.terrain_map.contents[newy][newx] == 'f':\n",
    "    #     if self.terrain_map.contents[newy][newx] != 'F':\n",
    "    #         self.x = newx\n",
    "    #         self.y = newy\n",
    "    #     self.draw(frame)\n",
    "    \n",
    "    def move_to_band(self, direction,frame):\n",
    "        newx = self.x\n",
    "        newy = self.y\n",
    "        \n",
    "        if direction == 'up':\n",
    "            newy -= 1\n",
    "        if direction == 'down':\n",
    "            newy += 1\n",
    "        \n",
    "        if self.terrain_map.contents[newy][newx] != 'b':\n",
    "            self.x = newx\n",
    "            self.y = newy\n",
    "        self.draw(frame)\n",
    "\n",
    "    def move_to_first_location(self,direction, frame):\n",
    "        newx = self.x\n",
    "        newy = self.y\n",
    "        \n",
    "        if direction == 'up':\n",
    "            newy -= 1\n",
    "        if direction == 'down':\n",
    "            newy += 1\n",
    "        \n",
    "        if self.terrain_map.contents[newy][newx] != 'F':\n",
    "            self.x = newx\n",
    "            self.y = newy\n",
    "        self.draw(frame)\n",
    "\n",
    "    def move_to_change_location(self,direction, frame):\n",
    "        newx = self.x\n",
    "        newy = self.y\n",
    "        \n",
    "        if direction == 'up':\n",
    "            newy -= 1\n",
    "        if direction == 'down':\n",
    "            newy += 1\n",
    "        \n",
    "        if self.terrain_map.contents[newy][newx] != 'F':\n",
    "            self.x = newx\n",
    "            self.y = newy\n",
    "        self.draw(frame)\n",
    "\n",
    "    \n",
    "    def move(self,direction,frame,loc):\n",
    "        \n",
    "        if self.terrain_map.contents[self.y][self.x -1] == 'G':\n",
    "            self.move_to_band(direction,frame)\n",
    "            self.move_to_first_location(direction,frame)\n",
    "        elif self.terrain_map.contents[self.y][self.x] in 'DFRS':\n",
    "            self.move_change_location(direction,frame)\n",
    "        elif self.terrain_map.contents[self.y][self.x] == 'C':\n",
    "            self.move_to_checkout(direction,frame)\n",
    "        \n",
    "        # newx = self.x\n",
    "        # newy = self.y\n",
    "        # if order[order_map[direction]] > order[order_map['fruits']]:\n",
    "        #     direction = 'left'\n",
    "\n",
    "        # if direction == 'up':\n",
    "        #     newy -= 1\n",
    "        # if direction == 'down':\n",
    "        #     newy += 1\n",
    "        # if direction == 'right':\n",
    "        #     newx += 1\n",
    "        # if direction == 'left':\n",
    "        #     newx -= 1\n",
    "        # #if self.terrain_map.contents[newy][newx] == 'f':\n",
    "        # if self.terrain_map.contents[newy][newx] != order[order_map[direction]]:\n",
    "        #     self.x = newx\n",
    "        #     self.y = newy\n",
    "        # self.draw(frame)\n",
    "\n"
   ]
  },
  {
   "cell_type": "code",
   "execution_count": 105,
   "metadata": {},
   "outputs": [],
   "source": [
    "background = np.zeros((700, 1000, 3), np.uint8)\n",
    "tiles = cv2.imread(\"tiles_new.png\") # the cv2.imread() function reads in the image as a NumPy array, so it can be sliced within the program.\n",
    "\n",
    "market = SupermarketMap(MARKET, tiles)\n",
    "customer_image = SupermarketMap(MARKET, tiles).get_tile('c')\n",
    "\n",
    "\n",
    "customer1 = Customer(1, 'entry', matrix_monday, market, customer_image, 16, 11)\n",
    "#customer = Customer(market, customer_image, 4, 5)\n",
    "#Customer(terrain_map, image, x, y)\n",
    "\n",
    "while True:\n",
    "    frame = background.copy()\n",
    "    market.draw(frame)\n",
    "    \n",
    "    #customer1.draw(frame)\n",
    "    #customer2.draw(frame)\n",
    "    \n",
    "    customer1.move_to_first_location('up',frame)\n",
    "    \n",
    "    time.sleep(1)\n",
    "    cv2.imshow(\"frame\", frame) # the cv2.imshow() method is what’s actually displaying each frame on the screen\n",
    "\n",
    "    key = chr(cv2.waitKey(1) & 0xFF)\n",
    "    if key == \"q\":\n",
    "        break\n",
    "\n",
    "cv2.destroyAllWindows()\n",
    "\n",
    "#market.write_image(\"supermarket.png\")"
   ]
  },
  {
   "cell_type": "code",
   "execution_count": 91,
   "metadata": {},
   "outputs": [],
   "source": [
    "market = SupermarketMap(MARKET, tiles)"
   ]
  },
  {
   "cell_type": "code",
   "execution_count": 103,
   "metadata": {},
   "outputs": [
    {
     "output_type": "execute_result",
     "data": {
      "text/plain": [
       "'#'"
      ]
     },
     "metadata": {},
     "execution_count": 103
    }
   ],
   "source": [
    "market.contents[11][16]"
   ]
  },
  {
   "cell_type": "code",
   "execution_count": 61,
   "metadata": {},
   "outputs": [
    {
     "output_type": "error",
     "ename": "TypeError",
     "evalue": "list indices must be integers or slices, not str",
     "traceback": [
      "\u001b[0;31m---------------------------------------------------------------------------\u001b[0m",
      "\u001b[0;31mTypeError\u001b[0m                                 Traceback (most recent call last)",
      "\u001b[0;32m<ipython-input-61-66270ccc1116>\u001b[0m in \u001b[0;36m<module>\u001b[0;34m\u001b[0m\n\u001b[0;32m----> 1\u001b[0;31m \u001b[0morder\u001b[0m\u001b[0;34m[\u001b[0m\u001b[0;34m'F'\u001b[0m\u001b[0;34m]\u001b[0m\u001b[0;34m\u001b[0m\u001b[0;34m\u001b[0m\u001b[0m\n\u001b[0m",
      "\u001b[0;31mTypeError\u001b[0m: list indices must be integers or slices, not str"
     ]
    }
   ],
   "source": [
    "order['F']"
   ]
  },
  {
   "cell_type": "code",
   "execution_count": 66,
   "metadata": {},
   "outputs": [
    {
     "output_type": "execute_result",
     "data": {
      "text/plain": [
       "'entry'"
      ]
     },
     "metadata": {},
     "execution_count": 66
    }
   ],
   "source": [
    "customer1.state"
   ]
  },
  {
   "cell_type": "code",
   "execution_count": 69,
   "metadata": {},
   "outputs": [
    {
     "output_type": "stream",
     "name": "stdout",
     "text": [
      "move left\n"
     ]
    }
   ],
   "source": [
    "if order[order_map['fruits']] > order[order_map['drinks']]:\n",
    "    print ('move left')"
   ]
  },
  {
   "cell_type": "code",
   "execution_count": null,
   "metadata": {},
   "outputs": [],
   "source": []
  }
 ]
}